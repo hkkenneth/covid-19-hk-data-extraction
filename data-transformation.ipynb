{
 "cells": [
  {
   "cell_type": "markdown",
   "metadata": {
    "colab_type": "text",
    "id": "rX4CdNQITvZZ"
   },
   "source": [
    "# Data Transformation from parquet"
   ]
  },
  {
   "cell_type": "markdown",
   "metadata": {
    "colab_type": "text",
    "id": "tgQ7Dv0WT3E1"
   },
   "source": [
    "## 1. Import libraries"
   ]
  },
  {
   "cell_type": "code",
   "execution_count": 1,
   "metadata": {
    "colab": {},
    "colab_type": "code",
    "id": "9DtsWs2rTco8"
   },
   "outputs": [],
   "source": [
    "import pandas as pd"
   ]
  },
  {
   "cell_type": "code",
   "execution_count": 2,
   "metadata": {
    "colab": {},
    "colab_type": "code",
    "id": "6bQCCY2EtRPc"
   },
   "outputs": [],
   "source": [
    "from pandas.api.types import CategoricalDtype"
   ]
  },
  {
   "cell_type": "code",
   "execution_count": 3,
   "metadata": {
    "colab": {},
    "colab_type": "code",
    "id": "O0aj502GAoMc"
   },
   "outputs": [],
   "source": [
    "from datetime import datetime"
   ]
  },
  {
   "cell_type": "markdown",
   "metadata": {
    "colab_type": "text",
    "id": "__Jq3sDlTusc"
   },
   "source": [
    "## 2 Obtain the data in pickle"
   ]
  },
  {
   "cell_type": "code",
   "execution_count": 4,
   "metadata": {
    "colab": {},
    "colab_type": "code",
    "id": "1z5UHKHen7Zt"
   },
   "outputs": [],
   "source": [
    "!#curl -O https://raw.githubusercontent.com/hkkenneth/covid-19-hk-data-extraction/master/raw-old-en.parquet"
   ]
  },
  {
   "cell_type": "code",
   "execution_count": 5,
   "metadata": {
    "colab": {},
    "colab_type": "code",
    "id": "tqAPmQ8Ua_Dd"
   },
   "outputs": [],
   "source": [
    "!#curl -O https://raw.githubusercontent.com/hkkenneth/covid-19-hk-data-extraction/master/raw-new-en.parquet"
   ]
  },
  {
   "cell_type": "code",
   "execution_count": 6,
   "metadata": {
    "colab": {},
    "colab_type": "code",
    "id": "Xq045A4Ga-pU"
   },
   "outputs": [],
   "source": [
    "!#curl -O https://raw.githubusercontent.com/hkkenneth/covid-19-hk-data-extraction/master/raw-mode-en.parquet"
   ]
  },
  {
   "cell_type": "code",
   "execution_count": 7,
   "metadata": {
    "colab": {},
    "colab_type": "code",
    "id": "d8DABSfGa-b7"
   },
   "outputs": [],
   "source": [
    "!#curl -O https://raw.githubusercontent.com/hkkenneth/covid-19-hk-data-extraction/master/raw-cluster-en.parquet"
   ]
  },
  {
   "cell_type": "code",
   "execution_count": 8,
   "metadata": {
    "colab": {
     "base_uri": "https://localhost:8080/",
     "height": 85
    },
    "colab_type": "code",
    "id": "1drdZNhqUK2O",
    "outputId": "6e748cc6-cea6-454e-c5ea-a9b8f8770d0d"
   },
   "outputs": [
    {
     "name": "stdout",
     "output_type": "stream",
     "text": [
      "-rw-r--r-- 1 root root 8.3K Aug 16 08:20 raw-cluster-en.parquet\r\n",
      "-rw-r--r-- 1 root root 581K Aug 16 08:20 raw-en.dat\r\n",
      "-rw-r--r-- 1 root root 3.1K Aug 16 08:20 raw-mode-en.parquet\r\n",
      "-rw-r--r-- 1 root root 7.5K Aug 16 08:20 raw-new-en.parquet\r\n",
      "-rw-r--r-- 1 root root  46K Aug 16 08:20 raw-old-en.parquet\r\n"
     ]
    }
   ],
   "source": [
    "!ls -lah raw*"
   ]
  },
  {
   "cell_type": "code",
   "execution_count": 9,
   "metadata": {
    "colab": {},
    "colab_type": "code",
    "id": "Lxne5YkSc9RV"
   },
   "outputs": [],
   "source": [
    "hk_situation_en_old_df = pd.read_parquet('raw-old-en.parquet')"
   ]
  },
  {
   "cell_type": "code",
   "execution_count": 10,
   "metadata": {
    "colab": {},
    "colab_type": "code",
    "id": "qapBMEIvewsp"
   },
   "outputs": [],
   "source": [
    "hk_situation_en_new_df = pd.read_parquet('raw-new-en.parquet')"
   ]
  },
  {
   "cell_type": "code",
   "execution_count": 11,
   "metadata": {
    "colab": {},
    "colab_type": "code",
    "id": "eOZ7zz_FexJG"
   },
   "outputs": [],
   "source": [
    "hk_situation_en_cluster_df = pd.read_parquet('raw-cluster-en.parquet')"
   ]
  },
  {
   "cell_type": "code",
   "execution_count": 12,
   "metadata": {
    "colab": {},
    "colab_type": "code",
    "id": "6dUQr9lSexk8"
   },
   "outputs": [],
   "source": [
    "hk_situation_en_mode_df = pd.read_parquet('raw-mode-en.parquet')"
   ]
  },
  {
   "cell_type": "markdown",
   "metadata": {
    "colab_type": "text",
    "id": "zTgJOoVCVAin"
   },
   "source": [
    "## 3. Sanity check"
   ]
  },
  {
   "cell_type": "code",
   "execution_count": 13,
   "metadata": {
    "colab": {
     "base_uri": "https://localhost:8080/",
     "height": 34
    },
    "colab_type": "code",
    "id": "gECyHFJ2e8K_",
    "outputId": "5bd3fab9-8fc0-43ea-b4e6-cad245464760"
   },
   "outputs": [
    {
     "data": {
      "text/plain": [
       "pandas.core.frame.DataFrame"
      ]
     },
     "execution_count": 13,
     "metadata": {},
     "output_type": "execute_result"
    }
   ],
   "source": [
    "type(hk_situation_en_new_df)"
   ]
  },
  {
   "cell_type": "code",
   "execution_count": 14,
   "metadata": {
    "colab": {
     "base_uri": "https://localhost:8080/",
     "height": 34
    },
    "colab_type": "code",
    "id": "yj5kDTwYU-nd",
    "outputId": "a23db5bc-ac4b-40b9-a829-1933171232ef"
   },
   "outputs": [
    {
     "data": {
      "text/plain": [
       "(48, 8)"
      ]
     },
     "execution_count": 14,
     "metadata": {},
     "output_type": "execute_result"
    }
   ],
   "source": [
    "hk_situation_en_new_df.shape"
   ]
  },
  {
   "cell_type": "code",
   "execution_count": 15,
   "metadata": {
    "colab": {
     "base_uri": "https://localhost:8080/",
     "height": 255
    },
    "colab_type": "code",
    "id": "vt5AOt20VD9c",
    "outputId": "32b7aaa7-b01a-45a7-9e62-de611888a8da"
   },
   "outputs": [
    {
     "data": {
      "text/html": [
       "<div>\n",
       "<style scoped>\n",
       "    .dataframe tbody tr th:only-of-type {\n",
       "        vertical-align: middle;\n",
       "    }\n",
       "\n",
       "    .dataframe tbody tr th {\n",
       "        vertical-align: top;\n",
       "    }\n",
       "\n",
       "    .dataframe thead th {\n",
       "        text-align: right;\n",
       "    }\n",
       "</style>\n",
       "<table border=\"1\" class=\"dataframe\">\n",
       "  <thead>\n",
       "    <tr style=\"text-align: right;\">\n",
       "      <th></th>\n",
       "      <th>Case no.</th>\n",
       "      <th>Report date</th>\n",
       "      <th>Date of onset</th>\n",
       "      <th>Gender</th>\n",
       "      <th>Age</th>\n",
       "      <th>HK/Non-HK resident</th>\n",
       "      <th>Case classification</th>\n",
       "      <th>Confirmed/probable</th>\n",
       "    </tr>\n",
       "  </thead>\n",
       "  <tbody>\n",
       "    <tr>\n",
       "      <th>0</th>\n",
       "      <td>4314</td>\n",
       "      <td>14/08/2020</td>\n",
       "      <td>Asymptomatic</td>\n",
       "      <td>M</td>\n",
       "      <td>31</td>\n",
       "      <td>Unknown</td>\n",
       "      <td>Imported case</td>\n",
       "      <td>Confirmed</td>\n",
       "    </tr>\n",
       "    <tr>\n",
       "      <th>1</th>\n",
       "      <td>4315</td>\n",
       "      <td>14/08/2020</td>\n",
       "      <td>Asymptomatic</td>\n",
       "      <td>F</td>\n",
       "      <td>13</td>\n",
       "      <td>HK Resident</td>\n",
       "      <td>Epidemiologically linked with local case</td>\n",
       "      <td>Confirmed</td>\n",
       "    </tr>\n",
       "    <tr>\n",
       "      <th>2</th>\n",
       "      <td>4316</td>\n",
       "      <td>14/08/2020</td>\n",
       "      <td>03/08/2020</td>\n",
       "      <td>F</td>\n",
       "      <td>38</td>\n",
       "      <td>HK Resident</td>\n",
       "      <td>Local case</td>\n",
       "      <td>Confirmed</td>\n",
       "    </tr>\n",
       "    <tr>\n",
       "      <th>3</th>\n",
       "      <td>4317</td>\n",
       "      <td>14/08/2020</td>\n",
       "      <td>Asymptomatic</td>\n",
       "      <td>M</td>\n",
       "      <td>62</td>\n",
       "      <td>HK Resident</td>\n",
       "      <td>Epidemiologically linked with local case</td>\n",
       "      <td>Confirmed</td>\n",
       "    </tr>\n",
       "    <tr>\n",
       "      <th>4</th>\n",
       "      <td>4318</td>\n",
       "      <td>14/08/2020</td>\n",
       "      <td>31/07/2020</td>\n",
       "      <td>M</td>\n",
       "      <td>47</td>\n",
       "      <td>HK Resident</td>\n",
       "      <td>Local case</td>\n",
       "      <td>Confirmed</td>\n",
       "    </tr>\n",
       "  </tbody>\n",
       "</table>\n",
       "</div>"
      ],
      "text/plain": [
       "   Case no. Report date Date of onset Gender Age HK/Non-HK resident  \\\n",
       "0      4314  14/08/2020  Asymptomatic      M  31            Unknown   \n",
       "1      4315  14/08/2020  Asymptomatic      F  13        HK Resident   \n",
       "2      4316  14/08/2020    03/08/2020      F  38        HK Resident   \n",
       "3      4317  14/08/2020  Asymptomatic      M  62        HK Resident   \n",
       "4      4318  14/08/2020    31/07/2020      M  47        HK Resident   \n",
       "\n",
       "                        Case classification Confirmed/probable  \n",
       "0                             Imported case          Confirmed  \n",
       "1  Epidemiologically linked with local case          Confirmed  \n",
       "2                                Local case          Confirmed  \n",
       "3  Epidemiologically linked with local case          Confirmed  \n",
       "4                                Local case          Confirmed  "
      ]
     },
     "execution_count": 15,
     "metadata": {},
     "output_type": "execute_result"
    }
   ],
   "source": [
    "hk_situation_en_new_df.head()"
   ]
  },
  {
   "cell_type": "code",
   "execution_count": 16,
   "metadata": {
    "colab": {
     "base_uri": "https://localhost:8080/",
     "height": 343
    },
    "colab_type": "code",
    "id": "gm3nnfptVM7_",
    "outputId": "2ec7c945-8e07-440e-d0a5-dab5ca945983"
   },
   "outputs": [
    {
     "data": {
      "text/html": [
       "<div>\n",
       "<style scoped>\n",
       "    .dataframe tbody tr th:only-of-type {\n",
       "        vertical-align: middle;\n",
       "    }\n",
       "\n",
       "    .dataframe tbody tr th {\n",
       "        vertical-align: top;\n",
       "    }\n",
       "\n",
       "    .dataframe thead th {\n",
       "        text-align: right;\n",
       "    }\n",
       "</style>\n",
       "<table border=\"1\" class=\"dataframe\">\n",
       "  <thead>\n",
       "    <tr style=\"text-align: right;\">\n",
       "      <th></th>\n",
       "      <th>Case no.</th>\n",
       "      <th>Report date</th>\n",
       "      <th>Date of onset</th>\n",
       "      <th>Gender</th>\n",
       "      <th>Age</th>\n",
       "      <th>Hospitalised/Discharged/Deceased</th>\n",
       "      <th>HK/Non-HK resident</th>\n",
       "      <th>Case classification</th>\n",
       "      <th>Confirmed/probable</th>\n",
       "    </tr>\n",
       "  </thead>\n",
       "  <tbody>\n",
       "    <tr>\n",
       "      <th>0</th>\n",
       "      <td>1</td>\n",
       "      <td>23/01/2020</td>\n",
       "      <td>21/01/2020</td>\n",
       "      <td>M</td>\n",
       "      <td>39</td>\n",
       "      <td>Discharged</td>\n",
       "      <td>Non-HK resident</td>\n",
       "      <td>I</td>\n",
       "      <td>Confirmed</td>\n",
       "    </tr>\n",
       "    <tr>\n",
       "      <th>1</th>\n",
       "      <td>2</td>\n",
       "      <td>23/01/2020</td>\n",
       "      <td>18/01/2020</td>\n",
       "      <td>M</td>\n",
       "      <td>56</td>\n",
       "      <td>Discharged</td>\n",
       "      <td>HK resident</td>\n",
       "      <td>I</td>\n",
       "      <td>Confirmed</td>\n",
       "    </tr>\n",
       "    <tr>\n",
       "      <th>2</th>\n",
       "      <td>3</td>\n",
       "      <td>24/01/2020</td>\n",
       "      <td>20/01/2020</td>\n",
       "      <td>F</td>\n",
       "      <td>62</td>\n",
       "      <td>Discharged</td>\n",
       "      <td>Non-HK resident</td>\n",
       "      <td>I</td>\n",
       "      <td>Confirmed</td>\n",
       "    </tr>\n",
       "    <tr>\n",
       "      <th>3</th>\n",
       "      <td>4</td>\n",
       "      <td>24/01/2020</td>\n",
       "      <td>23/01/2020</td>\n",
       "      <td>F</td>\n",
       "      <td>62</td>\n",
       "      <td>Discharged</td>\n",
       "      <td>Non-HK resident</td>\n",
       "      <td>I</td>\n",
       "      <td>Confirmed</td>\n",
       "    </tr>\n",
       "    <tr>\n",
       "      <th>4</th>\n",
       "      <td>5</td>\n",
       "      <td>24/01/2020</td>\n",
       "      <td>23/01/2020</td>\n",
       "      <td>M</td>\n",
       "      <td>63</td>\n",
       "      <td>Discharged</td>\n",
       "      <td>Non-HK resident</td>\n",
       "      <td>I</td>\n",
       "      <td>Confirmed</td>\n",
       "    </tr>\n",
       "  </tbody>\n",
       "</table>\n",
       "</div>"
      ],
      "text/plain": [
       "   Case no. Report date Date of onset Gender Age  \\\n",
       "0         1  23/01/2020    21/01/2020      M  39   \n",
       "1         2  23/01/2020    18/01/2020      M  56   \n",
       "2         3  24/01/2020    20/01/2020      F  62   \n",
       "3         4  24/01/2020    23/01/2020      F  62   \n",
       "4         5  24/01/2020    23/01/2020      M  63   \n",
       "\n",
       "  Hospitalised/Discharged/Deceased HK/Non-HK resident Case classification  \\\n",
       "0                       Discharged    Non-HK resident                   I   \n",
       "1                       Discharged        HK resident                   I   \n",
       "2                       Discharged    Non-HK resident                   I   \n",
       "3                       Discharged    Non-HK resident                   I   \n",
       "4                       Discharged    Non-HK resident                   I   \n",
       "\n",
       "  Confirmed/probable  \n",
       "0          Confirmed  \n",
       "1          Confirmed  \n",
       "2          Confirmed  \n",
       "3          Confirmed  \n",
       "4          Confirmed  "
      ]
     },
     "execution_count": 16,
     "metadata": {},
     "output_type": "execute_result"
    }
   ],
   "source": [
    "hk_situation_en_old_df.head()"
   ]
  },
  {
   "cell_type": "code",
   "execution_count": 17,
   "metadata": {
    "colab": {
     "base_uri": "https://localhost:8080/",
     "height": 204
    },
    "colab_type": "code",
    "id": "21egu3u4fbEY",
    "outputId": "f4e7cab0-9ded-4f4f-fbad-779c9bf562fe"
   },
   "outputs": [
    {
     "data": {
      "text/html": [
       "<div>\n",
       "<style scoped>\n",
       "    .dataframe tbody tr th:only-of-type {\n",
       "        vertical-align: middle;\n",
       "    }\n",
       "\n",
       "    .dataframe tbody tr th {\n",
       "        vertical-align: top;\n",
       "    }\n",
       "\n",
       "    .dataframe thead th {\n",
       "        text-align: right;\n",
       "    }\n",
       "</style>\n",
       "<table border=\"1\" class=\"dataframe\">\n",
       "  <thead>\n",
       "    <tr style=\"text-align: right;\">\n",
       "      <th></th>\n",
       "      <th>Cluster</th>\n",
       "      <th>Involved case number</th>\n",
       "      <th>Number of cases</th>\n",
       "    </tr>\n",
       "  </thead>\n",
       "  <tbody>\n",
       "    <tr>\n",
       "      <th>0</th>\n",
       "      <td>Diamond Princess Cruise Ship</td>\n",
       "      <td>14, 71, 78, 79, 80, 81, 87, 88, 94, 96, 97</td>\n",
       "      <td>11</td>\n",
       "    </tr>\n",
       "    <tr>\n",
       "      <th>1</th>\n",
       "      <td>Hotpot dinner gathering at Kwun Tong</td>\n",
       "      <td>27, 29, 30, 31, 32, 33, 34, 35, 36, 37, 41, 44...</td>\n",
       "      <td>13</td>\n",
       "    </tr>\n",
       "    <tr>\n",
       "      <th>2</th>\n",
       "      <td>Fook Wai Ching Che in Maylun\\rApartments in No...</td>\n",
       "      <td>64, 65, 70, 73, 74, 76, 77, 83, 84, 86, 89, 91...</td>\n",
       "      <td>19</td>\n",
       "    </tr>\n",
       "    <tr>\n",
       "      <th>3</th>\n",
       "      <td>Travel tour to Egypt / Heng Tai House\\rof Fu H...</td>\n",
       "      <td>119, 120, 121, 123, 124, 125, 126, 127, 129, 140</td>\n",
       "      <td>10</td>\n",
       "    </tr>\n",
       "    <tr>\n",
       "      <th>4</th>\n",
       "      <td>Bar and band cluster</td>\n",
       "      <td>182, 227, 276, 343, 360, 362, 367, 384, 386, 3...</td>\n",
       "      <td>103</td>\n",
       "    </tr>\n",
       "  </tbody>\n",
       "</table>\n",
       "</div>"
      ],
      "text/plain": [
       "                                             Cluster  \\\n",
       "0                       Diamond Princess Cruise Ship   \n",
       "1               Hotpot dinner gathering at Kwun Tong   \n",
       "2  Fook Wai Ching Che in Maylun\\rApartments in No...   \n",
       "3  Travel tour to Egypt / Heng Tai House\\rof Fu H...   \n",
       "4                               Bar and band cluster   \n",
       "\n",
       "                                Involved case number Number of cases  \n",
       "0         14, 71, 78, 79, 80, 81, 87, 88, 94, 96, 97              11  \n",
       "1  27, 29, 30, 31, 32, 33, 34, 35, 36, 37, 41, 44...              13  \n",
       "2  64, 65, 70, 73, 74, 76, 77, 83, 84, 86, 89, 91...              19  \n",
       "3   119, 120, 121, 123, 124, 125, 126, 127, 129, 140              10  \n",
       "4  182, 227, 276, 343, 360, 362, 367, 384, 386, 3...             103  "
      ]
     },
     "execution_count": 17,
     "metadata": {},
     "output_type": "execute_result"
    }
   ],
   "source": [
    "hk_situation_en_cluster_df.head()"
   ]
  },
  {
   "cell_type": "code",
   "execution_count": 18,
   "metadata": {
    "colab": {
     "base_uri": "https://localhost:8080/",
     "height": 204
    },
    "colab_type": "code",
    "id": "7B9bbQoHfcZP",
    "outputId": "6cdb8ce1-54c8-4d9c-ed13-c29bfc8296ab"
   },
   "outputs": [
    {
     "data": {
      "text/html": [
       "<div>\n",
       "<style scoped>\n",
       "    .dataframe tbody tr th:only-of-type {\n",
       "        vertical-align: middle;\n",
       "    }\n",
       "\n",
       "    .dataframe tbody tr th {\n",
       "        vertical-align: top;\n",
       "    }\n",
       "\n",
       "    .dataframe thead th {\n",
       "        text-align: right;\n",
       "    }\n",
       "</style>\n",
       "<table border=\"1\" class=\"dataframe\">\n",
       "  <thead>\n",
       "    <tr style=\"text-align: right;\">\n",
       "      <th></th>\n",
       "      <th>Category</th>\n",
       "      <th>Number of cases (percentage)</th>\n",
       "    </tr>\n",
       "  </thead>\n",
       "  <tbody>\n",
       "    <tr>\n",
       "      <th>0</th>\n",
       "      <td>(1) Cases fulfilling the reporting criteria of...</td>\n",
       "      <td>336 (7.7%)</td>\n",
       "    </tr>\n",
       "    <tr>\n",
       "      <th>1</th>\n",
       "      <td>(2) Enhanced laboratory surveillance in public...</td>\n",
       "      <td>490 (11.2%)</td>\n",
       "    </tr>\n",
       "    <tr>\n",
       "      <th>2</th>\n",
       "      <td>(3) Enhanced surveillance at Accident and Emer...</td>\n",
       "      <td>1289 (29.6%)</td>\n",
       "    </tr>\n",
       "    <tr>\n",
       "      <th>3</th>\n",
       "      <td>(4) Diagnosis / Enhanced surveillance in priva...</td>\n",
       "      <td>624 (14.3%)</td>\n",
       "    </tr>\n",
       "    <tr>\n",
       "      <th>4</th>\n",
       "      <td>(5) Medical surveillance / contact tracing by ...</td>\n",
       "      <td>952 (21.8%)</td>\n",
       "    </tr>\n",
       "  </tbody>\n",
       "</table>\n",
       "</div>"
      ],
      "text/plain": [
       "                                            Category  \\\n",
       "0  (1) Cases fulfilling the reporting criteria of...   \n",
       "1  (2) Enhanced laboratory surveillance in public...   \n",
       "2  (3) Enhanced surveillance at Accident and Emer...   \n",
       "3  (4) Diagnosis / Enhanced surveillance in priva...   \n",
       "4  (5) Medical surveillance / contact tracing by ...   \n",
       "\n",
       "  Number of cases (percentage)  \n",
       "0                   336 (7.7%)  \n",
       "1                  490 (11.2%)  \n",
       "2                 1289 (29.6%)  \n",
       "3                  624 (14.3%)  \n",
       "4                  952 (21.8%)  "
      ]
     },
     "execution_count": 18,
     "metadata": {},
     "output_type": "execute_result"
    }
   ],
   "source": [
    "hk_situation_en_mode_df.head()"
   ]
  },
  {
   "cell_type": "markdown",
   "metadata": {
    "colab_type": "text",
    "id": "lnBjybU1fsOD"
   },
   "source": [
    "## 4. Check & Unify Values"
   ]
  },
  {
   "cell_type": "markdown",
   "metadata": {
    "colab_type": "text",
    "id": "r0a2EpOGhlHW"
   },
   "source": [
    "### 4.1 Resident Status"
   ]
  },
  {
   "cell_type": "code",
   "execution_count": 19,
   "metadata": {
    "colab": {},
    "colab_type": "code",
    "id": "vk8ap_miyb76"
   },
   "outputs": [],
   "source": [
    "resident_mapping_casefold = {\n",
    "  'hk resident': 'HK resident',\n",
    "  'non-hk resident': 'Non-HK resident',\n",
    "  'unknown': 'Unknown'\n",
    "}"
   ]
  },
  {
   "cell_type": "code",
   "execution_count": 20,
   "metadata": {
    "colab": {},
    "colab_type": "code",
    "id": "XIYHjgwtyvqA"
   },
   "outputs": [],
   "source": [
    "resident_type = CategoricalDtype(categories=[\n",
    "                                             'HK resident',\n",
    "                                             'Non-HK resident',\n",
    "                                             'Unknown'\n",
    "], ordered=True)"
   ]
  },
  {
   "cell_type": "code",
   "execution_count": 21,
   "metadata": {
    "colab": {
     "base_uri": "https://localhost:8080/",
     "height": 68
    },
    "colab_type": "code",
    "id": "c3f8vz6Pflvy",
    "outputId": "355ca6e3-f512-40b9-d58c-8c38a0572ab5"
   },
   "outputs": [
    {
     "data": {
      "text/plain": [
       "HK Resident    47\n",
       "Unknown         1\n",
       "Name: HK/Non-HK resident, dtype: int64"
      ]
     },
     "execution_count": 21,
     "metadata": {},
     "output_type": "execute_result"
    }
   ],
   "source": [
    "hk_situation_en_new_df['HK/Non-HK resident'].value_counts()"
   ]
  },
  {
   "cell_type": "markdown",
   "metadata": {
    "colab_type": "text",
    "id": "wHRSGH9axWqS"
   },
   "source": [
    "Ref: [Use casefold](https://stackoverflow.com/a/31599276)"
   ]
  },
  {
   "cell_type": "code",
   "execution_count": 22,
   "metadata": {
    "colab": {},
    "colab_type": "code",
    "id": "0xclMYKUg_v-"
   },
   "outputs": [],
   "source": [
    "hk_situation_en_new_df['HK/Non-HK resident'] = hk_situation_en_new_df['HK/Non-HK resident'].apply(str.casefold).map(resident_mapping_casefold).astype(resident_type)"
   ]
  },
  {
   "cell_type": "code",
   "execution_count": 23,
   "metadata": {
    "colab": {
     "base_uri": "https://localhost:8080/",
     "height": 85
    },
    "colab_type": "code",
    "id": "YSu4JnPahC6u",
    "outputId": "d79324c4-cf45-4c97-86be-a0612840035f"
   },
   "outputs": [
    {
     "data": {
      "text/plain": [
       "HK resident        47\n",
       "Unknown             1\n",
       "Non-HK resident     0\n",
       "Name: HK/Non-HK resident, dtype: int64"
      ]
     },
     "execution_count": 23,
     "metadata": {},
     "output_type": "execute_result"
    }
   ],
   "source": [
    "hk_situation_en_new_df['HK/Non-HK resident'].value_counts()"
   ]
  },
  {
   "cell_type": "code",
   "execution_count": 24,
   "metadata": {
    "colab": {
     "base_uri": "https://localhost:8080/",
     "height": 119
    },
    "colab_type": "code",
    "id": "5QJr_gPbf27O",
    "outputId": "96380bf5-decb-4fb2-d105-b55652c02f0d"
   },
   "outputs": [
    {
     "data": {
      "text/plain": [
       "HK Resident        2817\n",
       "HK resident        1377\n",
       "Unknown              98\n",
       "Non-HK resident      20\n",
       "Non-HK Resident       1\n",
       "Name: HK/Non-HK resident, dtype: int64"
      ]
     },
     "execution_count": 24,
     "metadata": {},
     "output_type": "execute_result"
    }
   ],
   "source": [
    "hk_situation_en_old_df['HK/Non-HK resident'].value_counts()"
   ]
  },
  {
   "cell_type": "code",
   "execution_count": 25,
   "metadata": {
    "colab": {},
    "colab_type": "code",
    "id": "c0P18y8VgWFA"
   },
   "outputs": [],
   "source": [
    "hk_situation_en_old_df['HK/Non-HK resident'] = hk_situation_en_old_df['HK/Non-HK resident'].apply(str.casefold).map(resident_mapping_casefold).astype(resident_type)"
   ]
  },
  {
   "cell_type": "code",
   "execution_count": 26,
   "metadata": {
    "colab": {
     "base_uri": "https://localhost:8080/",
     "height": 85
    },
    "colab_type": "code",
    "id": "aqRPh3WAgmDC",
    "outputId": "4aa421c8-1682-4530-aac1-38de3dbd2c9d"
   },
   "outputs": [
    {
     "data": {
      "text/plain": [
       "HK resident        4194\n",
       "Unknown              98\n",
       "Non-HK resident      21\n",
       "Name: HK/Non-HK resident, dtype: int64"
      ]
     },
     "execution_count": 26,
     "metadata": {},
     "output_type": "execute_result"
    }
   ],
   "source": [
    "hk_situation_en_old_df['HK/Non-HK resident'].value_counts()"
   ]
  },
  {
   "cell_type": "markdown",
   "metadata": {
    "colab_type": "text",
    "id": "q8FA7lSuhqRb"
   },
   "source": [
    "### 4.2 Case Classification"
   ]
  },
  {
   "cell_type": "code",
   "execution_count": 27,
   "metadata": {
    "colab": {},
    "colab_type": "code",
    "id": "uSphIsDFt2vu"
   },
   "outputs": [],
   "source": [
    "classification_mapping = {\n",
    "  'i': 'Imported case',\n",
    "  'l': 'Local case',\n",
    "  'pl': 'Possibly local case',\n",
    "  'epi-i': 'Epidemiologically linked with imported case',\n",
    "  'epi-l': 'Epidemiologically linked with local case',\n",
    "  'epi-pl': 'Epidemiologically linked with possibly local case'\n",
    "}\n",
    "\n",
    "classification_mapping_casefold = {\n",
    "  'imported case': 'Imported case',\n",
    "  'local case': 'Local case',\n",
    "  'possibly local case': 'Possibly local case',\n",
    "  'epidemiologically linked with imported case': 'Epidemiologically linked with imported case',\n",
    "  'epidemiologically linked with local case': 'Epidemiologically linked with local case',\n",
    "  'epidemiologically linked with possibly local case': 'Epidemiologically linked with possibly local case'\n",
    "}"
   ]
  },
  {
   "cell_type": "code",
   "execution_count": 28,
   "metadata": {
    "colab": {},
    "colab_type": "code",
    "id": "FcMt5Mbcw2ub"
   },
   "outputs": [],
   "source": [
    "classification_type = CategoricalDtype(categories=[\n",
    "                                                   'Local case',\n",
    "                                                   'Possibly local case',\n",
    "                                                   'Imported case',\n",
    "                                                   'Epidemiologically linked with local case',\n",
    "                                                   'Epidemiologically linked with possibly local case',\n",
    "                                                   'Epidemiologically linked with imported case'\n",
    "], ordered=True)"
   ]
  },
  {
   "cell_type": "code",
   "execution_count": 29,
   "metadata": {
    "colab": {},
    "colab_type": "code",
    "id": "DH-K40kBvUW_"
   },
   "outputs": [],
   "source": [
    "hk_situation_en_new_df['Case classification'] = hk_situation_en_new_df['Case classification'].apply(str.casefold).map(classification_mapping_casefold).fillna(hk_situation_en_new_df['Case classification'])"
   ]
  },
  {
   "cell_type": "code",
   "execution_count": 30,
   "metadata": {
    "colab": {
     "base_uri": "https://localhost:8080/",
     "height": 85
    },
    "colab_type": "code",
    "id": "kaJh-llzhfRy",
    "outputId": "5ebf0edf-1b60-46b8-dbb0-d0895ae797c3"
   },
   "outputs": [
    {
     "data": {
      "text/plain": [
       "Epidemiologically linked with local case    35\n",
       "Local case                                  11\n",
       "Imported case                                2\n",
       "Name: Case classification, dtype: int64"
      ]
     },
     "execution_count": 30,
     "metadata": {},
     "output_type": "execute_result"
    }
   ],
   "source": [
    "hk_situation_en_new_df['Case classification'].value_counts()"
   ]
  },
  {
   "cell_type": "markdown",
   "metadata": {
    "colab_type": "text",
    "id": "E9hebuMMw5p2"
   },
   "source": [
    "Ref: [map can be much faster than replace](https://stackoverflow.com/a/41678874)"
   ]
  },
  {
   "cell_type": "code",
   "execution_count": 31,
   "metadata": {
    "colab": {},
    "colab_type": "code",
    "id": "drCKvYC0vmxr"
   },
   "outputs": [],
   "source": [
    "hk_situation_en_old_df['Case classification'] = hk_situation_en_old_df['Case classification'].apply(str.casefold).map(classification_mapping).fillna(hk_situation_en_old_df['Case classification'])"
   ]
  },
  {
   "cell_type": "code",
   "execution_count": 32,
   "metadata": {
    "colab": {
     "base_uri": "https://localhost:8080/",
     "height": 136
    },
    "colab_type": "code",
    "id": "JiCvxu15hXVL",
    "outputId": "dad98751-fbe2-4f9f-d361-79bcc3087502"
   },
   "outputs": [
    {
     "data": {
      "text/plain": [
       "Epidemiologically linked with local case             1844\n",
       "Local case                                           1189\n",
       "Imported case                                        1084\n",
       "Possibly local case                                   103\n",
       "Epidemiologically linked with possibly local case      62\n",
       "Epidemiologically linked with imported case            31\n",
       "Name: Case classification, dtype: int64"
      ]
     },
     "execution_count": 32,
     "metadata": {},
     "output_type": "execute_result"
    }
   ],
   "source": [
    "hk_situation_en_old_df['Case classification'].value_counts()"
   ]
  },
  {
   "cell_type": "code",
   "execution_count": 33,
   "metadata": {
    "colab": {},
    "colab_type": "code",
    "id": "QDUvWnuEhvgu"
   },
   "outputs": [],
   "source": [
    "hk_situation_en_old_df['Case classification'] = hk_situation_en_old_df['Case classification'].astype(classification_type)"
   ]
  },
  {
   "cell_type": "code",
   "execution_count": 34,
   "metadata": {
    "colab": {},
    "colab_type": "code",
    "id": "IjVdqAGIx9hq"
   },
   "outputs": [],
   "source": [
    "hk_situation_en_new_df['Case classification'] = hk_situation_en_new_df['Case classification'].astype(classification_type)"
   ]
  },
  {
   "cell_type": "markdown",
   "metadata": {
    "colab_type": "text",
    "id": "GcYUJy3Azpu1"
   },
   "source": [
    "### 4.3 Gender"
   ]
  },
  {
   "cell_type": "code",
   "execution_count": 35,
   "metadata": {
    "colab": {},
    "colab_type": "code",
    "id": "0zH0qOeEzpEl"
   },
   "outputs": [],
   "source": [
    "gender_mapping_casefold = {\n",
    "  'f': 'Female',\n",
    "  'm': 'Male',\n",
    "  'unknown': 'Unknown'\n",
    "}"
   ]
  },
  {
   "cell_type": "code",
   "execution_count": 36,
   "metadata": {
    "colab": {},
    "colab_type": "code",
    "id": "CxBADkxryFb5"
   },
   "outputs": [],
   "source": [
    "gender_type = CategoricalDtype(categories=[\n",
    "                                           'Female',\n",
    "                                           'Male',\n",
    "                                           'Unknown'\n",
    "], ordered=True)"
   ]
  },
  {
   "cell_type": "code",
   "execution_count": 37,
   "metadata": {
    "colab": {},
    "colab_type": "code",
    "id": "adAse--M0AID"
   },
   "outputs": [],
   "source": [
    "hk_situation_en_old_df['Gender'] = hk_situation_en_old_df['Gender'].apply(str.casefold).map(gender_mapping_casefold).astype(gender_type)"
   ]
  },
  {
   "cell_type": "code",
   "execution_count": 38,
   "metadata": {
    "colab": {},
    "colab_type": "code",
    "id": "U9E1Scff0N0D"
   },
   "outputs": [],
   "source": [
    "hk_situation_en_new_df['Gender'] = hk_situation_en_new_df['Gender'].apply(str.casefold).map(gender_mapping_casefold).astype(gender_type)"
   ]
  },
  {
   "cell_type": "code",
   "execution_count": 39,
   "metadata": {
    "colab": {
     "base_uri": "https://localhost:8080/",
     "height": 85
    },
    "colab_type": "code",
    "id": "CbM-L0iP0Qpk",
    "outputId": "0ab33b07-5815-4b44-a183-53c6b55b630c"
   },
   "outputs": [
    {
     "data": {
      "text/plain": [
       "Female     2171\n",
       "Male       2142\n",
       "Unknown       0\n",
       "Name: Gender, dtype: int64"
      ]
     },
     "execution_count": 39,
     "metadata": {},
     "output_type": "execute_result"
    }
   ],
   "source": [
    "hk_situation_en_old_df['Gender'].value_counts()"
   ]
  },
  {
   "cell_type": "code",
   "execution_count": 40,
   "metadata": {
    "colab": {
     "base_uri": "https://localhost:8080/",
     "height": 85
    },
    "colab_type": "code",
    "id": "QKQiqPed0UhN",
    "outputId": "f6919e81-f0cf-40bd-a132-c7fa9f7c99cd"
   },
   "outputs": [
    {
     "data": {
      "text/plain": [
       "Male       24\n",
       "Female     24\n",
       "Unknown     0\n",
       "Name: Gender, dtype: int64"
      ]
     },
     "execution_count": 40,
     "metadata": {},
     "output_type": "execute_result"
    }
   ],
   "source": [
    "hk_situation_en_new_df['Gender'].value_counts()"
   ]
  },
  {
   "cell_type": "markdown",
   "metadata": {
    "colab_type": "text",
    "id": "8sBKWcKF9JeL"
   },
   "source": [
    "### 4.4 Age"
   ]
  },
  {
   "cell_type": "code",
   "execution_count": 41,
   "metadata": {
    "colab": {},
    "colab_type": "code",
    "id": "6wvHuKBc2jqE"
   },
   "outputs": [],
   "source": [
    "hk_situation_en_old_df['Age'] = hk_situation_en_old_df['Age'].apply(lambda a: (float(a.split('\\r')[0]) / 12.0) if '\\rmonth' in a else a)"
   ]
  },
  {
   "cell_type": "code",
   "execution_count": 42,
   "metadata": {
    "colab": {},
    "colab_type": "code",
    "id": "BLHtqK5A9D8u"
   },
   "outputs": [],
   "source": [
    "hk_situation_en_old_df['Age'] = pd.to_numeric(hk_situation_en_old_df['Age'], errors='coerce')"
   ]
  },
  {
   "cell_type": "code",
   "execution_count": 43,
   "metadata": {
    "colab": {},
    "colab_type": "code",
    "id": "N_yvweOq2AX9"
   },
   "outputs": [],
   "source": [
    "hk_situation_en_new_df['Age'] = hk_situation_en_new_df['Age'].apply(lambda a: (float(a.split('\\r')[0]) / 12.0) if '\\rmonth' in a else a)"
   ]
  },
  {
   "cell_type": "code",
   "execution_count": 44,
   "metadata": {
    "colab": {},
    "colab_type": "code",
    "id": "QgnJXZ0x9ZyZ"
   },
   "outputs": [],
   "source": [
    "hk_situation_en_new_df['Age'] = pd.to_numeric(hk_situation_en_new_df['Age'], errors='coerce')"
   ]
  },
  {
   "cell_type": "markdown",
   "metadata": {
    "colab_type": "text",
    "id": "oPAw1kfN9g8S"
   },
   "source": [
    "### 4.5 Hospitalised / Discharged / Deceased Status"
   ]
  },
  {
   "cell_type": "code",
   "execution_count": 45,
   "metadata": {
    "colab": {},
    "colab_type": "code",
    "id": "DLbWkuIY9doz"
   },
   "outputs": [],
   "source": [
    "status_mapping_casefold = {\n",
    "  'deceased': 'Deceased',\n",
    "  'discharged': 'Discharged',\n",
    "  'hospitalised': 'Hospitalised',\n",
    "  'new': 'New',\n",
    "  'no admission': 'No admission'\n",
    "}"
   ]
  },
  {
   "cell_type": "code",
   "execution_count": 46,
   "metadata": {
    "colab": {},
    "colab_type": "code",
    "id": "9i5hiHOG98Z6"
   },
   "outputs": [],
   "source": [
    "status_type = CategoricalDtype(categories=[\n",
    "                                           'Hospitalised',\n",
    "                                           'Discharged',\n",
    "                                           'Deceased',\n",
    "                                           'New',\n",
    "                                           'No admission'\n",
    "], ordered=True)"
   ]
  },
  {
   "cell_type": "code",
   "execution_count": 47,
   "metadata": {
    "colab": {
     "base_uri": "https://localhost:8080/",
     "height": 102
    },
    "colab_type": "code",
    "id": "LoiW-Mh90WGU",
    "outputId": "b0f392ac-fb8a-4c16-a614-c6f52df80749"
   },
   "outputs": [
    {
     "data": {
      "text/plain": [
       "Discharged      3392\n",
       "Hospitalised     829\n",
       "Deceased          66\n",
       "No admission      26\n",
       "Name: Hospitalised/Discharged/Deceased, dtype: int64"
      ]
     },
     "execution_count": 47,
     "metadata": {},
     "output_type": "execute_result"
    }
   ],
   "source": [
    "hk_situation_en_old_df['Hospitalised/Discharged/Deceased'].value_counts()"
   ]
  },
  {
   "cell_type": "code",
   "execution_count": 48,
   "metadata": {
    "colab": {},
    "colab_type": "code",
    "id": "qJd8xgP31zW7"
   },
   "outputs": [],
   "source": [
    "hk_situation_en_old_df['Hospitalised/Discharged/Deceased'] = hk_situation_en_old_df['Hospitalised/Discharged/Deceased'].apply(str.casefold).map(status_mapping_casefold).astype(status_type)"
   ]
  },
  {
   "cell_type": "code",
   "execution_count": 49,
   "metadata": {
    "colab": {
     "base_uri": "https://localhost:8080/",
     "height": 119
    },
    "colab_type": "code",
    "id": "BEBCjjS_-Qy5",
    "outputId": "c2ac600a-58a1-4208-8dec-9a4be4cede01"
   },
   "outputs": [
    {
     "data": {
      "text/plain": [
       "Discharged      3392\n",
       "Hospitalised     829\n",
       "Deceased          66\n",
       "No admission      26\n",
       "New                0\n",
       "Name: Hospitalised/Discharged/Deceased, dtype: int64"
      ]
     },
     "execution_count": 49,
     "metadata": {},
     "output_type": "execute_result"
    }
   ],
   "source": [
    "hk_situation_en_old_df['Hospitalised/Discharged/Deceased'].value_counts()"
   ]
  },
  {
   "cell_type": "markdown",
   "metadata": {
    "colab_type": "text",
    "id": "agSp1Rps-dmF"
   },
   "source": [
    "### 4.6 Confirmed / probable status"
   ]
  },
  {
   "cell_type": "code",
   "execution_count": 50,
   "metadata": {
    "colab": {},
    "colab_type": "code",
    "id": "xNNtUBtL-sUt"
   },
   "outputs": [],
   "source": [
    "confirmation_status_mapping_casefold = {\n",
    "  'confirmed': 'Confirmed',\n",
    "  'probable': 'Probable'\n",
    "}"
   ]
  },
  {
   "cell_type": "code",
   "execution_count": 51,
   "metadata": {
    "colab": {},
    "colab_type": "code",
    "id": "SuLU3j6S-uSH"
   },
   "outputs": [],
   "source": [
    "confirmation_status_type = CategoricalDtype(categories=[\n",
    "                                           'Confirmed',\n",
    "                                           'Probable'\n",
    "], ordered=True)"
   ]
  },
  {
   "cell_type": "code",
   "execution_count": 52,
   "metadata": {
    "colab": {},
    "colab_type": "code",
    "id": "ht2QA-bL-9fz"
   },
   "outputs": [],
   "source": [
    "hk_situation_en_old_df['Confirmed/probable'] = hk_situation_en_old_df['Confirmed/probable'].apply(str.casefold).map(confirmation_status_mapping_casefold).astype(confirmation_status_type)"
   ]
  },
  {
   "cell_type": "code",
   "execution_count": 53,
   "metadata": {
    "colab": {
     "base_uri": "https://localhost:8080/",
     "height": 68
    },
    "colab_type": "code",
    "id": "M7FWXo95-cWx",
    "outputId": "7ea7ae9f-b3d9-4434-e076-eedf22e7ba22"
   },
   "outputs": [
    {
     "data": {
      "text/plain": [
       "Confirmed    4312\n",
       "Probable        1\n",
       "Name: Confirmed/probable, dtype: int64"
      ]
     },
     "execution_count": 53,
     "metadata": {},
     "output_type": "execute_result"
    }
   ],
   "source": [
    "hk_situation_en_old_df['Confirmed/probable'].value_counts()"
   ]
  },
  {
   "cell_type": "code",
   "execution_count": 54,
   "metadata": {
    "colab": {},
    "colab_type": "code",
    "id": "Ufu66cok--yO"
   },
   "outputs": [],
   "source": [
    "hk_situation_en_new_df['Confirmed/probable'] = hk_situation_en_new_df['Confirmed/probable'].apply(str.casefold).map(confirmation_status_mapping_casefold).astype(confirmation_status_type)"
   ]
  },
  {
   "cell_type": "code",
   "execution_count": 55,
   "metadata": {
    "colab": {
     "base_uri": "https://localhost:8080/",
     "height": 68
    },
    "colab_type": "code",
    "id": "s2-qMrz6-mfD",
    "outputId": "2ace1631-f9ab-489e-d9f1-ee8b6e559fb9"
   },
   "outputs": [
    {
     "data": {
      "text/plain": [
       "Confirmed    48\n",
       "Probable      0\n",
       "Name: Confirmed/probable, dtype: int64"
      ]
     },
     "execution_count": 55,
     "metadata": {},
     "output_type": "execute_result"
    }
   ],
   "source": [
    "hk_situation_en_new_df['Confirmed/probable'].value_counts()"
   ]
  },
  {
   "cell_type": "markdown",
   "metadata": {
    "colab_type": "text",
    "id": "uOaTj16sANov"
   },
   "source": [
    "### 4.7 Report date"
   ]
  },
  {
   "cell_type": "code",
   "execution_count": 56,
   "metadata": {
    "colab": {},
    "colab_type": "code",
    "id": "TlHyIK2XBVkx"
   },
   "outputs": [],
   "source": [
    "hk_situation_en_new_df['Report date'] = pd.to_datetime(hk_situation_en_new_df['Report date'], format='%d/%m/%Y')"
   ]
  },
  {
   "cell_type": "code",
   "execution_count": 57,
   "metadata": {
    "colab": {},
    "colab_type": "code",
    "id": "yma6OWKEAMk5"
   },
   "outputs": [],
   "source": [
    "# Did not use\n",
    "# hk_situation_en_new_df['Report date'] = hk_situation_en_new_df['Report date'].apply(lambda d: datetime.strptime(d, '%d/%m/%Y').date())."
   ]
  },
  {
   "cell_type": "code",
   "execution_count": 58,
   "metadata": {
    "colab": {},
    "colab_type": "code",
    "id": "3swZPquS_RKX"
   },
   "outputs": [],
   "source": [
    "hk_situation_en_old_df['Report date'] = pd.to_datetime(hk_situation_en_old_df['Report date'], format='%d/%m/%Y')"
   ]
  },
  {
   "cell_type": "markdown",
   "metadata": {
    "colab_type": "text",
    "id": "8VQiL1NyCw0n"
   },
   "source": [
    "### 4.8 Onset Date"
   ]
  },
  {
   "cell_type": "markdown",
   "metadata": {
    "colab_type": "text",
    "id": "35gcE6yvELZO"
   },
   "source": [
    "Check what we may see"
   ]
  },
  {
   "cell_type": "code",
   "execution_count": 59,
   "metadata": {
    "colab": {
     "base_uri": "https://localhost:8080/",
     "height": 255
    },
    "colab_type": "code",
    "id": "2ZHMn6SxCPmm",
    "outputId": "72471dfd-a982-44be-9f21-5a61e75c16be"
   },
   "outputs": [
    {
     "data": {
      "text/plain": [
       "Asymptomatic       24\n",
       "11/08/2020          7\n",
       "12/08/2020          3\n",
       "07/08/2020          3\n",
       "10/08/2020          2\n",
       "08/08/2020          2\n",
       "30/07/2020          1\n",
       "04/08/2020          1\n",
       "31/07/2020          1\n",
       "09/08/2020          1\n",
       "03/08/2020          1\n",
       "06/08/2020          1\n",
       "Mid- July, 2020     1\n",
       "Name: Date of onset, dtype: int64"
      ]
     },
     "execution_count": 59,
     "metadata": {},
     "output_type": "execute_result"
    }
   ],
   "source": [
    "hk_situation_en_new_df['Date of onset'].value_counts()"
   ]
  },
  {
   "cell_type": "code",
   "execution_count": 60,
   "metadata": {
    "colab": {
     "base_uri": "https://localhost:8080/",
     "height": 221
    },
    "colab_type": "code",
    "id": "pONNbb7kBqd6",
    "outputId": "2dfeefd1-5c26-4c1d-b287-a98ec359d439"
   },
   "outputs": [
    {
     "data": {
      "text/plain": [
       "Asymptomatic    915\n",
       "27/07/2020      131\n",
       "25/07/2020      118\n",
       "24/07/2020      109\n",
       "21/07/2020      106\n",
       "               ... \n",
       "29/05/2020        1\n",
       "18/01/2020        1\n",
       "05/05/2020        1\n",
       "12/05/2020        1\n",
       "25/05/2020        1\n",
       "Name: Date of onset, Length: 168, dtype: int64"
      ]
     },
     "execution_count": 60,
     "metadata": {},
     "output_type": "execute_result"
    }
   ],
   "source": [
    "hk_situation_en_old_df['Date of onset'].value_counts()"
   ]
  },
  {
   "cell_type": "code",
   "execution_count": 61,
   "metadata": {
    "colab": {},
    "colab_type": "code",
    "id": "nAfZx56dEQky"
   },
   "outputs": [],
   "source": [
    "hk_situation_en_new_df['Date of onset original'] = hk_situation_en_new_df['Date of onset'].astype(str)"
   ]
  },
  {
   "cell_type": "code",
   "execution_count": 62,
   "metadata": {
    "colab": {},
    "colab_type": "code",
    "id": "kGChy1F4Eiw7"
   },
   "outputs": [],
   "source": [
    "hk_situation_en_old_df['Date of onset original'] = hk_situation_en_old_df['Date of onset'].astype(str)"
   ]
  },
  {
   "cell_type": "code",
   "execution_count": 63,
   "metadata": {
    "colab": {},
    "colab_type": "code",
    "id": "SMXmGZ7cFBpq"
   },
   "outputs": [],
   "source": [
    "hk_situation_en_new_df['Date of onset'] = pd.to_datetime(hk_situation_en_new_df['Date of onset original'], format='%d/%m/%Y', errors='coerce')"
   ]
  },
  {
   "cell_type": "code",
   "execution_count": 64,
   "metadata": {
    "colab": {},
    "colab_type": "code",
    "id": "RsDHtKv-FywB"
   },
   "outputs": [],
   "source": [
    "hk_situation_en_old_df['Date of onset'] = pd.to_datetime(hk_situation_en_old_df['Date of onset original'], format='%d/%m/%Y', errors='coerce')"
   ]
  },
  {
   "cell_type": "code",
   "execution_count": 65,
   "metadata": {
    "colab": {
     "base_uri": "https://localhost:8080/",
     "height": 850
    },
    "colab_type": "code",
    "id": "CWg8dOOBF5bD",
    "outputId": "d412a703-cff2-42c9-d149-e6fa3721060c"
   },
   "outputs": [
    {
     "data": {
      "text/plain": [
       "0           NaT\n",
       "1           NaT\n",
       "2    2020-08-03\n",
       "3           NaT\n",
       "4    2020-07-31\n",
       "5    2020-08-11\n",
       "6           NaT\n",
       "7           NaT\n",
       "8           NaT\n",
       "9           NaT\n",
       "10          NaT\n",
       "11          NaT\n",
       "12          NaT\n",
       "13   2020-08-07\n",
       "14   2020-08-11\n",
       "15   2020-08-06\n",
       "0    2020-08-10\n",
       "1    2020-08-08\n",
       "2    2020-08-11\n",
       "3    2020-08-12\n",
       "4    2020-08-11\n",
       "5           NaT\n",
       "6    2020-08-07\n",
       "7    2020-08-04\n",
       "8    2020-08-11\n",
       "9    2020-08-09\n",
       "10          NaT\n",
       "11   2020-08-07\n",
       "12          NaT\n",
       "13          NaT\n",
       "14   2020-08-12\n",
       "15   2020-08-11\n",
       "16          NaT\n",
       "17   2020-08-12\n",
       "18          NaT\n",
       "19          NaT\n",
       "20          NaT\n",
       "21          NaT\n",
       "22   2020-08-10\n",
       "0           NaT\n",
       "1           NaT\n",
       "2           NaT\n",
       "3           NaT\n",
       "4    2020-07-30\n",
       "5    2020-08-08\n",
       "6    2020-08-11\n",
       "7           NaT\n",
       "8           NaT\n",
       "Name: Date of onset, dtype: datetime64[ns]"
      ]
     },
     "execution_count": 65,
     "metadata": {},
     "output_type": "execute_result"
    }
   ],
   "source": [
    "hk_situation_en_new_df['Date of onset']"
   ]
  },
  {
   "cell_type": "markdown",
   "metadata": {
    "colab_type": "text",
    "id": "-ptdKU-WGlcl"
   },
   "source": [
    "TODO: for Asymptomatic, a flag should be added to data engineering stage"
   ]
  },
  {
   "cell_type": "markdown",
   "metadata": {
    "colab_type": "text",
    "id": "SJHzNDgVGzEN"
   },
   "source": [
    "TODO: for other malformatted date, should use a flag to indicate and manually fix with code (reproducible)"
   ]
  },
  {
   "cell_type": "code",
   "execution_count": 66,
   "metadata": {
    "colab": {
     "base_uri": "https://localhost:8080/",
     "height": 850
    },
    "colab_type": "code",
    "id": "UClD_WG4F3YP",
    "outputId": "2af87576-3a57-49c8-c405-fbaa6fa2aa7c"
   },
   "outputs": [
    {
     "data": {
      "text/plain": [
       "0        Asymptomatic\n",
       "1        Asymptomatic\n",
       "2          03/08/2020\n",
       "3        Asymptomatic\n",
       "4          31/07/2020\n",
       "5          11/08/2020\n",
       "6        Asymptomatic\n",
       "7        Asymptomatic\n",
       "8        Asymptomatic\n",
       "9        Asymptomatic\n",
       "10       Asymptomatic\n",
       "11       Asymptomatic\n",
       "12       Asymptomatic\n",
       "13         07/08/2020\n",
       "14         11/08/2020\n",
       "15         06/08/2020\n",
       "0          10/08/2020\n",
       "1          08/08/2020\n",
       "2          11/08/2020\n",
       "3          12/08/2020\n",
       "4          11/08/2020\n",
       "5     Mid- July, 2020\n",
       "6          07/08/2020\n",
       "7          04/08/2020\n",
       "8          11/08/2020\n",
       "9          09/08/2020\n",
       "10       Asymptomatic\n",
       "11         07/08/2020\n",
       "12       Asymptomatic\n",
       "13       Asymptomatic\n",
       "14         12/08/2020\n",
       "15         11/08/2020\n",
       "16       Asymptomatic\n",
       "17         12/08/2020\n",
       "18       Asymptomatic\n",
       "19       Asymptomatic\n",
       "20       Asymptomatic\n",
       "21       Asymptomatic\n",
       "22         10/08/2020\n",
       "0        Asymptomatic\n",
       "1        Asymptomatic\n",
       "2        Asymptomatic\n",
       "3        Asymptomatic\n",
       "4          30/07/2020\n",
       "5          08/08/2020\n",
       "6          11/08/2020\n",
       "7        Asymptomatic\n",
       "8        Asymptomatic\n",
       "Name: Date of onset original, dtype: object"
      ]
     },
     "execution_count": 66,
     "metadata": {},
     "output_type": "execute_result"
    }
   ],
   "source": [
    "hk_situation_en_new_df['Date of onset original']"
   ]
  },
  {
   "cell_type": "code",
   "execution_count": 67,
   "metadata": {
    "colab": {
     "base_uri": "https://localhost:8080/",
     "height": 459
    },
    "colab_type": "code",
    "id": "_24PWTELF6pe",
    "outputId": "465a86c2-1d6e-47f0-8e0b-65855f41c248"
   },
   "outputs": [
    {
     "data": {
      "text/plain": [
       "0        Asymptomatic\n",
       "1        Asymptomatic\n",
       "3        Asymptomatic\n",
       "6        Asymptomatic\n",
       "7        Asymptomatic\n",
       "8        Asymptomatic\n",
       "9        Asymptomatic\n",
       "10       Asymptomatic\n",
       "11       Asymptomatic\n",
       "12       Asymptomatic\n",
       "5     Mid- July, 2020\n",
       "10       Asymptomatic\n",
       "12       Asymptomatic\n",
       "13       Asymptomatic\n",
       "16       Asymptomatic\n",
       "18       Asymptomatic\n",
       "19       Asymptomatic\n",
       "20       Asymptomatic\n",
       "21       Asymptomatic\n",
       "0        Asymptomatic\n",
       "1        Asymptomatic\n",
       "2        Asymptomatic\n",
       "3        Asymptomatic\n",
       "7        Asymptomatic\n",
       "8        Asymptomatic\n",
       "Name: Date of onset original, dtype: object"
      ]
     },
     "execution_count": 67,
     "metadata": {},
     "output_type": "execute_result"
    }
   ],
   "source": [
    "hk_situation_en_new_df['Date of onset original'][hk_situation_en_new_df['Date of onset'].isnull()]"
   ]
  },
  {
   "cell_type": "markdown",
   "metadata": {
    "colab_type": "text",
    "id": "96FXGHndJEnG"
   },
   "source": [
    "TODO fix the index"
   ]
  },
  {
   "cell_type": "code",
   "execution_count": 68,
   "metadata": {
    "colab": {
     "base_uri": "https://localhost:8080/",
     "height": 119
    },
    "colab_type": "code",
    "id": "OXHrFJbiIZIy",
    "outputId": "b9367916-27ae-4738-b7a5-43e3c2143f8d"
   },
   "outputs": [
    {
     "data": {
      "text/plain": [
       "Asymptomatic    915\n",
       "Pending          59\n",
       "Unknown          23\n",
       "January           1\n",
       "Mid-March         1\n",
       "Name: Date of onset original, dtype: int64"
      ]
     },
     "execution_count": 68,
     "metadata": {},
     "output_type": "execute_result"
    }
   ],
   "source": [
    "hk_situation_en_old_df['Date of onset original'][hk_situation_en_old_df['Date of onset'].isnull()].value_counts()"
   ]
  },
  {
   "cell_type": "code",
   "execution_count": 69,
   "metadata": {
    "colab": {
     "base_uri": "https://localhost:8080/",
     "height": 187
    },
    "colab_type": "code",
    "id": "Q4FQOGoZJJCO",
    "outputId": "7911f8c8-e5c2-4f2b-b965-ceef57853647"
   },
   "outputs": [
    {
     "data": {
      "text/plain": [
       "Case no.                           int64\n",
       "Report date               datetime64[ns]\n",
       "Date of onset             datetime64[ns]\n",
       "Gender                          category\n",
       "Age                                int64\n",
       "HK/Non-HK resident              category\n",
       "Case classification             category\n",
       "Confirmed/probable              category\n",
       "Date of onset original            object\n",
       "dtype: object"
      ]
     },
     "execution_count": 69,
     "metadata": {},
     "output_type": "execute_result"
    }
   ],
   "source": [
    "hk_situation_en_new_df.dtypes"
   ]
  },
  {
   "cell_type": "code",
   "execution_count": 70,
   "metadata": {
    "colab": {
     "base_uri": "https://localhost:8080/",
     "height": 85
    },
    "colab_type": "code",
    "id": "Ah4ceOKgMtQm",
    "outputId": "5d9a2d0c-e701-4077-9fa9-904abd0b1cac"
   },
   "outputs": [
    {
     "data": {
      "text/plain": [
       "Int64Index([ 0,  1,  2,  3,  4,  5,  6,  7,  8,  9, 10, 11, 12, 13, 14, 15,  0,\n",
       "             1,  2,  3,  4,  5,  6,  7,  8,  9, 10, 11, 12, 13, 14, 15, 16, 17,\n",
       "            18, 19, 20, 21, 22,  0,  1,  2,  3,  4,  5,  6,  7,  8],\n",
       "           dtype='int64')"
      ]
     },
     "execution_count": 70,
     "metadata": {},
     "output_type": "execute_result"
    }
   ],
   "source": [
    "hk_situation_en_new_df.index"
   ]
  },
  {
   "cell_type": "code",
   "execution_count": 71,
   "metadata": {
    "colab": {},
    "colab_type": "code",
    "id": "urJNOaxCPjxo"
   },
   "outputs": [],
   "source": [
    "hk_situation_en_new_df = hk_situation_en_new_df.reset_index(drop=True)"
   ]
  },
  {
   "cell_type": "code",
   "execution_count": 72,
   "metadata": {
    "colab": {
     "base_uri": "https://localhost:8080/",
     "height": 34
    },
    "colab_type": "code",
    "id": "IfSVewPCPsMg",
    "outputId": "549881d7-01a2-4135-99ea-30a347fa7b68"
   },
   "outputs": [
    {
     "data": {
      "text/plain": [
       "RangeIndex(start=0, stop=48, step=1)"
      ]
     },
     "execution_count": 72,
     "metadata": {},
     "output_type": "execute_result"
    }
   ],
   "source": [
    "hk_situation_en_new_df.index"
   ]
  },
  {
   "cell_type": "code",
   "execution_count": 73,
   "metadata": {
    "colab": {},
    "colab_type": "code",
    "id": "3zcHmddGPu6Z"
   },
   "outputs": [],
   "source": [
    "hk_situation_en_old_df = hk_situation_en_old_df.reset_index(drop=True)"
   ]
  },
  {
   "cell_type": "code",
   "execution_count": 74,
   "metadata": {
    "colab": {
     "base_uri": "https://localhost:8080/",
     "height": 34
    },
    "colab_type": "code",
    "id": "IlcpCEovP-B1",
    "outputId": "c33929a0-7506-4e38-a290-7455fac67291"
   },
   "outputs": [
    {
     "data": {
      "text/plain": [
       "RangeIndex(start=0, stop=4313, step=1)"
      ]
     },
     "execution_count": 74,
     "metadata": {},
     "output_type": "execute_result"
    }
   ],
   "source": [
    "hk_situation_en_old_df.index"
   ]
  },
  {
   "cell_type": "markdown",
   "metadata": {
    "colab_type": "text",
    "id": "OGY_x1QQQnag"
   },
   "source": [
    "## 5. Merge new and old"
   ]
  },
  {
   "cell_type": "code",
   "execution_count": 75,
   "metadata": {
    "colab": {
     "base_uri": "https://localhost:8080/",
     "height": 85
    },
    "colab_type": "code",
    "id": "dDFKhaYuQm_9",
    "outputId": "7933aa78-6659-4a68-92b2-77820267941a"
   },
   "outputs": [
    {
     "data": {
      "text/plain": [
       "Index(['Case no.', 'Report date', 'Date of onset', 'Gender', 'Age',\n",
       "       'Hospitalised/Discharged/Deceased', 'HK/Non-HK resident',\n",
       "       'Case classification', 'Confirmed/probable', 'Date of onset original'],\n",
       "      dtype='object')"
      ]
     },
     "execution_count": 75,
     "metadata": {},
     "output_type": "execute_result"
    }
   ],
   "source": [
    "hk_situation_en_old_df.columns"
   ]
  },
  {
   "cell_type": "code",
   "execution_count": 76,
   "metadata": {
    "colab": {
     "base_uri": "https://localhost:8080/",
     "height": 85
    },
    "colab_type": "code",
    "id": "3pkyJkAyQhsz",
    "outputId": "b552a1ee-d507-4602-8224-c6d394eb237c"
   },
   "outputs": [
    {
     "data": {
      "text/plain": [
       "Index(['Case no.', 'Report date', 'Date of onset', 'Gender', 'Age',\n",
       "       'HK/Non-HK resident', 'Case classification', 'Confirmed/probable',\n",
       "       'Date of onset original'],\n",
       "      dtype='object')"
      ]
     },
     "execution_count": 76,
     "metadata": {},
     "output_type": "execute_result"
    }
   ],
   "source": [
    "hk_situation_en_new_df.columns"
   ]
  },
  {
   "cell_type": "code",
   "execution_count": 77,
   "metadata": {
    "colab": {},
    "colab_type": "code",
    "id": "UMwmwDKERCM_"
   },
   "outputs": [],
   "source": [
    "human_merged_name = ['Case no.', 'Report date', 'Date of onset', 'Gender', 'Age', 'Status', 'Resident status', 'Case classification', 'Confirmation status', 'Date of onset original']"
   ]
  },
  {
   "cell_type": "code",
   "execution_count": 78,
   "metadata": {
    "colab": {},
    "colab_type": "code",
    "id": "9iP7LiGkRlzE"
   },
   "outputs": [],
   "source": [
    "# Ref: https://stackoverflow.com/a/44296858\n",
    "columns_rename_dict = dict(zip(hk_situation_en_old_df.columns, human_merged_name))\n",
    "hk_situation_en_old_df = hk_situation_en_old_df.rename(columns=columns_rename_dict)"
   ]
  },
  {
   "cell_type": "code",
   "execution_count": 79,
   "metadata": {
    "colab": {
     "base_uri": "https://localhost:8080/",
     "height": 204
    },
    "colab_type": "code",
    "id": "pe45_kjTSTqx",
    "outputId": "b6d034ce-10df-48dc-a5a3-df1f3e3e7854"
   },
   "outputs": [
    {
     "data": {
      "text/plain": [
       "Case no.                           int64\n",
       "Report date               datetime64[ns]\n",
       "Date of onset             datetime64[ns]\n",
       "Gender                          category\n",
       "Age                              float64\n",
       "Status                          category\n",
       "Resident status                 category\n",
       "Case classification             category\n",
       "Confirmation status             category\n",
       "Date of onset original            object\n",
       "dtype: object"
      ]
     },
     "execution_count": 79,
     "metadata": {},
     "output_type": "execute_result"
    }
   ],
   "source": [
    "hk_situation_en_old_df.dtypes"
   ]
  },
  {
   "cell_type": "code",
   "execution_count": 80,
   "metadata": {
    "colab": {},
    "colab_type": "code",
    "id": "mJMGmr3WUrEB"
   },
   "outputs": [],
   "source": [
    "hk_situation_en_new_df = hk_situation_en_new_df.rename(columns=columns_rename_dict)"
   ]
  },
  {
   "cell_type": "code",
   "execution_count": 81,
   "metadata": {
    "colab": {},
    "colab_type": "code",
    "id": "5e09YOGoUA-0"
   },
   "outputs": [],
   "source": [
    "hk_situation_en_new_df['Status'] = 'New'"
   ]
  },
  {
   "cell_type": "code",
   "execution_count": 82,
   "metadata": {
    "colab": {},
    "colab_type": "code",
    "id": "qrolkG-5VK1o"
   },
   "outputs": [],
   "source": [
    "hk_situation_en_new_df['Status'] = hk_situation_en_new_df['Status'].astype(status_type)"
   ]
  },
  {
   "cell_type": "code",
   "execution_count": 83,
   "metadata": {
    "colab": {
     "base_uri": "https://localhost:8080/",
     "height": 119
    },
    "colab_type": "code",
    "id": "EvDfLhmkUHX9",
    "outputId": "4842c05d-8288-42ed-c5c0-1fd06ea049b8"
   },
   "outputs": [
    {
     "data": {
      "text/plain": [
       "New             48\n",
       "No admission     0\n",
       "Deceased         0\n",
       "Discharged       0\n",
       "Hospitalised     0\n",
       "Name: Status, dtype: int64"
      ]
     },
     "execution_count": 83,
     "metadata": {},
     "output_type": "execute_result"
    }
   ],
   "source": [
    "hk_situation_en_new_df['Status'].value_counts()"
   ]
  },
  {
   "cell_type": "code",
   "execution_count": 84,
   "metadata": {
    "colab": {},
    "colab_type": "code",
    "id": "kSgztXNsR3CB"
   },
   "outputs": [],
   "source": [
    "hk_situation_en_merged_df = pd.concat([hk_situation_en_old_df, hk_situation_en_new_df])"
   ]
  },
  {
   "cell_type": "code",
   "execution_count": 85,
   "metadata": {
    "colab": {
     "base_uri": "https://localhost:8080/",
     "height": 204
    },
    "colab_type": "code",
    "id": "czXfDkLOSGLj",
    "outputId": "086e37e7-7d1c-41be-a9ae-51fcf23e6c9b"
   },
   "outputs": [
    {
     "data": {
      "text/plain": [
       "Case no.                           int64\n",
       "Report date               datetime64[ns]\n",
       "Date of onset             datetime64[ns]\n",
       "Gender                          category\n",
       "Age                              float64\n",
       "Status                          category\n",
       "Resident status                 category\n",
       "Case classification             category\n",
       "Confirmation status             category\n",
       "Date of onset original            object\n",
       "dtype: object"
      ]
     },
     "execution_count": 85,
     "metadata": {},
     "output_type": "execute_result"
    }
   ],
   "source": [
    "hk_situation_en_merged_df.dtypes"
   ]
  },
  {
   "cell_type": "code",
   "execution_count": 86,
   "metadata": {
    "colab": {
     "base_uri": "https://localhost:8080/",
     "height": 119
    },
    "colab_type": "code",
    "id": "CPcIqkz4UUFX",
    "outputId": "5afeb167-79ef-4375-dfeb-6a00ba85399d"
   },
   "outputs": [
    {
     "data": {
      "text/plain": [
       "Discharged      3392\n",
       "Hospitalised     829\n",
       "Deceased          66\n",
       "New               48\n",
       "No admission      26\n",
       "Name: Status, dtype: int64"
      ]
     },
     "execution_count": 86,
     "metadata": {},
     "output_type": "execute_result"
    }
   ],
   "source": [
    "hk_situation_en_merged_df['Status'].value_counts()"
   ]
  },
  {
   "cell_type": "markdown",
   "metadata": {
    "colab_type": "text",
    "id": "npEe2jQjQL6-"
   },
   "source": [
    "## 6. Export to parquet"
   ]
  },
  {
   "cell_type": "code",
   "execution_count": 87,
   "metadata": {
    "colab": {},
    "colab_type": "code",
    "id": "F00f4quvQD0C"
   },
   "outputs": [],
   "source": [
    "hk_situation_en_new_df.to_parquet('transformed-new-en.parquet')"
   ]
  },
  {
   "cell_type": "code",
   "execution_count": 88,
   "metadata": {
    "colab": {},
    "colab_type": "code",
    "id": "rynL39pxQddf"
   },
   "outputs": [],
   "source": [
    "hk_situation_en_old_df.to_parquet('transformed-old-en.parquet')"
   ]
  },
  {
   "cell_type": "code",
   "execution_count": 89,
   "metadata": {
    "colab": {},
    "colab_type": "code",
    "id": "XGWoWyVPQgyI"
   },
   "outputs": [],
   "source": [
    "hk_situation_en_merged_df.to_parquet('transformed-merged-en.parquet')"
   ]
  }
 ],
 "metadata": {
  "colab": {
   "collapsed_sections": [],
   "name": "2020-08-15-B Data Transformation",
   "provenance": []
  },
  "kernelspec": {
   "display_name": "Python 3",
   "name": "python3"
  },
  "language_info": {
   "codemirror_mode": {
    "name": "ipython",
    "version": 3
   },
   "file_extension": ".py",
   "mimetype": "text/x-python",
   "name": "python",
   "nbconvert_exporter": "python",
   "pygments_lexer": "ipython3",
   "version": "3.6.9"
  }
 },
 "nbformat": 4,
 "nbformat_minor": 0
}
