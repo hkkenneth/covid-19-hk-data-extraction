{
  "nbformat": 4,
  "nbformat_minor": 0,
  "metadata": {
    "colab": {
      "name": "2020-08-15-B Data Transformation",
      "provenance": [],
      "collapsed_sections": []
    },
    "kernelspec": {
      "name": "python3",
      "display_name": "Python 3"
    }
  },
  "cells": [
    {
      "cell_type": "markdown",
      "metadata": {
        "id": "rX4CdNQITvZZ",
        "colab_type": "text"
      },
      "source": [
        "# Data Transformation from parquet"
      ]
    },
    {
      "cell_type": "markdown",
      "metadata": {
        "id": "tgQ7Dv0WT3E1",
        "colab_type": "text"
      },
      "source": [
        "## 1. Import libraries"
      ]
    },
    {
      "cell_type": "code",
      "metadata": {
        "id": "9DtsWs2rTco8",
        "colab_type": "code",
        "colab": {}
      },
      "source": [
        "import pandas as pd"
      ],
      "execution_count": 350,
      "outputs": []
    },
    {
      "cell_type": "code",
      "metadata": {
        "id": "6bQCCY2EtRPc",
        "colab_type": "code",
        "colab": {}
      },
      "source": [
        "from pandas.api.types import CategoricalDtype"
      ],
      "execution_count": 351,
      "outputs": []
    },
    {
      "cell_type": "code",
      "metadata": {
        "id": "O0aj502GAoMc",
        "colab_type": "code",
        "colab": {}
      },
      "source": [
        "from datetime import datetime"
      ],
      "execution_count": 352,
      "outputs": []
    },
    {
      "cell_type": "markdown",
      "metadata": {
        "id": "__Jq3sDlTusc",
        "colab_type": "text"
      },
      "source": [
        "## 2 Obtain the data in pickle"
      ]
    },
    {
      "cell_type": "code",
      "metadata": {
        "id": "1z5UHKHen7Zt",
        "colab_type": "code",
        "colab": {}
      },
      "source": [
        "!#curl -O https://raw.githubusercontent.com/hkkenneth/covid-19-hk-data-extraction/master/raw-old-en.parquet"
      ],
      "execution_count": 439,
      "outputs": []
    },
    {
      "cell_type": "code",
      "metadata": {
        "id": "tqAPmQ8Ua_Dd",
        "colab_type": "code",
        "colab": {}
      },
      "source": [
        "!#curl -O https://raw.githubusercontent.com/hkkenneth/covid-19-hk-data-extraction/master/raw-new-en.parquet"
      ],
      "execution_count": 440,
      "outputs": []
    },
    {
      "cell_type": "code",
      "metadata": {
        "id": "Xq045A4Ga-pU",
        "colab_type": "code",
        "colab": {}
      },
      "source": [
        "!#curl -O https://raw.githubusercontent.com/hkkenneth/covid-19-hk-data-extraction/master/raw-mode-en.parquet"
      ],
      "execution_count": 441,
      "outputs": []
    },
    {
      "cell_type": "code",
      "metadata": {
        "id": "d8DABSfGa-b7",
        "colab_type": "code",
        "colab": {}
      },
      "source": [
        "!#curl -O https://raw.githubusercontent.com/hkkenneth/covid-19-hk-data-extraction/master/raw-cluster-en.parquet"
      ],
      "execution_count": 442,
      "outputs": []
    },
    {
      "cell_type": "code",
      "metadata": {
        "id": "1drdZNhqUK2O",
        "colab_type": "code",
        "colab": {
          "base_uri": "https://localhost:8080/",
          "height": 85
        },
        "outputId": "6e748cc6-cea6-454e-c5ea-a9b8f8770d0d"
      },
      "source": [
        "!ls -lah raw*"
      ],
      "execution_count": 357,
      "outputs": [
        {
          "output_type": "stream",
          "text": [
            "-rw-r--r-- 1 root root 8.3K Aug 16 08:14 raw-cluster-en.parquet\n",
            "-rw-r--r-- 1 root root 3.1K Aug 16 08:14 raw-mode-en.parquet\n",
            "-rw-r--r-- 1 root root 7.5K Aug 16 08:14 raw-new-en.parquet\n",
            "-rw-r--r-- 1 root root  46K Aug 16 08:13 raw-old-en.parquet\n"
          ],
          "name": "stdout"
        }
      ]
    },
    {
      "cell_type": "code",
      "metadata": {
        "id": "Lxne5YkSc9RV",
        "colab_type": "code",
        "colab": {}
      },
      "source": [
        "hk_situation_en_old_df = pd.read_parquet('raw-old-en.parquet')"
      ],
      "execution_count": 358,
      "outputs": []
    },
    {
      "cell_type": "code",
      "metadata": {
        "id": "qapBMEIvewsp",
        "colab_type": "code",
        "colab": {}
      },
      "source": [
        "hk_situation_en_new_df = pd.read_parquet('raw-new-en.parquet')"
      ],
      "execution_count": 359,
      "outputs": []
    },
    {
      "cell_type": "code",
      "metadata": {
        "id": "eOZ7zz_FexJG",
        "colab_type": "code",
        "colab": {}
      },
      "source": [
        "hk_situation_en_cluster_df = pd.read_parquet('raw-cluster-en.parquet')"
      ],
      "execution_count": 360,
      "outputs": []
    },
    {
      "cell_type": "code",
      "metadata": {
        "id": "6dUQr9lSexk8",
        "colab_type": "code",
        "colab": {}
      },
      "source": [
        "hk_situation_en_mode_df = pd.read_parquet('raw-mode-en.parquet')"
      ],
      "execution_count": 361,
      "outputs": []
    },
    {
      "cell_type": "markdown",
      "metadata": {
        "id": "zTgJOoVCVAin",
        "colab_type": "text"
      },
      "source": [
        "## 3. Sanity check"
      ]
    },
    {
      "cell_type": "code",
      "metadata": {
        "id": "gECyHFJ2e8K_",
        "colab_type": "code",
        "colab": {
          "base_uri": "https://localhost:8080/",
          "height": 34
        },
        "outputId": "5bd3fab9-8fc0-43ea-b4e6-cad245464760"
      },
      "source": [
        "type(hk_situation_en_new_df)"
      ],
      "execution_count": 362,
      "outputs": [
        {
          "output_type": "execute_result",
          "data": {
            "text/plain": [
              "pandas.core.frame.DataFrame"
            ]
          },
          "metadata": {
            "tags": []
          },
          "execution_count": 362
        }
      ]
    },
    {
      "cell_type": "code",
      "metadata": {
        "id": "yj5kDTwYU-nd",
        "colab_type": "code",
        "colab": {
          "base_uri": "https://localhost:8080/",
          "height": 34
        },
        "outputId": "a23db5bc-ac4b-40b9-a829-1933171232ef"
      },
      "source": [
        "hk_situation_en_new_df.shape"
      ],
      "execution_count": 363,
      "outputs": [
        {
          "output_type": "execute_result",
          "data": {
            "text/plain": [
              "(48, 8)"
            ]
          },
          "metadata": {
            "tags": []
          },
          "execution_count": 363
        }
      ]
    },
    {
      "cell_type": "code",
      "metadata": {
        "id": "vt5AOt20VD9c",
        "colab_type": "code",
        "colab": {
          "base_uri": "https://localhost:8080/",
          "height": 255
        },
        "outputId": "32b7aaa7-b01a-45a7-9e62-de611888a8da"
      },
      "source": [
        "hk_situation_en_new_df.head()"
      ],
      "execution_count": 364,
      "outputs": [
        {
          "output_type": "execute_result",
          "data": {
            "text/html": [
              "<div>\n",
              "<style scoped>\n",
              "    .dataframe tbody tr th:only-of-type {\n",
              "        vertical-align: middle;\n",
              "    }\n",
              "\n",
              "    .dataframe tbody tr th {\n",
              "        vertical-align: top;\n",
              "    }\n",
              "\n",
              "    .dataframe thead th {\n",
              "        text-align: right;\n",
              "    }\n",
              "</style>\n",
              "<table border=\"1\" class=\"dataframe\">\n",
              "  <thead>\n",
              "    <tr style=\"text-align: right;\">\n",
              "      <th></th>\n",
              "      <th>Case no.</th>\n",
              "      <th>Report date</th>\n",
              "      <th>Date of onset</th>\n",
              "      <th>Gender</th>\n",
              "      <th>Age</th>\n",
              "      <th>HK/Non-HK resident</th>\n",
              "      <th>Case classification</th>\n",
              "      <th>Confirmed/probable</th>\n",
              "    </tr>\n",
              "  </thead>\n",
              "  <tbody>\n",
              "    <tr>\n",
              "      <th>0</th>\n",
              "      <td>4314</td>\n",
              "      <td>14/08/2020</td>\n",
              "      <td>Asymptomatic</td>\n",
              "      <td>M</td>\n",
              "      <td>31</td>\n",
              "      <td>Unknown</td>\n",
              "      <td>Imported case</td>\n",
              "      <td>Confirmed</td>\n",
              "    </tr>\n",
              "    <tr>\n",
              "      <th>1</th>\n",
              "      <td>4315</td>\n",
              "      <td>14/08/2020</td>\n",
              "      <td>Asymptomatic</td>\n",
              "      <td>F</td>\n",
              "      <td>13</td>\n",
              "      <td>HK Resident</td>\n",
              "      <td>Epidemiologically linked with local case</td>\n",
              "      <td>Confirmed</td>\n",
              "    </tr>\n",
              "    <tr>\n",
              "      <th>2</th>\n",
              "      <td>4316</td>\n",
              "      <td>14/08/2020</td>\n",
              "      <td>03/08/2020</td>\n",
              "      <td>F</td>\n",
              "      <td>38</td>\n",
              "      <td>HK Resident</td>\n",
              "      <td>Local case</td>\n",
              "      <td>Confirmed</td>\n",
              "    </tr>\n",
              "    <tr>\n",
              "      <th>3</th>\n",
              "      <td>4317</td>\n",
              "      <td>14/08/2020</td>\n",
              "      <td>Asymptomatic</td>\n",
              "      <td>M</td>\n",
              "      <td>62</td>\n",
              "      <td>HK Resident</td>\n",
              "      <td>Epidemiologically linked with local case</td>\n",
              "      <td>Confirmed</td>\n",
              "    </tr>\n",
              "    <tr>\n",
              "      <th>4</th>\n",
              "      <td>4318</td>\n",
              "      <td>14/08/2020</td>\n",
              "      <td>31/07/2020</td>\n",
              "      <td>M</td>\n",
              "      <td>47</td>\n",
              "      <td>HK Resident</td>\n",
              "      <td>Local case</td>\n",
              "      <td>Confirmed</td>\n",
              "    </tr>\n",
              "  </tbody>\n",
              "</table>\n",
              "</div>"
            ],
            "text/plain": [
              "   Case no.  ... Confirmed/probable\n",
              "0      4314  ...          Confirmed\n",
              "1      4315  ...          Confirmed\n",
              "2      4316  ...          Confirmed\n",
              "3      4317  ...          Confirmed\n",
              "4      4318  ...          Confirmed\n",
              "\n",
              "[5 rows x 8 columns]"
            ]
          },
          "metadata": {
            "tags": []
          },
          "execution_count": 364
        }
      ]
    },
    {
      "cell_type": "code",
      "metadata": {
        "id": "gm3nnfptVM7_",
        "colab_type": "code",
        "colab": {
          "base_uri": "https://localhost:8080/",
          "height": 343
        },
        "outputId": "2ec7c945-8e07-440e-d0a5-dab5ca945983"
      },
      "source": [
        "hk_situation_en_old_df.head()"
      ],
      "execution_count": 365,
      "outputs": [
        {
          "output_type": "execute_result",
          "data": {
            "text/html": [
              "<div>\n",
              "<style scoped>\n",
              "    .dataframe tbody tr th:only-of-type {\n",
              "        vertical-align: middle;\n",
              "    }\n",
              "\n",
              "    .dataframe tbody tr th {\n",
              "        vertical-align: top;\n",
              "    }\n",
              "\n",
              "    .dataframe thead th {\n",
              "        text-align: right;\n",
              "    }\n",
              "</style>\n",
              "<table border=\"1\" class=\"dataframe\">\n",
              "  <thead>\n",
              "    <tr style=\"text-align: right;\">\n",
              "      <th></th>\n",
              "      <th>Case no.</th>\n",
              "      <th>Report date</th>\n",
              "      <th>Date of onset</th>\n",
              "      <th>Gender</th>\n",
              "      <th>Age</th>\n",
              "      <th>Hospitalised/Discharged/Deceased</th>\n",
              "      <th>HK/Non-HK resident</th>\n",
              "      <th>Case classification</th>\n",
              "      <th>Confirmed/probable</th>\n",
              "    </tr>\n",
              "  </thead>\n",
              "  <tbody>\n",
              "    <tr>\n",
              "      <th>0</th>\n",
              "      <td>1</td>\n",
              "      <td>23/01/2020</td>\n",
              "      <td>21/01/2020</td>\n",
              "      <td>M</td>\n",
              "      <td>39</td>\n",
              "      <td>Discharged</td>\n",
              "      <td>Non-HK resident</td>\n",
              "      <td>I</td>\n",
              "      <td>Confirmed</td>\n",
              "    </tr>\n",
              "    <tr>\n",
              "      <th>1</th>\n",
              "      <td>2</td>\n",
              "      <td>23/01/2020</td>\n",
              "      <td>18/01/2020</td>\n",
              "      <td>M</td>\n",
              "      <td>56</td>\n",
              "      <td>Discharged</td>\n",
              "      <td>HK resident</td>\n",
              "      <td>I</td>\n",
              "      <td>Confirmed</td>\n",
              "    </tr>\n",
              "    <tr>\n",
              "      <th>2</th>\n",
              "      <td>3</td>\n",
              "      <td>24/01/2020</td>\n",
              "      <td>20/01/2020</td>\n",
              "      <td>F</td>\n",
              "      <td>62</td>\n",
              "      <td>Discharged</td>\n",
              "      <td>Non-HK resident</td>\n",
              "      <td>I</td>\n",
              "      <td>Confirmed</td>\n",
              "    </tr>\n",
              "    <tr>\n",
              "      <th>3</th>\n",
              "      <td>4</td>\n",
              "      <td>24/01/2020</td>\n",
              "      <td>23/01/2020</td>\n",
              "      <td>F</td>\n",
              "      <td>62</td>\n",
              "      <td>Discharged</td>\n",
              "      <td>Non-HK resident</td>\n",
              "      <td>I</td>\n",
              "      <td>Confirmed</td>\n",
              "    </tr>\n",
              "    <tr>\n",
              "      <th>4</th>\n",
              "      <td>5</td>\n",
              "      <td>24/01/2020</td>\n",
              "      <td>23/01/2020</td>\n",
              "      <td>M</td>\n",
              "      <td>63</td>\n",
              "      <td>Discharged</td>\n",
              "      <td>Non-HK resident</td>\n",
              "      <td>I</td>\n",
              "      <td>Confirmed</td>\n",
              "    </tr>\n",
              "  </tbody>\n",
              "</table>\n",
              "</div>"
            ],
            "text/plain": [
              "   Case no. Report date  ... Case classification Confirmed/probable\n",
              "0         1  23/01/2020  ...                   I          Confirmed\n",
              "1         2  23/01/2020  ...                   I          Confirmed\n",
              "2         3  24/01/2020  ...                   I          Confirmed\n",
              "3         4  24/01/2020  ...                   I          Confirmed\n",
              "4         5  24/01/2020  ...                   I          Confirmed\n",
              "\n",
              "[5 rows x 9 columns]"
            ]
          },
          "metadata": {
            "tags": []
          },
          "execution_count": 365
        }
      ]
    },
    {
      "cell_type": "code",
      "metadata": {
        "id": "21egu3u4fbEY",
        "colab_type": "code",
        "colab": {
          "base_uri": "https://localhost:8080/",
          "height": 204
        },
        "outputId": "f4e7cab0-9ded-4f4f-fbad-779c9bf562fe"
      },
      "source": [
        "hk_situation_en_cluster_df.head()"
      ],
      "execution_count": 366,
      "outputs": [
        {
          "output_type": "execute_result",
          "data": {
            "text/html": [
              "<div>\n",
              "<style scoped>\n",
              "    .dataframe tbody tr th:only-of-type {\n",
              "        vertical-align: middle;\n",
              "    }\n",
              "\n",
              "    .dataframe tbody tr th {\n",
              "        vertical-align: top;\n",
              "    }\n",
              "\n",
              "    .dataframe thead th {\n",
              "        text-align: right;\n",
              "    }\n",
              "</style>\n",
              "<table border=\"1\" class=\"dataframe\">\n",
              "  <thead>\n",
              "    <tr style=\"text-align: right;\">\n",
              "      <th></th>\n",
              "      <th>Cluster</th>\n",
              "      <th>Involved case number</th>\n",
              "      <th>Number of cases</th>\n",
              "    </tr>\n",
              "  </thead>\n",
              "  <tbody>\n",
              "    <tr>\n",
              "      <th>0</th>\n",
              "      <td>Diamond Princess Cruise Ship</td>\n",
              "      <td>14, 71, 78, 79, 80, 81, 87, 88, 94, 96, 97</td>\n",
              "      <td>11</td>\n",
              "    </tr>\n",
              "    <tr>\n",
              "      <th>1</th>\n",
              "      <td>Hotpot dinner gathering at Kwun Tong</td>\n",
              "      <td>27, 29, 30, 31, 32, 33, 34, 35, 36, 37, 41, 44...</td>\n",
              "      <td>13</td>\n",
              "    </tr>\n",
              "    <tr>\n",
              "      <th>2</th>\n",
              "      <td>Fook Wai Ching Che in Maylun\\rApartments in No...</td>\n",
              "      <td>64, 65, 70, 73, 74, 76, 77, 83, 84, 86, 89, 91...</td>\n",
              "      <td>19</td>\n",
              "    </tr>\n",
              "    <tr>\n",
              "      <th>3</th>\n",
              "      <td>Travel tour to Egypt / Heng Tai House\\rof Fu H...</td>\n",
              "      <td>119, 120, 121, 123, 124, 125, 126, 127, 129, 140</td>\n",
              "      <td>10</td>\n",
              "    </tr>\n",
              "    <tr>\n",
              "      <th>4</th>\n",
              "      <td>Bar and band cluster</td>\n",
              "      <td>182, 227, 276, 343, 360, 362, 367, 384, 386, 3...</td>\n",
              "      <td>103</td>\n",
              "    </tr>\n",
              "  </tbody>\n",
              "</table>\n",
              "</div>"
            ],
            "text/plain": [
              "                                             Cluster  ... Number of cases\n",
              "0                       Diamond Princess Cruise Ship  ...              11\n",
              "1               Hotpot dinner gathering at Kwun Tong  ...              13\n",
              "2  Fook Wai Ching Che in Maylun\\rApartments in No...  ...              19\n",
              "3  Travel tour to Egypt / Heng Tai House\\rof Fu H...  ...              10\n",
              "4                               Bar and band cluster  ...             103\n",
              "\n",
              "[5 rows x 3 columns]"
            ]
          },
          "metadata": {
            "tags": []
          },
          "execution_count": 366
        }
      ]
    },
    {
      "cell_type": "code",
      "metadata": {
        "id": "7B9bbQoHfcZP",
        "colab_type": "code",
        "colab": {
          "base_uri": "https://localhost:8080/",
          "height": 204
        },
        "outputId": "6cdb8ce1-54c8-4d9c-ed13-c29bfc8296ab"
      },
      "source": [
        "hk_situation_en_mode_df.head()"
      ],
      "execution_count": 367,
      "outputs": [
        {
          "output_type": "execute_result",
          "data": {
            "text/html": [
              "<div>\n",
              "<style scoped>\n",
              "    .dataframe tbody tr th:only-of-type {\n",
              "        vertical-align: middle;\n",
              "    }\n",
              "\n",
              "    .dataframe tbody tr th {\n",
              "        vertical-align: top;\n",
              "    }\n",
              "\n",
              "    .dataframe thead th {\n",
              "        text-align: right;\n",
              "    }\n",
              "</style>\n",
              "<table border=\"1\" class=\"dataframe\">\n",
              "  <thead>\n",
              "    <tr style=\"text-align: right;\">\n",
              "      <th></th>\n",
              "      <th>Category</th>\n",
              "      <th>Number of cases (percentage)</th>\n",
              "    </tr>\n",
              "  </thead>\n",
              "  <tbody>\n",
              "    <tr>\n",
              "      <th>0</th>\n",
              "      <td>(1) Cases fulfilling the reporting criteria of...</td>\n",
              "      <td>336 (7.7%)</td>\n",
              "    </tr>\n",
              "    <tr>\n",
              "      <th>1</th>\n",
              "      <td>(2) Enhanced laboratory surveillance in public...</td>\n",
              "      <td>490 (11.2%)</td>\n",
              "    </tr>\n",
              "    <tr>\n",
              "      <th>2</th>\n",
              "      <td>(3) Enhanced surveillance at Accident and Emer...</td>\n",
              "      <td>1289 (29.6%)</td>\n",
              "    </tr>\n",
              "    <tr>\n",
              "      <th>3</th>\n",
              "      <td>(4) Diagnosis / Enhanced surveillance in priva...</td>\n",
              "      <td>624 (14.3%)</td>\n",
              "    </tr>\n",
              "    <tr>\n",
              "      <th>4</th>\n",
              "      <td>(5) Medical surveillance / contact tracing by ...</td>\n",
              "      <td>952 (21.8%)</td>\n",
              "    </tr>\n",
              "  </tbody>\n",
              "</table>\n",
              "</div>"
            ],
            "text/plain": [
              "                                            Category Number of cases (percentage)\n",
              "0  (1) Cases fulfilling the reporting criteria of...                   336 (7.7%)\n",
              "1  (2) Enhanced laboratory surveillance in public...                  490 (11.2%)\n",
              "2  (3) Enhanced surveillance at Accident and Emer...                 1289 (29.6%)\n",
              "3  (4) Diagnosis / Enhanced surveillance in priva...                  624 (14.3%)\n",
              "4  (5) Medical surveillance / contact tracing by ...                  952 (21.8%)"
            ]
          },
          "metadata": {
            "tags": []
          },
          "execution_count": 367
        }
      ]
    },
    {
      "cell_type": "markdown",
      "metadata": {
        "id": "lnBjybU1fsOD",
        "colab_type": "text"
      },
      "source": [
        "## 4. Check & Unify Values"
      ]
    },
    {
      "cell_type": "markdown",
      "metadata": {
        "id": "r0a2EpOGhlHW",
        "colab_type": "text"
      },
      "source": [
        "### 4.1 Resident Status"
      ]
    },
    {
      "cell_type": "code",
      "metadata": {
        "id": "vk8ap_miyb76",
        "colab_type": "code",
        "colab": {}
      },
      "source": [
        "resident_mapping_casefold = {\n",
        "  'hk resident': 'HK resident',\n",
        "  'non-hk resident': 'Non-HK resident',\n",
        "  'unknown': 'Unknown'\n",
        "}"
      ],
      "execution_count": 368,
      "outputs": []
    },
    {
      "cell_type": "code",
      "metadata": {
        "id": "XIYHjgwtyvqA",
        "colab_type": "code",
        "colab": {}
      },
      "source": [
        "resident_type = CategoricalDtype(categories=[\n",
        "                                             'HK resident',\n",
        "                                             'Non-HK resident',\n",
        "                                             'Unknown'\n",
        "], ordered=True)"
      ],
      "execution_count": 369,
      "outputs": []
    },
    {
      "cell_type": "code",
      "metadata": {
        "id": "c3f8vz6Pflvy",
        "colab_type": "code",
        "colab": {
          "base_uri": "https://localhost:8080/",
          "height": 68
        },
        "outputId": "355ca6e3-f512-40b9-d58c-8c38a0572ab5"
      },
      "source": [
        "hk_situation_en_new_df['HK/Non-HK resident'].value_counts()"
      ],
      "execution_count": 370,
      "outputs": [
        {
          "output_type": "execute_result",
          "data": {
            "text/plain": [
              "HK Resident    47\n",
              "Unknown         1\n",
              "Name: HK/Non-HK resident, dtype: int64"
            ]
          },
          "metadata": {
            "tags": []
          },
          "execution_count": 370
        }
      ]
    },
    {
      "cell_type": "markdown",
      "metadata": {
        "id": "wHRSGH9axWqS",
        "colab_type": "text"
      },
      "source": [
        "Ref: [Use casefold](https://stackoverflow.com/a/31599276)"
      ]
    },
    {
      "cell_type": "code",
      "metadata": {
        "id": "0xclMYKUg_v-",
        "colab_type": "code",
        "colab": {}
      },
      "source": [
        "hk_situation_en_new_df['HK/Non-HK resident'] = hk_situation_en_new_df['HK/Non-HK resident'].apply(str.casefold).map(resident_mapping_casefold).astype(resident_type)"
      ],
      "execution_count": 371,
      "outputs": []
    },
    {
      "cell_type": "code",
      "metadata": {
        "id": "YSu4JnPahC6u",
        "colab_type": "code",
        "colab": {
          "base_uri": "https://localhost:8080/",
          "height": 85
        },
        "outputId": "d79324c4-cf45-4c97-86be-a0612840035f"
      },
      "source": [
        "hk_situation_en_new_df['HK/Non-HK resident'].value_counts()"
      ],
      "execution_count": 372,
      "outputs": [
        {
          "output_type": "execute_result",
          "data": {
            "text/plain": [
              "HK resident        47\n",
              "Unknown             1\n",
              "Non-HK resident     0\n",
              "Name: HK/Non-HK resident, dtype: int64"
            ]
          },
          "metadata": {
            "tags": []
          },
          "execution_count": 372
        }
      ]
    },
    {
      "cell_type": "code",
      "metadata": {
        "id": "5QJr_gPbf27O",
        "colab_type": "code",
        "colab": {
          "base_uri": "https://localhost:8080/",
          "height": 119
        },
        "outputId": "96380bf5-decb-4fb2-d105-b55652c02f0d"
      },
      "source": [
        "hk_situation_en_old_df['HK/Non-HK resident'].value_counts()"
      ],
      "execution_count": 373,
      "outputs": [
        {
          "output_type": "execute_result",
          "data": {
            "text/plain": [
              "HK Resident        2817\n",
              "HK resident        1377\n",
              "Unknown              98\n",
              "Non-HK resident      20\n",
              "Non-HK Resident       1\n",
              "Name: HK/Non-HK resident, dtype: int64"
            ]
          },
          "metadata": {
            "tags": []
          },
          "execution_count": 373
        }
      ]
    },
    {
      "cell_type": "code",
      "metadata": {
        "id": "c0P18y8VgWFA",
        "colab_type": "code",
        "colab": {}
      },
      "source": [
        "hk_situation_en_old_df['HK/Non-HK resident'] = hk_situation_en_old_df['HK/Non-HK resident'].apply(str.casefold).map(resident_mapping_casefold).astype(resident_type)"
      ],
      "execution_count": 374,
      "outputs": []
    },
    {
      "cell_type": "code",
      "metadata": {
        "id": "aqRPh3WAgmDC",
        "colab_type": "code",
        "colab": {
          "base_uri": "https://localhost:8080/",
          "height": 85
        },
        "outputId": "4aa421c8-1682-4530-aac1-38de3dbd2c9d"
      },
      "source": [
        "hk_situation_en_old_df['HK/Non-HK resident'].value_counts()"
      ],
      "execution_count": 375,
      "outputs": [
        {
          "output_type": "execute_result",
          "data": {
            "text/plain": [
              "HK resident        4194\n",
              "Unknown              98\n",
              "Non-HK resident      21\n",
              "Name: HK/Non-HK resident, dtype: int64"
            ]
          },
          "metadata": {
            "tags": []
          },
          "execution_count": 375
        }
      ]
    },
    {
      "cell_type": "markdown",
      "metadata": {
        "id": "q8FA7lSuhqRb",
        "colab_type": "text"
      },
      "source": [
        "### 4.2 Case Classification"
      ]
    },
    {
      "cell_type": "code",
      "metadata": {
        "id": "uSphIsDFt2vu",
        "colab_type": "code",
        "colab": {}
      },
      "source": [
        "classification_mapping = {\n",
        "  'i': 'Imported case',\n",
        "  'l': 'Local case',\n",
        "  'pl': 'Possibly local case',\n",
        "  'epi-i': 'Epidemiologically linked with imported case',\n",
        "  'epi-l': 'Epidemiologically linked with local case',\n",
        "  'epi-pl': 'Epidemiologically linked with possibly local case'\n",
        "}\n",
        "\n",
        "classification_mapping_casefold = {\n",
        "  'imported case': 'Imported case',\n",
        "  'local case': 'Local case',\n",
        "  'possibly local case': 'Possibly local case',\n",
        "  'epidemiologically linked with imported case': 'Epidemiologically linked with imported case',\n",
        "  'epidemiologically linked with local case': 'Epidemiologically linked with local case',\n",
        "  'epidemiologically linked with possibly local case': 'Epidemiologically linked with possibly local case'\n",
        "}"
      ],
      "execution_count": 376,
      "outputs": []
    },
    {
      "cell_type": "code",
      "metadata": {
        "id": "FcMt5Mbcw2ub",
        "colab_type": "code",
        "colab": {}
      },
      "source": [
        "classification_type = CategoricalDtype(categories=[\n",
        "                                                   'Local case',\n",
        "                                                   'Possibly local case',\n",
        "                                                   'Imported case',\n",
        "                                                   'Epidemiologically linked with local case',\n",
        "                                                   'Epidemiologically linked with possibly local case',\n",
        "                                                   'Epidemiologically linked with imported case'\n",
        "], ordered=True)"
      ],
      "execution_count": 377,
      "outputs": []
    },
    {
      "cell_type": "code",
      "metadata": {
        "id": "DH-K40kBvUW_",
        "colab_type": "code",
        "colab": {}
      },
      "source": [
        "hk_situation_en_new_df['Case classification'] = hk_situation_en_new_df['Case classification'].apply(str.casefold).map(classification_mapping_casefold).fillna(hk_situation_en_new_df['Case classification'])"
      ],
      "execution_count": 378,
      "outputs": []
    },
    {
      "cell_type": "code",
      "metadata": {
        "id": "kaJh-llzhfRy",
        "colab_type": "code",
        "colab": {
          "base_uri": "https://localhost:8080/",
          "height": 85
        },
        "outputId": "5ebf0edf-1b60-46b8-dbb0-d0895ae797c3"
      },
      "source": [
        "hk_situation_en_new_df['Case classification'].value_counts()"
      ],
      "execution_count": 379,
      "outputs": [
        {
          "output_type": "execute_result",
          "data": {
            "text/plain": [
              "Epidemiologically linked with local case    35\n",
              "Local case                                  11\n",
              "Imported case                                2\n",
              "Name: Case classification, dtype: int64"
            ]
          },
          "metadata": {
            "tags": []
          },
          "execution_count": 379
        }
      ]
    },
    {
      "cell_type": "markdown",
      "metadata": {
        "id": "E9hebuMMw5p2",
        "colab_type": "text"
      },
      "source": [
        "Ref: [map can be much faster than replace](https://stackoverflow.com/a/41678874)"
      ]
    },
    {
      "cell_type": "code",
      "metadata": {
        "id": "drCKvYC0vmxr",
        "colab_type": "code",
        "colab": {}
      },
      "source": [
        "hk_situation_en_old_df['Case classification'] = hk_situation_en_old_df['Case classification'].apply(str.casefold).map(classification_mapping).fillna(hk_situation_en_old_df['Case classification'])"
      ],
      "execution_count": 380,
      "outputs": []
    },
    {
      "cell_type": "code",
      "metadata": {
        "id": "JiCvxu15hXVL",
        "colab_type": "code",
        "colab": {
          "base_uri": "https://localhost:8080/",
          "height": 136
        },
        "outputId": "dad98751-fbe2-4f9f-d361-79bcc3087502"
      },
      "source": [
        "hk_situation_en_old_df['Case classification'].value_counts()"
      ],
      "execution_count": 381,
      "outputs": [
        {
          "output_type": "execute_result",
          "data": {
            "text/plain": [
              "Epidemiologically linked with local case             1844\n",
              "Local case                                           1189\n",
              "Imported case                                        1084\n",
              "Possibly local case                                   103\n",
              "Epidemiologically linked with possibly local case      62\n",
              "Epidemiologically linked with imported case            31\n",
              "Name: Case classification, dtype: int64"
            ]
          },
          "metadata": {
            "tags": []
          },
          "execution_count": 381
        }
      ]
    },
    {
      "cell_type": "code",
      "metadata": {
        "id": "QDUvWnuEhvgu",
        "colab_type": "code",
        "colab": {}
      },
      "source": [
        "hk_situation_en_old_df['Case classification'] = hk_situation_en_old_df['Case classification'].astype(classification_type)"
      ],
      "execution_count": 382,
      "outputs": []
    },
    {
      "cell_type": "code",
      "metadata": {
        "id": "IjVdqAGIx9hq",
        "colab_type": "code",
        "colab": {}
      },
      "source": [
        "hk_situation_en_new_df['Case classification'] = hk_situation_en_new_df['Case classification'].astype(classification_type)"
      ],
      "execution_count": 383,
      "outputs": []
    },
    {
      "cell_type": "markdown",
      "metadata": {
        "id": "GcYUJy3Azpu1",
        "colab_type": "text"
      },
      "source": [
        "### 4.3 Gender"
      ]
    },
    {
      "cell_type": "code",
      "metadata": {
        "id": "0zH0qOeEzpEl",
        "colab_type": "code",
        "colab": {}
      },
      "source": [
        "gender_mapping_casefold = {\n",
        "  'f': 'Female',\n",
        "  'm': 'Male',\n",
        "  'unknown': 'Unknown'\n",
        "}"
      ],
      "execution_count": 384,
      "outputs": []
    },
    {
      "cell_type": "code",
      "metadata": {
        "id": "CxBADkxryFb5",
        "colab_type": "code",
        "colab": {}
      },
      "source": [
        "gender_type = CategoricalDtype(categories=[\n",
        "                                           'Female',\n",
        "                                           'Male',\n",
        "                                           'Unknown'\n",
        "], ordered=True)"
      ],
      "execution_count": 385,
      "outputs": []
    },
    {
      "cell_type": "code",
      "metadata": {
        "id": "adAse--M0AID",
        "colab_type": "code",
        "colab": {}
      },
      "source": [
        "hk_situation_en_old_df['Gender'] = hk_situation_en_old_df['Gender'].apply(str.casefold).map(gender_mapping_casefold).astype(gender_type)"
      ],
      "execution_count": 386,
      "outputs": []
    },
    {
      "cell_type": "code",
      "metadata": {
        "id": "U9E1Scff0N0D",
        "colab_type": "code",
        "colab": {}
      },
      "source": [
        "hk_situation_en_new_df['Gender'] = hk_situation_en_new_df['Gender'].apply(str.casefold).map(gender_mapping_casefold).astype(gender_type)"
      ],
      "execution_count": 387,
      "outputs": []
    },
    {
      "cell_type": "code",
      "metadata": {
        "id": "CbM-L0iP0Qpk",
        "colab_type": "code",
        "colab": {
          "base_uri": "https://localhost:8080/",
          "height": 85
        },
        "outputId": "0ab33b07-5815-4b44-a183-53c6b55b630c"
      },
      "source": [
        "hk_situation_en_old_df['Gender'].value_counts()"
      ],
      "execution_count": 388,
      "outputs": [
        {
          "output_type": "execute_result",
          "data": {
            "text/plain": [
              "Female     2171\n",
              "Male       2142\n",
              "Unknown       0\n",
              "Name: Gender, dtype: int64"
            ]
          },
          "metadata": {
            "tags": []
          },
          "execution_count": 388
        }
      ]
    },
    {
      "cell_type": "code",
      "metadata": {
        "id": "QKQiqPed0UhN",
        "colab_type": "code",
        "colab": {
          "base_uri": "https://localhost:8080/",
          "height": 85
        },
        "outputId": "f6919e81-f0cf-40bd-a132-c7fa9f7c99cd"
      },
      "source": [
        "hk_situation_en_new_df['Gender'].value_counts()"
      ],
      "execution_count": 389,
      "outputs": [
        {
          "output_type": "execute_result",
          "data": {
            "text/plain": [
              "Male       24\n",
              "Female     24\n",
              "Unknown     0\n",
              "Name: Gender, dtype: int64"
            ]
          },
          "metadata": {
            "tags": []
          },
          "execution_count": 389
        }
      ]
    },
    {
      "cell_type": "markdown",
      "metadata": {
        "id": "8sBKWcKF9JeL",
        "colab_type": "text"
      },
      "source": [
        "### 4.4 Age"
      ]
    },
    {
      "cell_type": "code",
      "metadata": {
        "id": "6wvHuKBc2jqE",
        "colab_type": "code",
        "colab": {}
      },
      "source": [
        "hk_situation_en_old_df['Age'] = hk_situation_en_old_df['Age'].apply(lambda a: (float(a.split('\\r')[0]) / 12.0) if '\\rmonth' in a else a)"
      ],
      "execution_count": 390,
      "outputs": []
    },
    {
      "cell_type": "code",
      "metadata": {
        "id": "BLHtqK5A9D8u",
        "colab_type": "code",
        "colab": {}
      },
      "source": [
        "hk_situation_en_old_df['Age'] = pd.to_numeric(hk_situation_en_old_df['Age'], errors='coerce')"
      ],
      "execution_count": 391,
      "outputs": []
    },
    {
      "cell_type": "code",
      "metadata": {
        "id": "N_yvweOq2AX9",
        "colab_type": "code",
        "colab": {}
      },
      "source": [
        "hk_situation_en_new_df['Age'] = hk_situation_en_new_df['Age'].apply(lambda a: (float(a.split('\\r')[0]) / 12.0) if '\\rmonth' in a else a)"
      ],
      "execution_count": 392,
      "outputs": []
    },
    {
      "cell_type": "code",
      "metadata": {
        "id": "QgnJXZ0x9ZyZ",
        "colab_type": "code",
        "colab": {}
      },
      "source": [
        "hk_situation_en_new_df['Age'] = pd.to_numeric(hk_situation_en_new_df['Age'], errors='coerce')"
      ],
      "execution_count": 393,
      "outputs": []
    },
    {
      "cell_type": "markdown",
      "metadata": {
        "id": "oPAw1kfN9g8S",
        "colab_type": "text"
      },
      "source": [
        "### 4.5 Hospitalised / Discharged / Deceased Status"
      ]
    },
    {
      "cell_type": "code",
      "metadata": {
        "id": "DLbWkuIY9doz",
        "colab_type": "code",
        "colab": {}
      },
      "source": [
        "status_mapping_casefold = {\n",
        "  'deceased': 'Deceased',\n",
        "  'discharged': 'Discharged',\n",
        "  'hospitalised': 'Hospitalised',\n",
        "  'new': 'New',\n",
        "  'no admission': 'No admission'\n",
        "}"
      ],
      "execution_count": 394,
      "outputs": []
    },
    {
      "cell_type": "code",
      "metadata": {
        "id": "9i5hiHOG98Z6",
        "colab_type": "code",
        "colab": {}
      },
      "source": [
        "status_type = CategoricalDtype(categories=[\n",
        "                                           'Hospitalised',\n",
        "                                           'Discharged',\n",
        "                                           'Deceased',\n",
        "                                           'New',\n",
        "                                           'No admission'\n",
        "], ordered=True)"
      ],
      "execution_count": 395,
      "outputs": []
    },
    {
      "cell_type": "code",
      "metadata": {
        "id": "LoiW-Mh90WGU",
        "colab_type": "code",
        "colab": {
          "base_uri": "https://localhost:8080/",
          "height": 102
        },
        "outputId": "b0f392ac-fb8a-4c16-a614-c6f52df80749"
      },
      "source": [
        "hk_situation_en_old_df['Hospitalised/Discharged/Deceased'].value_counts()"
      ],
      "execution_count": 396,
      "outputs": [
        {
          "output_type": "execute_result",
          "data": {
            "text/plain": [
              "Discharged      3392\n",
              "Hospitalised     829\n",
              "Deceased          66\n",
              "No admission      26\n",
              "Name: Hospitalised/Discharged/Deceased, dtype: int64"
            ]
          },
          "metadata": {
            "tags": []
          },
          "execution_count": 396
        }
      ]
    },
    {
      "cell_type": "code",
      "metadata": {
        "id": "qJd8xgP31zW7",
        "colab_type": "code",
        "colab": {}
      },
      "source": [
        "hk_situation_en_old_df['Hospitalised/Discharged/Deceased'] = hk_situation_en_old_df['Hospitalised/Discharged/Deceased'].apply(str.casefold).map(status_mapping_casefold).astype(status_type)"
      ],
      "execution_count": 397,
      "outputs": []
    },
    {
      "cell_type": "code",
      "metadata": {
        "id": "BEBCjjS_-Qy5",
        "colab_type": "code",
        "colab": {
          "base_uri": "https://localhost:8080/",
          "height": 119
        },
        "outputId": "c2ac600a-58a1-4208-8dec-9a4be4cede01"
      },
      "source": [
        "hk_situation_en_old_df['Hospitalised/Discharged/Deceased'].value_counts()"
      ],
      "execution_count": 398,
      "outputs": [
        {
          "output_type": "execute_result",
          "data": {
            "text/plain": [
              "Discharged      3392\n",
              "Hospitalised     829\n",
              "Deceased          66\n",
              "No admission      26\n",
              "New                0\n",
              "Name: Hospitalised/Discharged/Deceased, dtype: int64"
            ]
          },
          "metadata": {
            "tags": []
          },
          "execution_count": 398
        }
      ]
    },
    {
      "cell_type": "markdown",
      "metadata": {
        "id": "agSp1Rps-dmF",
        "colab_type": "text"
      },
      "source": [
        "### 4.6 Confirmed / probable status"
      ]
    },
    {
      "cell_type": "code",
      "metadata": {
        "id": "xNNtUBtL-sUt",
        "colab_type": "code",
        "colab": {}
      },
      "source": [
        "confirmation_status_mapping_casefold = {\n",
        "  'confirmed': 'Confirmed',\n",
        "  'probable': 'Probable'\n",
        "}"
      ],
      "execution_count": 399,
      "outputs": []
    },
    {
      "cell_type": "code",
      "metadata": {
        "id": "SuLU3j6S-uSH",
        "colab_type": "code",
        "colab": {}
      },
      "source": [
        "confirmation_status_type = CategoricalDtype(categories=[\n",
        "                                           'Confirmed',\n",
        "                                           'Probable'\n",
        "], ordered=True)"
      ],
      "execution_count": 400,
      "outputs": []
    },
    {
      "cell_type": "code",
      "metadata": {
        "id": "ht2QA-bL-9fz",
        "colab_type": "code",
        "colab": {}
      },
      "source": [
        "hk_situation_en_old_df['Confirmed/probable'] = hk_situation_en_old_df['Confirmed/probable'].apply(str.casefold).map(confirmation_status_mapping_casefold).astype(confirmation_status_type)"
      ],
      "execution_count": 401,
      "outputs": []
    },
    {
      "cell_type": "code",
      "metadata": {
        "id": "M7FWXo95-cWx",
        "colab_type": "code",
        "colab": {
          "base_uri": "https://localhost:8080/",
          "height": 68
        },
        "outputId": "7ea7ae9f-b3d9-4434-e076-eedf22e7ba22"
      },
      "source": [
        "hk_situation_en_old_df['Confirmed/probable'].value_counts()"
      ],
      "execution_count": 402,
      "outputs": [
        {
          "output_type": "execute_result",
          "data": {
            "text/plain": [
              "Confirmed    4312\n",
              "Probable        1\n",
              "Name: Confirmed/probable, dtype: int64"
            ]
          },
          "metadata": {
            "tags": []
          },
          "execution_count": 402
        }
      ]
    },
    {
      "cell_type": "code",
      "metadata": {
        "id": "Ufu66cok--yO",
        "colab_type": "code",
        "colab": {}
      },
      "source": [
        "hk_situation_en_new_df['Confirmed/probable'] = hk_situation_en_new_df['Confirmed/probable'].apply(str.casefold).map(confirmation_status_mapping_casefold).astype(confirmation_status_type)"
      ],
      "execution_count": 403,
      "outputs": []
    },
    {
      "cell_type": "code",
      "metadata": {
        "id": "s2-qMrz6-mfD",
        "colab_type": "code",
        "colab": {
          "base_uri": "https://localhost:8080/",
          "height": 68
        },
        "outputId": "2ace1631-f9ab-489e-d9f1-ee8b6e559fb9"
      },
      "source": [
        "hk_situation_en_new_df['Confirmed/probable'].value_counts()"
      ],
      "execution_count": 404,
      "outputs": [
        {
          "output_type": "execute_result",
          "data": {
            "text/plain": [
              "Confirmed    48\n",
              "Probable      0\n",
              "Name: Confirmed/probable, dtype: int64"
            ]
          },
          "metadata": {
            "tags": []
          },
          "execution_count": 404
        }
      ]
    },
    {
      "cell_type": "markdown",
      "metadata": {
        "id": "uOaTj16sANov",
        "colab_type": "text"
      },
      "source": [
        "### 4.7 Report date"
      ]
    },
    {
      "cell_type": "code",
      "metadata": {
        "id": "TlHyIK2XBVkx",
        "colab_type": "code",
        "colab": {}
      },
      "source": [
        "hk_situation_en_new_df['Report date'] = pd.to_datetime(hk_situation_en_new_df['Report date'], format='%d/%m/%Y')"
      ],
      "execution_count": 405,
      "outputs": []
    },
    {
      "cell_type": "code",
      "metadata": {
        "id": "yma6OWKEAMk5",
        "colab_type": "code",
        "colab": {}
      },
      "source": [
        "# Did not use\n",
        "# hk_situation_en_new_df['Report date'] = hk_situation_en_new_df['Report date'].apply(lambda d: datetime.strptime(d, '%d/%m/%Y').date())."
      ],
      "execution_count": 406,
      "outputs": []
    },
    {
      "cell_type": "code",
      "metadata": {
        "id": "3swZPquS_RKX",
        "colab_type": "code",
        "colab": {}
      },
      "source": [
        "hk_situation_en_old_df['Report date'] = pd.to_datetime(hk_situation_en_old_df['Report date'], format='%d/%m/%Y')"
      ],
      "execution_count": 407,
      "outputs": []
    },
    {
      "cell_type": "markdown",
      "metadata": {
        "id": "8VQiL1NyCw0n",
        "colab_type": "text"
      },
      "source": [
        "### 4.8 Onset Date"
      ]
    },
    {
      "cell_type": "markdown",
      "metadata": {
        "id": "35gcE6yvELZO",
        "colab_type": "text"
      },
      "source": [
        "Check what we may see"
      ]
    },
    {
      "cell_type": "code",
      "metadata": {
        "id": "2ZHMn6SxCPmm",
        "colab_type": "code",
        "colab": {
          "base_uri": "https://localhost:8080/",
          "height": 255
        },
        "outputId": "72471dfd-a982-44be-9f21-5a61e75c16be"
      },
      "source": [
        "hk_situation_en_new_df['Date of onset'].value_counts()"
      ],
      "execution_count": 408,
      "outputs": [
        {
          "output_type": "execute_result",
          "data": {
            "text/plain": [
              "Asymptomatic       24\n",
              "11/08/2020          7\n",
              "12/08/2020          3\n",
              "07/08/2020          3\n",
              "10/08/2020          2\n",
              "08/08/2020          2\n",
              "09/08/2020          1\n",
              "30/07/2020          1\n",
              "Mid- July, 2020     1\n",
              "03/08/2020          1\n",
              "06/08/2020          1\n",
              "04/08/2020          1\n",
              "31/07/2020          1\n",
              "Name: Date of onset, dtype: int64"
            ]
          },
          "metadata": {
            "tags": []
          },
          "execution_count": 408
        }
      ]
    },
    {
      "cell_type": "code",
      "metadata": {
        "id": "pONNbb7kBqd6",
        "colab_type": "code",
        "colab": {
          "base_uri": "https://localhost:8080/",
          "height": 221
        },
        "outputId": "2dfeefd1-5c26-4c1d-b287-a98ec359d439"
      },
      "source": [
        "hk_situation_en_old_df['Date of onset'].value_counts()"
      ],
      "execution_count": 409,
      "outputs": [
        {
          "output_type": "execute_result",
          "data": {
            "text/plain": [
              "Asymptomatic    915\n",
              "27/07/2020      131\n",
              "25/07/2020      118\n",
              "24/07/2020      109\n",
              "21/07/2020      106\n",
              "               ... \n",
              "26/05/2020        1\n",
              "January           1\n",
              "05/03/2020        1\n",
              "11/05/2020        1\n",
              "15/04/2020        1\n",
              "Name: Date of onset, Length: 168, dtype: int64"
            ]
          },
          "metadata": {
            "tags": []
          },
          "execution_count": 409
        }
      ]
    },
    {
      "cell_type": "code",
      "metadata": {
        "id": "nAfZx56dEQky",
        "colab_type": "code",
        "colab": {}
      },
      "source": [
        "hk_situation_en_new_df['Date of onset original'] = hk_situation_en_new_df['Date of onset'].astype(str)"
      ],
      "execution_count": 410,
      "outputs": []
    },
    {
      "cell_type": "code",
      "metadata": {
        "id": "kGChy1F4Eiw7",
        "colab_type": "code",
        "colab": {}
      },
      "source": [
        "hk_situation_en_old_df['Date of onset original'] = hk_situation_en_old_df['Date of onset'].astype(str)"
      ],
      "execution_count": 411,
      "outputs": []
    },
    {
      "cell_type": "code",
      "metadata": {
        "id": "SMXmGZ7cFBpq",
        "colab_type": "code",
        "colab": {}
      },
      "source": [
        "hk_situation_en_new_df['Date of onset'] = pd.to_datetime(hk_situation_en_new_df['Date of onset original'], format='%d/%m/%Y', errors='coerce')"
      ],
      "execution_count": 412,
      "outputs": []
    },
    {
      "cell_type": "code",
      "metadata": {
        "id": "RsDHtKv-FywB",
        "colab_type": "code",
        "colab": {}
      },
      "source": [
        "hk_situation_en_old_df['Date of onset'] = pd.to_datetime(hk_situation_en_old_df['Date of onset original'], format='%d/%m/%Y', errors='coerce')"
      ],
      "execution_count": 413,
      "outputs": []
    },
    {
      "cell_type": "code",
      "metadata": {
        "id": "CWg8dOOBF5bD",
        "colab_type": "code",
        "colab": {
          "base_uri": "https://localhost:8080/",
          "height": 850
        },
        "outputId": "d412a703-cff2-42c9-d149-e6fa3721060c"
      },
      "source": [
        "hk_situation_en_new_df['Date of onset']"
      ],
      "execution_count": 414,
      "outputs": [
        {
          "output_type": "execute_result",
          "data": {
            "text/plain": [
              "0           NaT\n",
              "1           NaT\n",
              "2    2020-08-03\n",
              "3           NaT\n",
              "4    2020-07-31\n",
              "5    2020-08-11\n",
              "6           NaT\n",
              "7           NaT\n",
              "8           NaT\n",
              "9           NaT\n",
              "10          NaT\n",
              "11          NaT\n",
              "12          NaT\n",
              "13   2020-08-07\n",
              "14   2020-08-11\n",
              "15   2020-08-06\n",
              "0    2020-08-10\n",
              "1    2020-08-08\n",
              "2    2020-08-11\n",
              "3    2020-08-12\n",
              "4    2020-08-11\n",
              "5           NaT\n",
              "6    2020-08-07\n",
              "7    2020-08-04\n",
              "8    2020-08-11\n",
              "9    2020-08-09\n",
              "10          NaT\n",
              "11   2020-08-07\n",
              "12          NaT\n",
              "13          NaT\n",
              "14   2020-08-12\n",
              "15   2020-08-11\n",
              "16          NaT\n",
              "17   2020-08-12\n",
              "18          NaT\n",
              "19          NaT\n",
              "20          NaT\n",
              "21          NaT\n",
              "22   2020-08-10\n",
              "0           NaT\n",
              "1           NaT\n",
              "2           NaT\n",
              "3           NaT\n",
              "4    2020-07-30\n",
              "5    2020-08-08\n",
              "6    2020-08-11\n",
              "7           NaT\n",
              "8           NaT\n",
              "Name: Date of onset, dtype: datetime64[ns]"
            ]
          },
          "metadata": {
            "tags": []
          },
          "execution_count": 414
        }
      ]
    },
    {
      "cell_type": "markdown",
      "metadata": {
        "id": "-ptdKU-WGlcl",
        "colab_type": "text"
      },
      "source": [
        "TODO: for Asymptomatic, a flag should be added to data engineering stage"
      ]
    },
    {
      "cell_type": "markdown",
      "metadata": {
        "id": "SJHzNDgVGzEN",
        "colab_type": "text"
      },
      "source": [
        "TODO: for other malformatted date, should use a flag to indicate and manually fix with code (reproducible)"
      ]
    },
    {
      "cell_type": "code",
      "metadata": {
        "id": "UClD_WG4F3YP",
        "colab_type": "code",
        "colab": {
          "base_uri": "https://localhost:8080/",
          "height": 850
        },
        "outputId": "2af87576-3a57-49c8-c405-fbaa6fa2aa7c"
      },
      "source": [
        "hk_situation_en_new_df['Date of onset original']"
      ],
      "execution_count": 415,
      "outputs": [
        {
          "output_type": "execute_result",
          "data": {
            "text/plain": [
              "0        Asymptomatic\n",
              "1        Asymptomatic\n",
              "2          03/08/2020\n",
              "3        Asymptomatic\n",
              "4          31/07/2020\n",
              "5          11/08/2020\n",
              "6        Asymptomatic\n",
              "7        Asymptomatic\n",
              "8        Asymptomatic\n",
              "9        Asymptomatic\n",
              "10       Asymptomatic\n",
              "11       Asymptomatic\n",
              "12       Asymptomatic\n",
              "13         07/08/2020\n",
              "14         11/08/2020\n",
              "15         06/08/2020\n",
              "0          10/08/2020\n",
              "1          08/08/2020\n",
              "2          11/08/2020\n",
              "3          12/08/2020\n",
              "4          11/08/2020\n",
              "5     Mid- July, 2020\n",
              "6          07/08/2020\n",
              "7          04/08/2020\n",
              "8          11/08/2020\n",
              "9          09/08/2020\n",
              "10       Asymptomatic\n",
              "11         07/08/2020\n",
              "12       Asymptomatic\n",
              "13       Asymptomatic\n",
              "14         12/08/2020\n",
              "15         11/08/2020\n",
              "16       Asymptomatic\n",
              "17         12/08/2020\n",
              "18       Asymptomatic\n",
              "19       Asymptomatic\n",
              "20       Asymptomatic\n",
              "21       Asymptomatic\n",
              "22         10/08/2020\n",
              "0        Asymptomatic\n",
              "1        Asymptomatic\n",
              "2        Asymptomatic\n",
              "3        Asymptomatic\n",
              "4          30/07/2020\n",
              "5          08/08/2020\n",
              "6          11/08/2020\n",
              "7        Asymptomatic\n",
              "8        Asymptomatic\n",
              "Name: Date of onset original, dtype: object"
            ]
          },
          "metadata": {
            "tags": []
          },
          "execution_count": 415
        }
      ]
    },
    {
      "cell_type": "code",
      "metadata": {
        "id": "_24PWTELF6pe",
        "colab_type": "code",
        "colab": {
          "base_uri": "https://localhost:8080/",
          "height": 459
        },
        "outputId": "465a86c2-1d6e-47f0-8e0b-65855f41c248"
      },
      "source": [
        "hk_situation_en_new_df['Date of onset original'][hk_situation_en_new_df['Date of onset'].isnull()]"
      ],
      "execution_count": 416,
      "outputs": [
        {
          "output_type": "execute_result",
          "data": {
            "text/plain": [
              "0        Asymptomatic\n",
              "1        Asymptomatic\n",
              "3        Asymptomatic\n",
              "6        Asymptomatic\n",
              "7        Asymptomatic\n",
              "8        Asymptomatic\n",
              "9        Asymptomatic\n",
              "10       Asymptomatic\n",
              "11       Asymptomatic\n",
              "12       Asymptomatic\n",
              "5     Mid- July, 2020\n",
              "10       Asymptomatic\n",
              "12       Asymptomatic\n",
              "13       Asymptomatic\n",
              "16       Asymptomatic\n",
              "18       Asymptomatic\n",
              "19       Asymptomatic\n",
              "20       Asymptomatic\n",
              "21       Asymptomatic\n",
              "0        Asymptomatic\n",
              "1        Asymptomatic\n",
              "2        Asymptomatic\n",
              "3        Asymptomatic\n",
              "7        Asymptomatic\n",
              "8        Asymptomatic\n",
              "Name: Date of onset original, dtype: object"
            ]
          },
          "metadata": {
            "tags": []
          },
          "execution_count": 416
        }
      ]
    },
    {
      "cell_type": "markdown",
      "metadata": {
        "id": "96FXGHndJEnG",
        "colab_type": "text"
      },
      "source": [
        "TODO fix the index"
      ]
    },
    {
      "cell_type": "code",
      "metadata": {
        "id": "OXHrFJbiIZIy",
        "colab_type": "code",
        "colab": {
          "base_uri": "https://localhost:8080/",
          "height": 119
        },
        "outputId": "b9367916-27ae-4738-b7a5-43e3c2143f8d"
      },
      "source": [
        "hk_situation_en_old_df['Date of onset original'][hk_situation_en_old_df['Date of onset'].isnull()].value_counts()"
      ],
      "execution_count": 417,
      "outputs": [
        {
          "output_type": "execute_result",
          "data": {
            "text/plain": [
              "Asymptomatic    915\n",
              "Pending          59\n",
              "Unknown          23\n",
              "January           1\n",
              "Mid-March         1\n",
              "Name: Date of onset original, dtype: int64"
            ]
          },
          "metadata": {
            "tags": []
          },
          "execution_count": 417
        }
      ]
    },
    {
      "cell_type": "code",
      "metadata": {
        "id": "Q4FQOGoZJJCO",
        "colab_type": "code",
        "colab": {
          "base_uri": "https://localhost:8080/",
          "height": 187
        },
        "outputId": "7911f8c8-e5c2-4f2b-b965-ceef57853647"
      },
      "source": [
        "hk_situation_en_new_df.dtypes"
      ],
      "execution_count": 418,
      "outputs": [
        {
          "output_type": "execute_result",
          "data": {
            "text/plain": [
              "Case no.                           int64\n",
              "Report date               datetime64[ns]\n",
              "Date of onset             datetime64[ns]\n",
              "Gender                          category\n",
              "Age                                int64\n",
              "HK/Non-HK resident              category\n",
              "Case classification             category\n",
              "Confirmed/probable              category\n",
              "Date of onset original            object\n",
              "dtype: object"
            ]
          },
          "metadata": {
            "tags": []
          },
          "execution_count": 418
        }
      ]
    },
    {
      "cell_type": "code",
      "metadata": {
        "id": "Ah4ceOKgMtQm",
        "colab_type": "code",
        "colab": {
          "base_uri": "https://localhost:8080/",
          "height": 85
        },
        "outputId": "5d9a2d0c-e701-4077-9fa9-904abd0b1cac"
      },
      "source": [
        "hk_situation_en_new_df.index"
      ],
      "execution_count": 419,
      "outputs": [
        {
          "output_type": "execute_result",
          "data": {
            "text/plain": [
              "Int64Index([ 0,  1,  2,  3,  4,  5,  6,  7,  8,  9, 10, 11, 12, 13, 14, 15,  0,\n",
              "             1,  2,  3,  4,  5,  6,  7,  8,  9, 10, 11, 12, 13, 14, 15, 16, 17,\n",
              "            18, 19, 20, 21, 22,  0,  1,  2,  3,  4,  5,  6,  7,  8],\n",
              "           dtype='int64')"
            ]
          },
          "metadata": {
            "tags": []
          },
          "execution_count": 419
        }
      ]
    },
    {
      "cell_type": "code",
      "metadata": {
        "id": "urJNOaxCPjxo",
        "colab_type": "code",
        "colab": {}
      },
      "source": [
        "hk_situation_en_new_df = hk_situation_en_new_df.reset_index(drop=True)"
      ],
      "execution_count": 420,
      "outputs": []
    },
    {
      "cell_type": "code",
      "metadata": {
        "id": "IfSVewPCPsMg",
        "colab_type": "code",
        "colab": {
          "base_uri": "https://localhost:8080/",
          "height": 34
        },
        "outputId": "549881d7-01a2-4135-99ea-30a347fa7b68"
      },
      "source": [
        "hk_situation_en_new_df.index"
      ],
      "execution_count": 421,
      "outputs": [
        {
          "output_type": "execute_result",
          "data": {
            "text/plain": [
              "RangeIndex(start=0, stop=48, step=1)"
            ]
          },
          "metadata": {
            "tags": []
          },
          "execution_count": 421
        }
      ]
    },
    {
      "cell_type": "code",
      "metadata": {
        "id": "3zcHmddGPu6Z",
        "colab_type": "code",
        "colab": {}
      },
      "source": [
        "hk_situation_en_old_df = hk_situation_en_old_df.reset_index(drop=True)"
      ],
      "execution_count": 422,
      "outputs": []
    },
    {
      "cell_type": "code",
      "metadata": {
        "id": "IlcpCEovP-B1",
        "colab_type": "code",
        "colab": {
          "base_uri": "https://localhost:8080/",
          "height": 34
        },
        "outputId": "c33929a0-7506-4e38-a290-7455fac67291"
      },
      "source": [
        "hk_situation_en_old_df.index"
      ],
      "execution_count": 423,
      "outputs": [
        {
          "output_type": "execute_result",
          "data": {
            "text/plain": [
              "RangeIndex(start=0, stop=4313, step=1)"
            ]
          },
          "metadata": {
            "tags": []
          },
          "execution_count": 423
        }
      ]
    },
    {
      "cell_type": "markdown",
      "metadata": {
        "id": "OGY_x1QQQnag",
        "colab_type": "text"
      },
      "source": [
        "## 5. Merge new and old"
      ]
    },
    {
      "cell_type": "code",
      "metadata": {
        "id": "dDFKhaYuQm_9",
        "colab_type": "code",
        "colab": {
          "base_uri": "https://localhost:8080/",
          "height": 85
        },
        "outputId": "7933aa78-6659-4a68-92b2-77820267941a"
      },
      "source": [
        "hk_situation_en_old_df.columns"
      ],
      "execution_count": 424,
      "outputs": [
        {
          "output_type": "execute_result",
          "data": {
            "text/plain": [
              "Index(['Case no.', 'Report date', 'Date of onset', 'Gender', 'Age',\n",
              "       'Hospitalised/Discharged/Deceased', 'HK/Non-HK resident',\n",
              "       'Case classification', 'Confirmed/probable', 'Date of onset original'],\n",
              "      dtype='object')"
            ]
          },
          "metadata": {
            "tags": []
          },
          "execution_count": 424
        }
      ]
    },
    {
      "cell_type": "code",
      "metadata": {
        "id": "3pkyJkAyQhsz",
        "colab_type": "code",
        "colab": {
          "base_uri": "https://localhost:8080/",
          "height": 85
        },
        "outputId": "b552a1ee-d507-4602-8224-c6d394eb237c"
      },
      "source": [
        "hk_situation_en_new_df.columns"
      ],
      "execution_count": 425,
      "outputs": [
        {
          "output_type": "execute_result",
          "data": {
            "text/plain": [
              "Index(['Case no.', 'Report date', 'Date of onset', 'Gender', 'Age',\n",
              "       'HK/Non-HK resident', 'Case classification', 'Confirmed/probable',\n",
              "       'Date of onset original'],\n",
              "      dtype='object')"
            ]
          },
          "metadata": {
            "tags": []
          },
          "execution_count": 425
        }
      ]
    },
    {
      "cell_type": "code",
      "metadata": {
        "id": "UMwmwDKERCM_",
        "colab_type": "code",
        "colab": {}
      },
      "source": [
        "human_merged_name = ['Case no.', 'Report date', 'Date of onset', 'Gender', 'Age', 'Status', 'Resident status', 'Case classification', 'Confirmation status', 'Date of onset original']"
      ],
      "execution_count": 426,
      "outputs": []
    },
    {
      "cell_type": "code",
      "metadata": {
        "id": "9iP7LiGkRlzE",
        "colab_type": "code",
        "colab": {}
      },
      "source": [
        "# Ref: https://stackoverflow.com/a/44296858\n",
        "columns_rename_dict = dict(zip(hk_situation_en_old_df.columns, human_merged_name))\n",
        "hk_situation_en_old_df = hk_situation_en_old_df.rename(columns=columns_rename_dict)"
      ],
      "execution_count": 427,
      "outputs": []
    },
    {
      "cell_type": "code",
      "metadata": {
        "id": "pe45_kjTSTqx",
        "colab_type": "code",
        "colab": {
          "base_uri": "https://localhost:8080/",
          "height": 204
        },
        "outputId": "b6d034ce-10df-48dc-a5a3-df1f3e3e7854"
      },
      "source": [
        "hk_situation_en_old_df.dtypes"
      ],
      "execution_count": 428,
      "outputs": [
        {
          "output_type": "execute_result",
          "data": {
            "text/plain": [
              "Case no.                           int64\n",
              "Report date               datetime64[ns]\n",
              "Date of onset             datetime64[ns]\n",
              "Gender                          category\n",
              "Age                              float64\n",
              "Status                          category\n",
              "Resident status                 category\n",
              "Case classification             category\n",
              "Confirmation status             category\n",
              "Date of onset original            object\n",
              "dtype: object"
            ]
          },
          "metadata": {
            "tags": []
          },
          "execution_count": 428
        }
      ]
    },
    {
      "cell_type": "code",
      "metadata": {
        "id": "mJMGmr3WUrEB",
        "colab_type": "code",
        "colab": {}
      },
      "source": [
        "hk_situation_en_new_df = hk_situation_en_new_df.rename(columns=columns_rename_dict)"
      ],
      "execution_count": 429,
      "outputs": []
    },
    {
      "cell_type": "code",
      "metadata": {
        "id": "5e09YOGoUA-0",
        "colab_type": "code",
        "colab": {}
      },
      "source": [
        "hk_situation_en_new_df['Status'] = 'New'"
      ],
      "execution_count": 430,
      "outputs": []
    },
    {
      "cell_type": "code",
      "metadata": {
        "id": "qrolkG-5VK1o",
        "colab_type": "code",
        "colab": {}
      },
      "source": [
        "hk_situation_en_new_df['Status'] = hk_situation_en_new_df['Status'].astype(status_type)"
      ],
      "execution_count": 431,
      "outputs": []
    },
    {
      "cell_type": "code",
      "metadata": {
        "id": "EvDfLhmkUHX9",
        "colab_type": "code",
        "colab": {
          "base_uri": "https://localhost:8080/",
          "height": 119
        },
        "outputId": "4842c05d-8288-42ed-c5c0-1fd06ea049b8"
      },
      "source": [
        "hk_situation_en_new_df['Status'].value_counts()"
      ],
      "execution_count": 432,
      "outputs": [
        {
          "output_type": "execute_result",
          "data": {
            "text/plain": [
              "New             48\n",
              "No admission     0\n",
              "Deceased         0\n",
              "Discharged       0\n",
              "Hospitalised     0\n",
              "Name: Status, dtype: int64"
            ]
          },
          "metadata": {
            "tags": []
          },
          "execution_count": 432
        }
      ]
    },
    {
      "cell_type": "code",
      "metadata": {
        "id": "kSgztXNsR3CB",
        "colab_type": "code",
        "colab": {}
      },
      "source": [
        "hk_situation_en_merged_df = pd.concat([hk_situation_en_old_df, hk_situation_en_new_df])"
      ],
      "execution_count": 433,
      "outputs": []
    },
    {
      "cell_type": "code",
      "metadata": {
        "id": "czXfDkLOSGLj",
        "colab_type": "code",
        "colab": {
          "base_uri": "https://localhost:8080/",
          "height": 204
        },
        "outputId": "086e37e7-7d1c-41be-a9ae-51fcf23e6c9b"
      },
      "source": [
        "hk_situation_en_merged_df.dtypes"
      ],
      "execution_count": 434,
      "outputs": [
        {
          "output_type": "execute_result",
          "data": {
            "text/plain": [
              "Case no.                           int64\n",
              "Report date               datetime64[ns]\n",
              "Date of onset             datetime64[ns]\n",
              "Gender                          category\n",
              "Age                              float64\n",
              "Status                          category\n",
              "Resident status                 category\n",
              "Case classification             category\n",
              "Confirmation status             category\n",
              "Date of onset original            object\n",
              "dtype: object"
            ]
          },
          "metadata": {
            "tags": []
          },
          "execution_count": 434
        }
      ]
    },
    {
      "cell_type": "code",
      "metadata": {
        "id": "CPcIqkz4UUFX",
        "colab_type": "code",
        "colab": {
          "base_uri": "https://localhost:8080/",
          "height": 119
        },
        "outputId": "5afeb167-79ef-4375-dfeb-6a00ba85399d"
      },
      "source": [
        "hk_situation_en_merged_df['Status'].value_counts()"
      ],
      "execution_count": 435,
      "outputs": [
        {
          "output_type": "execute_result",
          "data": {
            "text/plain": [
              "Discharged      3392\n",
              "Hospitalised     829\n",
              "Deceased          66\n",
              "New               48\n",
              "No admission      26\n",
              "Name: Status, dtype: int64"
            ]
          },
          "metadata": {
            "tags": []
          },
          "execution_count": 435
        }
      ]
    },
    {
      "cell_type": "markdown",
      "metadata": {
        "id": "npEe2jQjQL6-",
        "colab_type": "text"
      },
      "source": [
        "## 6. Export to parquet"
      ]
    },
    {
      "cell_type": "code",
      "metadata": {
        "id": "F00f4quvQD0C",
        "colab_type": "code",
        "colab": {}
      },
      "source": [
        "hk_situation_en_new_df.to_parquet('transformed-new-en.parquet')"
      ],
      "execution_count": 436,
      "outputs": []
    },
    {
      "cell_type": "code",
      "metadata": {
        "id": "rynL39pxQddf",
        "colab_type": "code",
        "colab": {}
      },
      "source": [
        "hk_situation_en_old_df.to_parquet('transformed-old-en.parquet')"
      ],
      "execution_count": 437,
      "outputs": []
    },
    {
      "cell_type": "code",
      "metadata": {
        "id": "XGWoWyVPQgyI",
        "colab_type": "code",
        "colab": {}
      },
      "source": [
        "hk_situation_en_merged_df.to_parquet('transformed-merged-en.parquet')"
      ],
      "execution_count": 438,
      "outputs": []
    }
  ]
}