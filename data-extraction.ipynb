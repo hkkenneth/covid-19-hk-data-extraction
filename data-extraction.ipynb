{
 "cells": [
  {
   "cell_type": "markdown",
   "metadata": {
    "colab_type": "text",
    "id": "Qa5dBgBOc1OX"
   },
   "source": [
    "# Data Extraction From PDF"
   ]
  },
  {
   "cell_type": "markdown",
   "metadata": {
    "colab_type": "text",
    "id": "9HiiNGYfXTkT"
   },
   "source": [
    "## 1. Check Java Versions"
   ]
  },
  {
   "cell_type": "code",
   "execution_count": 1,
   "metadata": {
    "colab": {
     "base_uri": "https://localhost:8080/",
     "height": 88
    },
    "colab_type": "code",
    "id": "GZWQUFT2XWWW",
    "outputId": "ad756676-b0c3-4627-b836-108fef28fa77"
   },
   "outputs": [
    {
     "name": "stdout",
     "output_type": "stream",
     "text": [
      "openjdk version \"1.8.0_222\"\r\n",
      "OpenJDK Runtime Environment (Zulu 8.40.0.25-CA-linux64) (build 1.8.0_222-b10)\r\n",
      "OpenJDK 64-Bit Server VM (Zulu 8.40.0.25-CA-linux64) (build 25.222-b10, mixed mode)\r\n"
     ]
    }
   ],
   "source": [
    "!java -version"
   ]
  },
  {
   "cell_type": "markdown",
   "metadata": {
    "colab_type": "text",
    "id": "MUo9dhAcdQSj"
   },
   "source": [
    "## 2. Import libraries"
   ]
  },
  {
   "cell_type": "code",
   "execution_count": 2,
   "metadata": {
    "colab": {
     "base_uri": "https://localhost:8080/",
     "height": 34
    },
    "colab_type": "code",
    "id": "H0l7BRgIX1f7",
    "outputId": "18f96a6a-d731-4858-c5d3-044d9807264c"
   },
   "outputs": [
    {
     "name": "stdout",
     "output_type": "stream",
     "text": [
      "\u001b[33mWARNING: You are using pip version 19.2.2, however version 20.2.2 is available.\r\n",
      "You should consider upgrading via the 'pip install --upgrade pip' command.\u001b[0m\r\n"
     ]
    }
   ],
   "source": [
    "!pip install -q tabula-py"
   ]
  },
  {
   "cell_type": "code",
   "execution_count": 3,
   "metadata": {
    "colab": {
     "base_uri": "https://localhost:8080/",
     "height": 275
    },
    "colab_type": "code",
    "id": "Qlhe69zOX4Vc",
    "outputId": "e3e621a3-b32b-4af6-e35f-175bf55747b2"
   },
   "outputs": [
    {
     "name": "stdout",
     "output_type": "stream",
     "text": [
      "Python version:\n",
      "    3.6.9 (default, Aug 14 2019, 12:46:29) \n",
      "[GCC 8.3.0]\n",
      "Java version:\n",
      "    openjdk version \"1.8.0_222\"\n",
      "OpenJDK Runtime Environment (Zulu 8.40.0.25-CA-linux64) (build 1.8.0_222-b10)\n",
      "OpenJDK 64-Bit Server VM (Zulu 8.40.0.25-CA-linux64) (build 25.222-b10, mixed mode)\n",
      "tabula-py version: 2.1.1\n",
      "platform: Linux-4.15.0-1077-aws-x86_64-with-debian-10.0\n",
      "uname:\n",
      "    uname_result(system='Linux', node='4220029f5519', release='4.15.0-1077-aws', version='#81-Ubuntu SMP Wed Jun 24 16:48:15 UTC 2020', machine='x86_64', processor='')\n",
      "linux_distribution: ('Debian GNU/Linux', '10', 'buster')\n",
      "mac_ver: ('', ('', '', ''), '')\n",
      "    \n"
     ]
    }
   ],
   "source": [
    "import tabula\n",
    "\n",
    "tabula.environment_info()"
   ]
  },
  {
   "cell_type": "code",
   "execution_count": 4,
   "metadata": {
    "colab": {},
    "colab_type": "code",
    "id": "LvyJVCnUcx08"
   },
   "outputs": [],
   "source": [
    "import pandas as pd"
   ]
  },
  {
   "cell_type": "markdown",
   "metadata": {
    "colab_type": "text",
    "id": "YBcdrUPcXeLX"
   },
   "source": [
    "## 3. Library for this notebook"
   ]
  },
  {
   "cell_type": "code",
   "execution_count": 5,
   "metadata": {
    "colab": {},
    "colab_type": "code",
    "id": "5Srq8XMZXdqW"
   },
   "outputs": [],
   "source": [
    "def extract_hk_situation_en_new_df(pdf=None, pdf_all=None):\n",
    "  # Elements are pandas pandas.core.frame.DataFrame\n",
    "  if pdf_all is None:\n",
    "    pdf_all = tabula.read_pdf(pdf, pages=\"all\", lattice=True)\n",
    "  guess_new_end = 0\n",
    "  \n",
    "  for i in range(len(pdf_all)):\n",
    "    if (pdf_all[i].shape[1] == 8) and (pdf_all[i].columns[0] == 'Case no.' or pdf_all[i].columns[0] == 'Case\\rno.'):\n",
    "      guess_new_end = i + 1\n",
    "    else:\n",
    "      break\n",
    "  print(\"The first %s pages are new cases\" % guess_new_end)\n",
    "\n",
    "  df_new_only = pd.concat([pdf_all[i] for i in range(guess_new_end)])\n",
    "  print(\"There are %s new cases\" % df_new_only.shape[0])\n",
    "  \n",
    "  human_columns_new = ['Case no.', 'Report date', 'Date of onset', 'Gender', 'Age', 'HK/Non-HK resident', 'Case classification', 'Confirmed/probable']\n",
    "  \n",
    "  # Ref: https://stackoverflow.com/a/44296858\n",
    "  columns_rename_dict = dict(zip(df_new_only.columns, human_columns_new))\n",
    "  df_new_only = df_new_only.rename(columns=columns_rename_dict)\n",
    "  return df_new_only"
   ]
  },
  {
   "cell_type": "code",
   "execution_count": 6,
   "metadata": {
    "colab": {},
    "colab_type": "code",
    "id": "tBXMwOIVXu7c"
   },
   "outputs": [],
   "source": [
    "def extract_hk_situation_en_old_df(pdf=None, pdf_all=None):\n",
    "  if pdf_all is None:\n",
    "    pdf_all = tabula.read_pdf(pdf, pages=\"all\", lattice=True)\n",
    "  guess_old = []\n",
    "  # --- old\n",
    "  for i in range(len(pdf_all)):\n",
    "    if (pdf_all[i].shape[1] == 9) and (pdf_all[i].columns[0] == 'Case no.' or pdf_all[i].columns[0] == 'Case\\rno.'):\n",
    "      guess_old.append(i)\n",
    "  \n",
    "  print(\"The old list is %s pages long\" % len(guess_old))\n",
    "\n",
    "  df_old_only = pd.concat([pdf_all[i] for i in guess_old])\n",
    "  print(\"There are %s old cases\" % df_old_only.shape[0])\n",
    "  \n",
    "  human_columns_full = ['Case no.', 'Report date', 'Date of onset', 'Gender', 'Age', 'Hospitalised/Discharged/Deceased', 'HK/Non-HK resident', 'Case classification', 'Confirmed/probable']\n",
    "    # Ref: https://stackoverflow.com/a/44296858\n",
    "  columns_rename_dict = dict(zip(df_old_only.columns, human_columns_full))\n",
    "  df_old_only = df_old_only.rename(columns=columns_rename_dict)\n",
    "\n",
    "  return df_old_only"
   ]
  },
  {
   "cell_type": "code",
   "execution_count": 7,
   "metadata": {
    "colab": {},
    "colab_type": "code",
    "id": "OMDmvQ_EbfzF"
   },
   "outputs": [],
   "source": [
    "## 4. Data Extraction"
   ]
  },
  {
   "cell_type": "markdown",
   "metadata": {
    "colab_type": "text",
    "id": "dT7g6y9Hc3Fq"
   },
   "source": [
    "### 4.1 Obtain the data in PDF"
   ]
  },
  {
   "cell_type": "code",
   "execution_count": 8,
   "metadata": {
    "colab": {
     "base_uri": "https://localhost:8080/",
     "height": 68
    },
    "colab_type": "code",
    "id": "sgBUrG05c00e",
    "outputId": "feb1f373-a59b-4405-e3f5-b7bd14fb3c5e"
   },
   "outputs": [
    {
     "name": "stdout",
     "output_type": "stream",
     "text": [
      "  % Total    % Received % Xferd  Average Speed   Time    Time     Time  Current\r\n",
      "                                 Dload  Upload   Total   Spent    Left  Speed\r\n",
      "100 9536k  100 9536k    0     0  53.2M      0 --:--:-- --:--:-- --:--:-- 53.2M\r\n"
     ]
    }
   ],
   "source": [
    "!curl -O https://raw.githubusercontent.com/hkkenneth/covid-19-hk-data/2020-08-14/2020-08-14/local_situation_covid19_en.pdf"
   ]
  },
  {
   "cell_type": "code",
   "execution_count": 9,
   "metadata": {
    "colab": {},
    "colab_type": "code",
    "id": "f-WvPXMNbl0q"
   },
   "outputs": [],
   "source": [
    "### 4.2 Use Tabula to extract data"
   ]
  },
  {
   "cell_type": "code",
   "execution_count": 10,
   "metadata": {
    "colab": {},
    "colab_type": "code",
    "id": "w42asooxc0xb"
   },
   "outputs": [],
   "source": [
    "pdf = 'local_situation_covid19_en.pdf'"
   ]
  },
  {
   "cell_type": "code",
   "execution_count": 11,
   "metadata": {
    "colab": {
     "base_uri": "https://localhost:8080/",
     "height": 292
    },
    "colab_type": "code",
    "id": "x8yl0zOlc0iA",
    "outputId": "638aa8f6-e486-4f8f-b05e-15495c5b0338"
   },
   "outputs": [
    {
     "name": "stderr",
     "output_type": "stream",
     "text": [
      "Got stderr: Aug 15, 2020 3:19:42 PM org.apache.pdfbox.pdmodel.font.FileSystemFontProvider loadDiskCache\n",
      "WARNING: New fonts found, font cache will be re-built\n",
      "Aug 15, 2020 3:19:42 PM org.apache.pdfbox.pdmodel.font.FileSystemFontProvider <init>\n",
      "WARNING: Building on-disk font cache, this may take a while\n",
      "Aug 15, 2020 3:19:42 PM org.apache.pdfbox.pdmodel.font.FileSystemFontProvider <init>\n",
      "WARNING: Finished building on-disk font cache, found 6 fonts\n",
      "Aug 15, 2020 3:19:42 PM org.apache.pdfbox.pdmodel.font.PDTrueTypeFont <init>\n",
      "WARNING: Using fallback font 'LiberationSans' for 'TimesNewRomanPS-BoldMT'\n",
      "Aug 15, 2020 3:19:42 PM org.apache.pdfbox.pdmodel.font.PDTrueTypeFont <init>\n",
      "WARNING: Using fallback font 'LiberationSans' for 'TimesNewRomanPSMT'\n",
      "Aug 15, 2020 3:19:42 PM org.apache.pdfbox.pdmodel.font.PDTrueTypeFont <init>\n",
      "WARNING: Using fallback font 'LiberationSans' for 'TimesNewRomanPS-BoldItalicMT'\n",
      "Aug 15, 2020 3:19:43 PM org.apache.pdfbox.pdmodel.font.PDTrueTypeFont <init>\n",
      "WARNING: Using fallback font 'LiberationSans' for 'ArialMT'\n",
      "Aug 15, 2020 3:19:43 PM org.apache.pdfbox.pdmodel.font.PDCIDFontType2 <init>\n",
      "INFO: OpenType Layout tables used in font TimesNewRomanPSMT are not implemented in PDFBox and will be ignored\n",
      "\n"
     ]
    }
   ],
   "source": [
    "pdf_all = tabula.read_pdf(pdf, pages='all', lattice=True)"
   ]
  },
  {
   "cell_type": "code",
   "execution_count": 12,
   "metadata": {
    "colab": {
     "base_uri": "https://localhost:8080/",
     "height": 51
    },
    "colab_type": "code",
    "id": "bwyd6Suec0TL",
    "outputId": "accdf048-43e1-461d-a8d0-e5e8c40b4755"
   },
   "outputs": [
    {
     "name": "stdout",
     "output_type": "stream",
     "text": [
      "The first 3 pages are new cases\n",
      "There are 48 new cases\n"
     ]
    }
   ],
   "source": [
    "hk_situation_en_new_df = extract_hk_situation_en_new_df(pdf_all=pdf_all)"
   ]
  },
  {
   "cell_type": "code",
   "execution_count": 13,
   "metadata": {
    "colab": {
     "base_uri": "https://localhost:8080/",
     "height": 51
    },
    "colab_type": "code",
    "id": "uLu1LnzKbExE",
    "outputId": "cf99513e-3760-4f55-c7f3-eeff568d4268"
   },
   "outputs": [
    {
     "name": "stdout",
     "output_type": "stream",
     "text": [
      "The old list is 180 pages long\n",
      "There are 4313 old cases\n"
     ]
    }
   ],
   "source": [
    "hk_situation_en_old_df = extract_hk_situation_en_old_df(pdf_all=pdf_all)"
   ]
  },
  {
   "cell_type": "markdown",
   "metadata": {
    "colab_type": "text",
    "id": "MUmLFZCZbrTf"
   },
   "source": [
    "## 5. Sanity Check"
   ]
  },
  {
   "cell_type": "code",
   "execution_count": 14,
   "metadata": {
    "colab": {
     "base_uri": "https://localhost:8080/",
     "height": 34
    },
    "colab_type": "code",
    "id": "uCN-RCr7bSHP",
    "outputId": "4ef03898-2361-4eda-e9b1-f4af718d2a51"
   },
   "outputs": [
    {
     "data": {
      "text/plain": [
       "(48, 8)"
      ]
     },
     "execution_count": 14,
     "metadata": {},
     "output_type": "execute_result"
    }
   ],
   "source": [
    "hk_situation_en_new_df.shape"
   ]
  },
  {
   "cell_type": "code",
   "execution_count": 15,
   "metadata": {
    "colab": {
     "base_uri": "https://localhost:8080/",
     "height": 360
    },
    "colab_type": "code",
    "id": "qf8V9GLOdCN7",
    "outputId": "e3181292-94b1-4495-cb11-9d68503330f6"
   },
   "outputs": [
    {
     "data": {
      "text/html": [
       "<div>\n",
       "<style scoped>\n",
       "    .dataframe tbody tr th:only-of-type {\n",
       "        vertical-align: middle;\n",
       "    }\n",
       "\n",
       "    .dataframe tbody tr th {\n",
       "        vertical-align: top;\n",
       "    }\n",
       "\n",
       "    .dataframe thead th {\n",
       "        text-align: right;\n",
       "    }\n",
       "</style>\n",
       "<table border=\"1\" class=\"dataframe\">\n",
       "  <thead>\n",
       "    <tr style=\"text-align: right;\">\n",
       "      <th></th>\n",
       "      <th>Case no.</th>\n",
       "      <th>Report date</th>\n",
       "      <th>Date of onset</th>\n",
       "      <th>Gender</th>\n",
       "      <th>Age</th>\n",
       "      <th>HK/Non-HK resident</th>\n",
       "      <th>Case classification</th>\n",
       "      <th>Confirmed/probable</th>\n",
       "    </tr>\n",
       "  </thead>\n",
       "  <tbody>\n",
       "    <tr>\n",
       "      <th>0</th>\n",
       "      <td>4314</td>\n",
       "      <td>14/08/2020</td>\n",
       "      <td>Asymptomatic</td>\n",
       "      <td>M</td>\n",
       "      <td>31</td>\n",
       "      <td>Unknown</td>\n",
       "      <td>Imported case</td>\n",
       "      <td>Confirmed</td>\n",
       "    </tr>\n",
       "    <tr>\n",
       "      <th>1</th>\n",
       "      <td>4315</td>\n",
       "      <td>14/08/2020</td>\n",
       "      <td>Asymptomatic</td>\n",
       "      <td>F</td>\n",
       "      <td>13</td>\n",
       "      <td>HK Resident</td>\n",
       "      <td>Epidemiologically linked with local case</td>\n",
       "      <td>Confirmed</td>\n",
       "    </tr>\n",
       "    <tr>\n",
       "      <th>2</th>\n",
       "      <td>4316</td>\n",
       "      <td>14/08/2020</td>\n",
       "      <td>03/08/2020</td>\n",
       "      <td>F</td>\n",
       "      <td>38</td>\n",
       "      <td>HK Resident</td>\n",
       "      <td>Local case</td>\n",
       "      <td>Confirmed</td>\n",
       "    </tr>\n",
       "    <tr>\n",
       "      <th>3</th>\n",
       "      <td>4317</td>\n",
       "      <td>14/08/2020</td>\n",
       "      <td>Asymptomatic</td>\n",
       "      <td>M</td>\n",
       "      <td>62</td>\n",
       "      <td>HK Resident</td>\n",
       "      <td>Epidemiologically linked with local case</td>\n",
       "      <td>Confirmed</td>\n",
       "    </tr>\n",
       "    <tr>\n",
       "      <th>4</th>\n",
       "      <td>4318</td>\n",
       "      <td>14/08/2020</td>\n",
       "      <td>31/07/2020</td>\n",
       "      <td>M</td>\n",
       "      <td>47</td>\n",
       "      <td>HK Resident</td>\n",
       "      <td>Local case</td>\n",
       "      <td>Confirmed</td>\n",
       "    </tr>\n",
       "  </tbody>\n",
       "</table>\n",
       "</div>"
      ],
      "text/plain": [
       "   Case no. Report date Date of onset Gender  Age HK/Non-HK resident  \\\n",
       "0      4314  14/08/2020  Asymptomatic      M   31            Unknown   \n",
       "1      4315  14/08/2020  Asymptomatic      F   13        HK Resident   \n",
       "2      4316  14/08/2020    03/08/2020      F   38        HK Resident   \n",
       "3      4317  14/08/2020  Asymptomatic      M   62        HK Resident   \n",
       "4      4318  14/08/2020    31/07/2020      M   47        HK Resident   \n",
       "\n",
       "                        Case classification Confirmed/probable  \n",
       "0                             Imported case          Confirmed  \n",
       "1  Epidemiologically linked with local case          Confirmed  \n",
       "2                                Local case          Confirmed  \n",
       "3  Epidemiologically linked with local case          Confirmed  \n",
       "4                                Local case          Confirmed  "
      ]
     },
     "execution_count": 15,
     "metadata": {},
     "output_type": "execute_result"
    }
   ],
   "source": [
    "hk_situation_en_new_df.head()"
   ]
  },
  {
   "cell_type": "code",
   "execution_count": 16,
   "metadata": {
    "colab": {
     "base_uri": "https://localhost:8080/",
     "height": 68
    },
    "colab_type": "code",
    "id": "7gYtVbVeeR_O",
    "outputId": "efa3d9a0-2cbf-4f44-b528-34356124cab8"
   },
   "outputs": [
    {
     "data": {
      "text/plain": [
       "F    24\n",
       "M    24\n",
       "Name: Gender, dtype: int64"
      ]
     },
     "execution_count": 16,
     "metadata": {},
     "output_type": "execute_result"
    }
   ],
   "source": [
    "hk_situation_en_new_df['Gender'].value_counts()"
   ]
  },
  {
   "cell_type": "code",
   "execution_count": 17,
   "metadata": {
    "colab": {
     "base_uri": "https://localhost:8080/",
     "height": 68
    },
    "colab_type": "code",
    "id": "FnR9BdMiemGE",
    "outputId": "39191a33-83dd-4265-9d0a-d034b48dc580"
   },
   "outputs": [
    {
     "data": {
      "text/plain": [
       "HK Resident    47\n",
       "Unknown         1\n",
       "Name: HK/Non-HK resident, dtype: int64"
      ]
     },
     "execution_count": 17,
     "metadata": {},
     "output_type": "execute_result"
    }
   ],
   "source": [
    "hk_situation_en_new_df['HK/Non-HK resident'].value_counts()"
   ]
  },
  {
   "cell_type": "code",
   "execution_count": 18,
   "metadata": {
    "colab": {
     "base_uri": "https://localhost:8080/",
     "height": 85
    },
    "colab_type": "code",
    "id": "ULjD9woFeged",
    "outputId": "e9c9ff3d-e132-46c5-b972-23b946856fd8"
   },
   "outputs": [
    {
     "data": {
      "text/plain": [
       "Epidemiologically linked with local case    35\n",
       "Local case                                  11\n",
       "Imported case                                2\n",
       "Name: Case classification, dtype: int64"
      ]
     },
     "execution_count": 18,
     "metadata": {},
     "output_type": "execute_result"
    }
   ],
   "source": [
    "hk_situation_en_new_df['Case classification'].value_counts()"
   ]
  },
  {
   "cell_type": "code",
   "execution_count": 19,
   "metadata": {
    "colab": {
     "base_uri": "https://localhost:8080/",
     "height": 51
    },
    "colab_type": "code",
    "id": "ZTOS1aByebTB",
    "outputId": "312791bf-0595-4f4f-c260-3b32e37b1025"
   },
   "outputs": [
    {
     "data": {
      "text/plain": [
       "Confirmed    48\n",
       "Name: Confirmed/probable, dtype: int64"
      ]
     },
     "execution_count": 19,
     "metadata": {},
     "output_type": "execute_result"
    }
   ],
   "source": [
    "hk_situation_en_new_df['Confirmed/probable'].value_counts()"
   ]
  },
  {
   "cell_type": "code",
   "execution_count": 20,
   "metadata": {
    "colab": {
     "base_uri": "https://localhost:8080/",
     "height": 34
    },
    "colab_type": "code",
    "id": "bE-jXjBkf1jw",
    "outputId": "b73b9ad0-96dc-4754-d791-b03a411f667c"
   },
   "outputs": [
    {
     "data": {
      "text/plain": [
       "(4313, 9)"
      ]
     },
     "execution_count": 20,
     "metadata": {},
     "output_type": "execute_result"
    }
   ],
   "source": [
    "hk_situation_en_old_df.shape"
   ]
  },
  {
   "cell_type": "code",
   "execution_count": 21,
   "metadata": {
    "colab": {
     "base_uri": "https://localhost:8080/",
     "height": 343
    },
    "colab_type": "code",
    "id": "IsL7T8a0eKee",
    "outputId": "301c848f-476f-404e-8f5d-7b5adc56d837"
   },
   "outputs": [
    {
     "data": {
      "text/html": [
       "<div>\n",
       "<style scoped>\n",
       "    .dataframe tbody tr th:only-of-type {\n",
       "        vertical-align: middle;\n",
       "    }\n",
       "\n",
       "    .dataframe tbody tr th {\n",
       "        vertical-align: top;\n",
       "    }\n",
       "\n",
       "    .dataframe thead th {\n",
       "        text-align: right;\n",
       "    }\n",
       "</style>\n",
       "<table border=\"1\" class=\"dataframe\">\n",
       "  <thead>\n",
       "    <tr style=\"text-align: right;\">\n",
       "      <th></th>\n",
       "      <th>Case no.</th>\n",
       "      <th>Report date</th>\n",
       "      <th>Date of onset</th>\n",
       "      <th>Gender</th>\n",
       "      <th>Age</th>\n",
       "      <th>Hospitalised/Discharged/Deceased</th>\n",
       "      <th>HK/Non-HK resident</th>\n",
       "      <th>Case classification</th>\n",
       "      <th>Confirmed/probable</th>\n",
       "    </tr>\n",
       "  </thead>\n",
       "  <tbody>\n",
       "    <tr>\n",
       "      <th>0</th>\n",
       "      <td>1</td>\n",
       "      <td>23/01/2020</td>\n",
       "      <td>21/01/2020</td>\n",
       "      <td>M</td>\n",
       "      <td>39</td>\n",
       "      <td>Discharged</td>\n",
       "      <td>Non-HK resident</td>\n",
       "      <td>I</td>\n",
       "      <td>Confirmed</td>\n",
       "    </tr>\n",
       "    <tr>\n",
       "      <th>1</th>\n",
       "      <td>2</td>\n",
       "      <td>23/01/2020</td>\n",
       "      <td>18/01/2020</td>\n",
       "      <td>M</td>\n",
       "      <td>56</td>\n",
       "      <td>Discharged</td>\n",
       "      <td>HK resident</td>\n",
       "      <td>I</td>\n",
       "      <td>Confirmed</td>\n",
       "    </tr>\n",
       "    <tr>\n",
       "      <th>2</th>\n",
       "      <td>3</td>\n",
       "      <td>24/01/2020</td>\n",
       "      <td>20/01/2020</td>\n",
       "      <td>F</td>\n",
       "      <td>62</td>\n",
       "      <td>Discharged</td>\n",
       "      <td>Non-HK resident</td>\n",
       "      <td>I</td>\n",
       "      <td>Confirmed</td>\n",
       "    </tr>\n",
       "    <tr>\n",
       "      <th>3</th>\n",
       "      <td>4</td>\n",
       "      <td>24/01/2020</td>\n",
       "      <td>23/01/2020</td>\n",
       "      <td>F</td>\n",
       "      <td>62</td>\n",
       "      <td>Discharged</td>\n",
       "      <td>Non-HK resident</td>\n",
       "      <td>I</td>\n",
       "      <td>Confirmed</td>\n",
       "    </tr>\n",
       "    <tr>\n",
       "      <th>4</th>\n",
       "      <td>5</td>\n",
       "      <td>24/01/2020</td>\n",
       "      <td>23/01/2020</td>\n",
       "      <td>M</td>\n",
       "      <td>63</td>\n",
       "      <td>Discharged</td>\n",
       "      <td>Non-HK resident</td>\n",
       "      <td>I</td>\n",
       "      <td>Confirmed</td>\n",
       "    </tr>\n",
       "  </tbody>\n",
       "</table>\n",
       "</div>"
      ],
      "text/plain": [
       "   Case no. Report date Date of onset Gender Age  \\\n",
       "0         1  23/01/2020    21/01/2020      M  39   \n",
       "1         2  23/01/2020    18/01/2020      M  56   \n",
       "2         3  24/01/2020    20/01/2020      F  62   \n",
       "3         4  24/01/2020    23/01/2020      F  62   \n",
       "4         5  24/01/2020    23/01/2020      M  63   \n",
       "\n",
       "  Hospitalised/Discharged/Deceased HK/Non-HK resident Case classification  \\\n",
       "0                       Discharged    Non-HK resident                   I   \n",
       "1                       Discharged        HK resident                   I   \n",
       "2                       Discharged    Non-HK resident                   I   \n",
       "3                       Discharged    Non-HK resident                   I   \n",
       "4                       Discharged    Non-HK resident                   I   \n",
       "\n",
       "  Confirmed/probable  \n",
       "0          Confirmed  \n",
       "1          Confirmed  \n",
       "2          Confirmed  \n",
       "3          Confirmed  \n",
       "4          Confirmed  "
      ]
     },
     "execution_count": 21,
     "metadata": {},
     "output_type": "execute_result"
    }
   ],
   "source": [
    "hk_situation_en_old_df.head()"
   ]
  },
  {
   "cell_type": "code",
   "execution_count": 22,
   "metadata": {
    "colab": {
     "base_uri": "https://localhost:8080/",
     "height": 68
    },
    "colab_type": "code",
    "id": "jImQaZFpeNo4",
    "outputId": "0244efdf-eaef-4e47-9662-14009a013b5e"
   },
   "outputs": [
    {
     "data": {
      "text/plain": [
       "F    2171\n",
       "M    2142\n",
       "Name: Gender, dtype: int64"
      ]
     },
     "execution_count": 22,
     "metadata": {},
     "output_type": "execute_result"
    }
   ],
   "source": [
    "hk_situation_en_old_df['Gender'].value_counts()"
   ]
  },
  {
   "cell_type": "code",
   "execution_count": 23,
   "metadata": {
    "colab": {
     "base_uri": "https://localhost:8080/",
     "height": 102
    },
    "colab_type": "code",
    "id": "wgNlNCJbgLPz",
    "outputId": "233cdbcd-f0f8-4991-e62b-a64958d8ecfd"
   },
   "outputs": [
    {
     "data": {
      "text/plain": [
       "Discharged      3392\n",
       "Hospitalised     829\n",
       "Deceased          66\n",
       "No admission      26\n",
       "Name: Hospitalised/Discharged/Deceased, dtype: int64"
      ]
     },
     "execution_count": 23,
     "metadata": {},
     "output_type": "execute_result"
    }
   ],
   "source": [
    "hk_situation_en_old_df['Hospitalised/Discharged/Deceased'].value_counts()"
   ]
  },
  {
   "cell_type": "code",
   "execution_count": 24,
   "metadata": {
    "colab": {
     "base_uri": "https://localhost:8080/",
     "height": 119
    },
    "colab_type": "code",
    "id": "VYSQAo0YgPOT",
    "outputId": "5c6168cd-0605-484c-d348-20bbf4690b63"
   },
   "outputs": [
    {
     "data": {
      "text/plain": [
       "HK Resident        2817\n",
       "HK resident        1377\n",
       "Unknown              98\n",
       "Non-HK resident      20\n",
       "Non-HK Resident       1\n",
       "Name: HK/Non-HK resident, dtype: int64"
      ]
     },
     "execution_count": 24,
     "metadata": {},
     "output_type": "execute_result"
    }
   ],
   "source": [
    "hk_situation_en_old_df['HK/Non-HK resident'].value_counts()"
   ]
  },
  {
   "cell_type": "code",
   "execution_count": 25,
   "metadata": {
    "colab": {
     "base_uri": "https://localhost:8080/",
     "height": 136
    },
    "colab_type": "code",
    "id": "n47uOVeRgRoy",
    "outputId": "66600fcc-9f40-43ab-8b8c-02d247a22495"
   },
   "outputs": [
    {
     "data": {
      "text/plain": [
       "Epi-L     1844\n",
       "L         1189\n",
       "I         1084\n",
       "PL         103\n",
       "Epi-PL      62\n",
       "Epi-I       31\n",
       "Name: Case classification, dtype: int64"
      ]
     },
     "execution_count": 25,
     "metadata": {},
     "output_type": "execute_result"
    }
   ],
   "source": [
    "hk_situation_en_old_df['Case classification'].value_counts()"
   ]
  },
  {
   "cell_type": "code",
   "execution_count": 26,
   "metadata": {
    "colab": {
     "base_uri": "https://localhost:8080/",
     "height": 68
    },
    "colab_type": "code",
    "id": "4YFAyfm-gT5b",
    "outputId": "c55bac57-ba9a-4ff9-ece7-578c14d8fd65"
   },
   "outputs": [
    {
     "data": {
      "text/plain": [
       "Confirmed    4312\n",
       "Probable        1\n",
       "Name: Confirmed/probable, dtype: int64"
      ]
     },
     "execution_count": 26,
     "metadata": {},
     "output_type": "execute_result"
    }
   ],
   "source": [
    "hk_situation_en_old_df['Confirmed/probable'].value_counts()"
   ]
  }
 ],
 "metadata": {
  "colab": {
   "name": "2020-08-15-A Data Extraction",
   "provenance": []
  },
  "kernelspec": {
   "display_name": "Python 3",
   "name": "python3"
  },
  "language_info": {
   "codemirror_mode": {
    "name": "ipython",
    "version": 3
   },
   "file_extension": ".py",
   "mimetype": "text/x-python",
   "name": "python",
   "nbconvert_exporter": "python",
   "pygments_lexer": "ipython3",
   "version": "3.6.9"
  }
 },
 "nbformat": 4,
 "nbformat_minor": 0
}
