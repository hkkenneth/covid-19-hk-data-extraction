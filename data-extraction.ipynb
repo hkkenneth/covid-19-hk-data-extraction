{
 "cells": [
  {
   "cell_type": "markdown",
   "metadata": {
    "colab_type": "text",
    "id": "Qa5dBgBOc1OX"
   },
   "source": [
    "# Data Extraction From PDF"
   ]
  },
  {
   "cell_type": "markdown",
   "metadata": {
    "colab_type": "text",
    "id": "9HiiNGYfXTkT"
   },
   "source": [
    "## 1. Check Java Versions"
   ]
  },
  {
   "cell_type": "code",
   "execution_count": 1,
   "metadata": {
    "colab": {
     "base_uri": "https://localhost:8080/",
     "height": 88
    },
    "colab_type": "code",
    "id": "GZWQUFT2XWWW",
    "outputId": "155ff7db-3d73-49ee-f9fe-28da719cb0ad"
   },
   "outputs": [
    {
     "name": "stdout",
     "output_type": "stream",
     "text": [
      "openjdk version \"1.8.0_222\"\r\n",
      "OpenJDK Runtime Environment (Zulu 8.40.0.25-CA-linux64) (build 1.8.0_222-b10)\r\n",
      "OpenJDK 64-Bit Server VM (Zulu 8.40.0.25-CA-linux64) (build 25.222-b10, mixed mode)\r\n"
     ]
    }
   ],
   "source": [
    "!java -version"
   ]
  },
  {
   "cell_type": "markdown",
   "metadata": {
    "colab_type": "text",
    "id": "MUo9dhAcdQSj"
   },
   "source": [
    "## 2. Import libraries"
   ]
  },
  {
   "cell_type": "code",
   "execution_count": 2,
   "metadata": {
    "colab": {},
    "colab_type": "code",
    "id": "H0l7BRgIX1f7"
   },
   "outputs": [
    {
     "name": "stdout",
     "output_type": "stream",
     "text": [
      "\u001b[33mWARNING: You are using pip version 19.2.2, however version 20.2.2 is available.\r\n",
      "You should consider upgrading via the 'pip install --upgrade pip' command.\u001b[0m\r\n"
     ]
    }
   ],
   "source": [
    "!pip install -q tabula-py"
   ]
  },
  {
   "cell_type": "code",
   "execution_count": 3,
   "metadata": {
    "colab": {
     "base_uri": "https://localhost:8080/",
     "height": 275
    },
    "colab_type": "code",
    "id": "Qlhe69zOX4Vc",
    "outputId": "10eefe17-c6f0-4e1f-b7f1-5804ffef68d4"
   },
   "outputs": [
    {
     "name": "stdout",
     "output_type": "stream",
     "text": [
      "Python version:\n",
      "    3.6.9 (default, Aug 14 2019, 12:46:29) \n",
      "[GCC 8.3.0]\n",
      "Java version:\n",
      "    openjdk version \"1.8.0_222\"\n",
      "OpenJDK Runtime Environment (Zulu 8.40.0.25-CA-linux64) (build 1.8.0_222-b10)\n",
      "OpenJDK 64-Bit Server VM (Zulu 8.40.0.25-CA-linux64) (build 25.222-b10, mixed mode)\n",
      "tabula-py version: 2.1.1\n",
      "platform: Linux-4.15.0-1077-aws-x86_64-with-debian-10.0\n",
      "uname:\n",
      "    uname_result(system='Linux', node='e2fee2a832d0', release='4.15.0-1077-aws', version='#81-Ubuntu SMP Wed Jun 24 16:48:15 UTC 2020', machine='x86_64', processor='')\n",
      "linux_distribution: ('Debian GNU/Linux', '10', 'buster')\n",
      "mac_ver: ('', ('', '', ''), '')\n",
      "    \n"
     ]
    }
   ],
   "source": [
    "import tabula\n",
    "\n",
    "tabula.environment_info()"
   ]
  },
  {
   "cell_type": "code",
   "execution_count": 4,
   "metadata": {
    "colab": {},
    "colab_type": "code",
    "id": "LvyJVCnUcx08"
   },
   "outputs": [],
   "source": [
    "import pandas as pd"
   ]
  },
  {
   "cell_type": "code",
   "execution_count": 5,
   "metadata": {
    "colab": {},
    "colab_type": "code",
    "id": "Hy8_cKIl1qDA"
   },
   "outputs": [],
   "source": [
    "import pickle"
   ]
  },
  {
   "cell_type": "markdown",
   "metadata": {
    "colab_type": "text",
    "id": "YBcdrUPcXeLX"
   },
   "source": [
    "## 3. Library for this notebook"
   ]
  },
  {
   "cell_type": "code",
   "execution_count": 6,
   "metadata": {
    "colab": {},
    "colab_type": "code",
    "id": "5Srq8XMZXdqW"
   },
   "outputs": [],
   "source": [
    "def extract_hk_situation_en_new_df(pdf=None, pdf_all=None):\n",
    "  # Elements are pandas pandas.core.frame.DataFrame\n",
    "  if pdf_all is None:\n",
    "    pdf_all = tabula.read_pdf(pdf, pages=\"all\", lattice=True)\n",
    "  guess_new_end = 0\n",
    "  \n",
    "  for i in range(len(pdf_all)):\n",
    "    if (pdf_all[i].shape[1] == 8) and (pdf_all[i].columns[0] == 'Case no.' or pdf_all[i].columns[0] == 'Case\\rno.'):\n",
    "      guess_new_end = i + 1\n",
    "    else:\n",
    "      break\n",
    "  print(\"The first %s pages are new cases\" % guess_new_end)\n",
    "\n",
    "  df_new_only = pd.concat([pdf_all[i] for i in range(guess_new_end)])\n",
    "  print(\"There are %s new cases\" % df_new_only.shape[0])\n",
    "  \n",
    "  human_columns_new = ['Case no.', 'Report date', 'Date of onset', 'Gender', 'Age', 'HK/Non-HK resident', 'Case classification', 'Confirmed/probable']\n",
    "  \n",
    "  # Ref: https://stackoverflow.com/a/44296858\n",
    "  columns_rename_dict = dict(zip(df_new_only.columns, human_columns_new))\n",
    "  df_new_only = df_new_only.rename(columns=columns_rename_dict)\n",
    "  return df_new_only"
   ]
  },
  {
   "cell_type": "code",
   "execution_count": 7,
   "metadata": {
    "colab": {},
    "colab_type": "code",
    "id": "tBXMwOIVXu7c"
   },
   "outputs": [],
   "source": [
    "def extract_hk_situation_en_old_df(pdf=None, pdf_all=None):\n",
    "  if pdf_all is None:\n",
    "    pdf_all = tabula.read_pdf(pdf, pages=\"all\", lattice=True)\n",
    "  guess_old = []\n",
    "  # --- old\n",
    "  for i in range(len(pdf_all)):\n",
    "    if (pdf_all[i].shape[1] == 9) and (pdf_all[i].columns[0] == 'Case no.' or pdf_all[i].columns[0] == 'Case\\rno.'):\n",
    "      guess_old.append(i)\n",
    "  \n",
    "  print(\"The old list is %s pages long\" % len(guess_old))\n",
    "\n",
    "  df_old_only = pd.concat([pdf_all[i] for i in guess_old])\n",
    "  print(\"There are %s old cases\" % df_old_only.shape[0])\n",
    "  \n",
    "  human_columns_full = ['Case no.', 'Report date', 'Date of onset', 'Gender', 'Age', 'Hospitalised/Discharged/Deceased', 'HK/Non-HK resident', 'Case classification', 'Confirmed/probable']\n",
    "    # Ref: https://stackoverflow.com/a/44296858\n",
    "  columns_rename_dict = dict(zip(df_old_only.columns, human_columns_full))\n",
    "  df_old_only = df_old_only.rename(columns=columns_rename_dict)\n",
    "\n",
    "  return df_old_only"
   ]
  },
  {
   "cell_type": "code",
   "execution_count": 8,
   "metadata": {
    "colab": {},
    "colab_type": "code",
    "id": "rH-v3g3O_i0f"
   },
   "outputs": [],
   "source": [
    "def extract_hk_situation_en_cluster_df(pdf=None, pdf_all=None):\n",
    "  if pdf_all is None:\n",
    "    pdf_all = tabula.read_pdf(pdf, pages=\"all\", lattice=True)\n",
    "  guess_cluster = []\n",
    "\n",
    "  for i in range(len(pdf_all)):\n",
    "    if (pdf_all[i].shape[1] == 3) and (pdf_all[i].columns[0] == 'Cluster' or (len(guess_cluster) > 0 and guess_cluster[-1] == (i - 1))):\n",
    "      guess_cluster.append(i)\n",
    "  \n",
    "  print(\"The cluster list is %s pages long\" % len(guess_cluster))\n",
    "  \n",
    "  human_columns_full = ['Cluster', 'Involved case number', 'Number of cases']\n",
    "\n",
    "  cluster_pages = []\n",
    "  df_cluster = None\n",
    "  if (len(guess_cluster) > 0):\n",
    "    columns_rename_dict = dict(zip(pdf_all[guess_cluster[0]].columns, human_columns_full))\n",
    "    cluster_pages.append(pdf_all[guess_cluster[0]].rename(columns=columns_rename_dict))\n",
    "    if (len(guess_cluster) > 1):\n",
    "      for i in guess_cluster[1:]:\n",
    "        cluster_pages.append(pd.DataFrame(data=dict(zip(human_columns_full, [[c] for c in pdf_all[i].columns]))))\n",
    "        # Ref: https://stackoverflow.com/a/44296858\n",
    "        columns_rename_dict = dict(zip(pdf_all[i].columns, human_columns_full))\n",
    "        cluster_pages.append(pdf_all[i].rename(columns=columns_rename_dict))\n",
    "    df_cluster = pd.concat(cluster_pages)\n",
    "    print(\"There are %i clusters\" % df_cluster.shape[0])\n",
    "  else:\n",
    "    pd.DataFrame(data={'Cluster': [], 'Involved case number': [], 'Number of cases': []})\n",
    "  return df_cluster"
   ]
  },
  {
   "cell_type": "markdown",
   "metadata": {
    "colab_type": "text",
    "id": "-Ue3LS7m8w0d"
   },
   "source": [
    "## 4. Data Extraction"
   ]
  },
  {
   "cell_type": "markdown",
   "metadata": {
    "colab_type": "text",
    "id": "dT7g6y9Hc3Fq"
   },
   "source": [
    "### 4.1 Obtain the data in PDF"
   ]
  },
  {
   "cell_type": "code",
   "execution_count": 9,
   "metadata": {
    "colab": {
     "base_uri": "https://localhost:8080/",
     "height": 68
    },
    "colab_type": "code",
    "id": "sgBUrG05c00e",
    "outputId": "4d14113c-f593-42dc-ce8c-759ab2f5d2ac"
   },
   "outputs": [
    {
     "name": "stdout",
     "output_type": "stream",
     "text": [
      "  % Total    % Received % Xferd  Average Speed   Time    Time     Time  Current\r\n",
      "                                 Dload  Upload   Total   Spent    Left  Speed\r\n",
      "100 9536k  100 9536k    0     0  45.4M      0 --:--:-- --:--:-- --:--:-- 45.2M\r\n"
     ]
    }
   ],
   "source": [
    "!curl -O https://raw.githubusercontent.com/hkkenneth/covid-19-hk-data/2020-08-14/2020-08-14/local_situation_covid19_en.pdf"
   ]
  },
  {
   "cell_type": "markdown",
   "metadata": {
    "colab_type": "text",
    "id": "ybfTu00B8k4b"
   },
   "source": [
    "### 4.2 Use Tabula to extract data"
   ]
  },
  {
   "cell_type": "code",
   "execution_count": 10,
   "metadata": {
    "colab": {},
    "colab_type": "code",
    "id": "w42asooxc0xb"
   },
   "outputs": [],
   "source": [
    "pdf = 'local_situation_covid19_en.pdf'"
   ]
  },
  {
   "cell_type": "code",
   "execution_count": 11,
   "metadata": {
    "colab": {
     "base_uri": "https://localhost:8080/",
     "height": 190
    },
    "colab_type": "code",
    "id": "x8yl0zOlc0iA",
    "outputId": "9be1d0d1-d789-42b7-db38-a7404e2e5e9d"
   },
   "outputs": [
    {
     "name": "stderr",
     "output_type": "stream",
     "text": [
      "Got stderr: Aug 15, 2020 5:57:24 PM org.apache.pdfbox.pdmodel.font.FileSystemFontProvider loadDiskCache\n",
      "WARNING: New fonts found, font cache will be re-built\n",
      "Aug 15, 2020 5:57:24 PM org.apache.pdfbox.pdmodel.font.FileSystemFontProvider <init>\n",
      "WARNING: Building on-disk font cache, this may take a while\n",
      "Aug 15, 2020 5:57:24 PM org.apache.pdfbox.pdmodel.font.FileSystemFontProvider <init>\n",
      "WARNING: Finished building on-disk font cache, found 6 fonts\n",
      "Aug 15, 2020 5:57:24 PM org.apache.pdfbox.pdmodel.font.PDTrueTypeFont <init>\n",
      "WARNING: Using fallback font 'LiberationSans' for 'TimesNewRomanPS-BoldMT'\n",
      "Aug 15, 2020 5:57:24 PM org.apache.pdfbox.pdmodel.font.PDTrueTypeFont <init>\n",
      "WARNING: Using fallback font 'LiberationSans' for 'TimesNewRomanPSMT'\n",
      "Aug 15, 2020 5:57:24 PM org.apache.pdfbox.pdmodel.font.PDTrueTypeFont <init>\n",
      "WARNING: Using fallback font 'LiberationSans' for 'TimesNewRomanPS-BoldItalicMT'\n",
      "Aug 15, 2020 5:57:25 PM org.apache.pdfbox.pdmodel.font.PDTrueTypeFont <init>\n",
      "WARNING: Using fallback font 'LiberationSans' for 'ArialMT'\n",
      "Aug 15, 2020 5:57:25 PM org.apache.pdfbox.pdmodel.font.PDCIDFontType2 <init>\n",
      "INFO: OpenType Layout tables used in font TimesNewRomanPSMT are not implemented in PDFBox and will be ignored\n",
      "\n"
     ]
    }
   ],
   "source": [
    "pdf_all = tabula.read_pdf(pdf, pages='all', lattice=True)"
   ]
  },
  {
   "cell_type": "markdown",
   "metadata": {
    "colab_type": "text",
    "id": "LpdPKYDD8oky"
   },
   "source": [
    "### 4.3 New cases (english) from local situation PDF"
   ]
  },
  {
   "cell_type": "code",
   "execution_count": 12,
   "metadata": {
    "colab": {
     "base_uri": "https://localhost:8080/",
     "height": 51
    },
    "colab_type": "code",
    "id": "bwyd6Suec0TL",
    "outputId": "eba7f19a-ffb5-4425-d675-d8abe245676c"
   },
   "outputs": [
    {
     "name": "stdout",
     "output_type": "stream",
     "text": [
      "The first 3 pages are new cases\n",
      "There are 48 new cases\n"
     ]
    }
   ],
   "source": [
    "hk_situation_en_new_df = extract_hk_situation_en_new_df(pdf_all=pdf_all)"
   ]
  },
  {
   "cell_type": "markdown",
   "metadata": {
    "colab_type": "text",
    "id": "iTvWRnqO8-5p"
   },
   "source": [
    "### 4.4 Old cases (english) from local situation PDF"
   ]
  },
  {
   "cell_type": "code",
   "execution_count": 13,
   "metadata": {
    "colab": {
     "base_uri": "https://localhost:8080/",
     "height": 51
    },
    "colab_type": "code",
    "id": "uLu1LnzKbExE",
    "outputId": "dc8b06f6-4c96-47e1-df04-115379d87712"
   },
   "outputs": [
    {
     "name": "stdout",
     "output_type": "stream",
     "text": [
      "The old list is 180 pages long\n",
      "There are 4313 old cases\n"
     ]
    }
   ],
   "source": [
    "hk_situation_en_old_df = extract_hk_situation_en_old_df(pdf_all=pdf_all)"
   ]
  },
  {
   "cell_type": "markdown",
   "metadata": {
    "colab_type": "text",
    "id": "oiSXV0JK9H6P"
   },
   "source": [
    "### 4.5 Mode of detection for confirmed and probable cases in Hong Kong (english) from local situation PDF"
   ]
  },
  {
   "cell_type": "code",
   "execution_count": 14,
   "metadata": {
    "colab": {
     "base_uri": "https://localhost:8080/",
     "height": 34
    },
    "colab_type": "code",
    "id": "qb-OtM903_v7",
    "outputId": "6b2a3201-91ce-4a0e-dbdc-8dc20f1364f0"
   },
   "outputs": [
    {
     "data": {
      "text/plain": [
       "108"
      ]
     },
     "execution_count": 14,
     "metadata": {},
     "output_type": "execute_result"
    }
   ],
   "source": [
    "guess_detection_mode = -1\n",
    "  \n",
    "for i in range(len(pdf_all)):\n",
    "  if (pdf_all[i].shape[1] == 2) and pdf_all[i].columns[0] == 'Category' and pdf_all[i].columns[1] == 'Number of cases (percentage)':\n",
    "    guess_detection_mode = i\n",
    "\n",
    "guess_detection_mode\n"
   ]
  },
  {
   "cell_type": "code",
   "execution_count": 15,
   "metadata": {
    "colab": {},
    "colab_type": "code",
    "id": "pRUR93Yo7di9"
   },
   "outputs": [],
   "source": [
    "if guess_detection_mode == -1:\n",
    "  detection_mode_df = pd.DataFrame(data={'Category': [], 'Number of cases (percentage)': []})\n",
    "else:\n",
    "  detection_mode_df = pdf_all[guess_detection_mode]"
   ]
  },
  {
   "cell_type": "markdown",
   "metadata": {
    "colab_type": "text",
    "id": "zdtQK5M-Aeat"
   },
   "source": [
    " ### 4.6 Large clusters with 10 or more cases (english) from local situation PDF"
   ]
  },
  {
   "cell_type": "code",
   "execution_count": 16,
   "metadata": {
    "colab": {
     "base_uri": "https://localhost:8080/",
     "height": 51
    },
    "colab_type": "code",
    "id": "aiPeo2gIAeFJ",
    "outputId": "e4518340-3a24-4381-de25-5ec9585b9022"
   },
   "outputs": [
    {
     "name": "stdout",
     "output_type": "stream",
     "text": [
      "The cluster list is 3 pages long\n",
      "There are 26 clusters\n"
     ]
    }
   ],
   "source": [
    "hk_situation_en_cluster_df = extract_hk_situation_en_cluster_df(pdf_all=pdf_all)"
   ]
  },
  {
   "cell_type": "markdown",
   "metadata": {
    "colab_type": "text",
    "id": "MUmLFZCZbrTf"
   },
   "source": [
    "## 5. Sanity Check"
   ]
  },
  {
   "cell_type": "markdown",
   "metadata": {
    "colab_type": "text",
    "id": "2XsrCsUm9WYX"
   },
   "source": [
    "### 5.1 New cases (english)"
   ]
  },
  {
   "cell_type": "code",
   "execution_count": 17,
   "metadata": {
    "colab": {
     "base_uri": "https://localhost:8080/",
     "height": 34
    },
    "colab_type": "code",
    "id": "uCN-RCr7bSHP",
    "outputId": "b646d944-73ec-4cb0-fa4f-fdb0783e0842"
   },
   "outputs": [
    {
     "data": {
      "text/plain": [
       "(48, 8)"
      ]
     },
     "execution_count": 17,
     "metadata": {},
     "output_type": "execute_result"
    }
   ],
   "source": [
    "hk_situation_en_new_df.shape"
   ]
  },
  {
   "cell_type": "code",
   "execution_count": 18,
   "metadata": {
    "colab": {
     "base_uri": "https://localhost:8080/",
     "height": 360
    },
    "colab_type": "code",
    "id": "qf8V9GLOdCN7",
    "outputId": "707db8e0-62d0-45de-9ffc-2aec41a0af3b"
   },
   "outputs": [
    {
     "data": {
      "text/html": [
       "<div>\n",
       "<style scoped>\n",
       "    .dataframe tbody tr th:only-of-type {\n",
       "        vertical-align: middle;\n",
       "    }\n",
       "\n",
       "    .dataframe tbody tr th {\n",
       "        vertical-align: top;\n",
       "    }\n",
       "\n",
       "    .dataframe thead th {\n",
       "        text-align: right;\n",
       "    }\n",
       "</style>\n",
       "<table border=\"1\" class=\"dataframe\">\n",
       "  <thead>\n",
       "    <tr style=\"text-align: right;\">\n",
       "      <th></th>\n",
       "      <th>Case no.</th>\n",
       "      <th>Report date</th>\n",
       "      <th>Date of onset</th>\n",
       "      <th>Gender</th>\n",
       "      <th>Age</th>\n",
       "      <th>HK/Non-HK resident</th>\n",
       "      <th>Case classification</th>\n",
       "      <th>Confirmed/probable</th>\n",
       "    </tr>\n",
       "  </thead>\n",
       "  <tbody>\n",
       "    <tr>\n",
       "      <th>0</th>\n",
       "      <td>4314</td>\n",
       "      <td>14/08/2020</td>\n",
       "      <td>Asymptomatic</td>\n",
       "      <td>M</td>\n",
       "      <td>31</td>\n",
       "      <td>Unknown</td>\n",
       "      <td>Imported case</td>\n",
       "      <td>Confirmed</td>\n",
       "    </tr>\n",
       "    <tr>\n",
       "      <th>1</th>\n",
       "      <td>4315</td>\n",
       "      <td>14/08/2020</td>\n",
       "      <td>Asymptomatic</td>\n",
       "      <td>F</td>\n",
       "      <td>13</td>\n",
       "      <td>HK Resident</td>\n",
       "      <td>Epidemiologically linked with local case</td>\n",
       "      <td>Confirmed</td>\n",
       "    </tr>\n",
       "    <tr>\n",
       "      <th>2</th>\n",
       "      <td>4316</td>\n",
       "      <td>14/08/2020</td>\n",
       "      <td>03/08/2020</td>\n",
       "      <td>F</td>\n",
       "      <td>38</td>\n",
       "      <td>HK Resident</td>\n",
       "      <td>Local case</td>\n",
       "      <td>Confirmed</td>\n",
       "    </tr>\n",
       "    <tr>\n",
       "      <th>3</th>\n",
       "      <td>4317</td>\n",
       "      <td>14/08/2020</td>\n",
       "      <td>Asymptomatic</td>\n",
       "      <td>M</td>\n",
       "      <td>62</td>\n",
       "      <td>HK Resident</td>\n",
       "      <td>Epidemiologically linked with local case</td>\n",
       "      <td>Confirmed</td>\n",
       "    </tr>\n",
       "    <tr>\n",
       "      <th>4</th>\n",
       "      <td>4318</td>\n",
       "      <td>14/08/2020</td>\n",
       "      <td>31/07/2020</td>\n",
       "      <td>M</td>\n",
       "      <td>47</td>\n",
       "      <td>HK Resident</td>\n",
       "      <td>Local case</td>\n",
       "      <td>Confirmed</td>\n",
       "    </tr>\n",
       "  </tbody>\n",
       "</table>\n",
       "</div>"
      ],
      "text/plain": [
       "   Case no. Report date Date of onset Gender  Age HK/Non-HK resident  \\\n",
       "0      4314  14/08/2020  Asymptomatic      M   31            Unknown   \n",
       "1      4315  14/08/2020  Asymptomatic      F   13        HK Resident   \n",
       "2      4316  14/08/2020    03/08/2020      F   38        HK Resident   \n",
       "3      4317  14/08/2020  Asymptomatic      M   62        HK Resident   \n",
       "4      4318  14/08/2020    31/07/2020      M   47        HK Resident   \n",
       "\n",
       "                        Case classification Confirmed/probable  \n",
       "0                             Imported case          Confirmed  \n",
       "1  Epidemiologically linked with local case          Confirmed  \n",
       "2                                Local case          Confirmed  \n",
       "3  Epidemiologically linked with local case          Confirmed  \n",
       "4                                Local case          Confirmed  "
      ]
     },
     "execution_count": 18,
     "metadata": {},
     "output_type": "execute_result"
    }
   ],
   "source": [
    "hk_situation_en_new_df.head()"
   ]
  },
  {
   "cell_type": "code",
   "execution_count": 19,
   "metadata": {
    "colab": {
     "base_uri": "https://localhost:8080/",
     "height": 68
    },
    "colab_type": "code",
    "id": "7gYtVbVeeR_O",
    "outputId": "956222a5-a4cc-40f3-a6fd-4a1097e4d431"
   },
   "outputs": [
    {
     "data": {
      "text/plain": [
       "M    24\n",
       "F    24\n",
       "Name: Gender, dtype: int64"
      ]
     },
     "execution_count": 19,
     "metadata": {},
     "output_type": "execute_result"
    }
   ],
   "source": [
    "hk_situation_en_new_df['Gender'].value_counts()"
   ]
  },
  {
   "cell_type": "code",
   "execution_count": 20,
   "metadata": {
    "colab": {
     "base_uri": "https://localhost:8080/",
     "height": 68
    },
    "colab_type": "code",
    "id": "FnR9BdMiemGE",
    "outputId": "05843c02-4871-41ab-a797-ac545b461427"
   },
   "outputs": [
    {
     "data": {
      "text/plain": [
       "HK Resident    47\n",
       "Unknown         1\n",
       "Name: HK/Non-HK resident, dtype: int64"
      ]
     },
     "execution_count": 20,
     "metadata": {},
     "output_type": "execute_result"
    }
   ],
   "source": [
    "hk_situation_en_new_df['HK/Non-HK resident'].value_counts()"
   ]
  },
  {
   "cell_type": "code",
   "execution_count": 21,
   "metadata": {
    "colab": {
     "base_uri": "https://localhost:8080/",
     "height": 85
    },
    "colab_type": "code",
    "id": "ULjD9woFeged",
    "outputId": "348fb3c7-c6de-4d83-85f1-1b34829bab40"
   },
   "outputs": [
    {
     "data": {
      "text/plain": [
       "Epidemiologically linked with local case    35\n",
       "Local case                                  11\n",
       "Imported case                                2\n",
       "Name: Case classification, dtype: int64"
      ]
     },
     "execution_count": 21,
     "metadata": {},
     "output_type": "execute_result"
    }
   ],
   "source": [
    "hk_situation_en_new_df['Case classification'].value_counts()"
   ]
  },
  {
   "cell_type": "code",
   "execution_count": 22,
   "metadata": {
    "colab": {
     "base_uri": "https://localhost:8080/",
     "height": 51
    },
    "colab_type": "code",
    "id": "ZTOS1aByebTB",
    "outputId": "630a7f44-e4d0-42bf-f9a3-7b2c429c2ea8"
   },
   "outputs": [
    {
     "data": {
      "text/plain": [
       "Confirmed    48\n",
       "Name: Confirmed/probable, dtype: int64"
      ]
     },
     "execution_count": 22,
     "metadata": {},
     "output_type": "execute_result"
    }
   ],
   "source": [
    "hk_situation_en_new_df['Confirmed/probable'].value_counts()"
   ]
  },
  {
   "cell_type": "markdown",
   "metadata": {
    "colab_type": "text",
    "id": "UBY6n_IL9cB-"
   },
   "source": [
    "### 5.2 Old cases (english)"
   ]
  },
  {
   "cell_type": "code",
   "execution_count": 23,
   "metadata": {
    "colab": {
     "base_uri": "https://localhost:8080/",
     "height": 34
    },
    "colab_type": "code",
    "id": "bE-jXjBkf1jw",
    "outputId": "bb0afa1d-b05c-4017-98ba-7a4ae6a7e720"
   },
   "outputs": [
    {
     "data": {
      "text/plain": [
       "(4313, 9)"
      ]
     },
     "execution_count": 23,
     "metadata": {},
     "output_type": "execute_result"
    }
   ],
   "source": [
    "hk_situation_en_old_df.shape"
   ]
  },
  {
   "cell_type": "code",
   "execution_count": 24,
   "metadata": {
    "colab": {
     "base_uri": "https://localhost:8080/",
     "height": 343
    },
    "colab_type": "code",
    "id": "IsL7T8a0eKee",
    "outputId": "61ba357f-4460-418b-eaca-e2376cfd288c"
   },
   "outputs": [
    {
     "data": {
      "text/html": [
       "<div>\n",
       "<style scoped>\n",
       "    .dataframe tbody tr th:only-of-type {\n",
       "        vertical-align: middle;\n",
       "    }\n",
       "\n",
       "    .dataframe tbody tr th {\n",
       "        vertical-align: top;\n",
       "    }\n",
       "\n",
       "    .dataframe thead th {\n",
       "        text-align: right;\n",
       "    }\n",
       "</style>\n",
       "<table border=\"1\" class=\"dataframe\">\n",
       "  <thead>\n",
       "    <tr style=\"text-align: right;\">\n",
       "      <th></th>\n",
       "      <th>Case no.</th>\n",
       "      <th>Report date</th>\n",
       "      <th>Date of onset</th>\n",
       "      <th>Gender</th>\n",
       "      <th>Age</th>\n",
       "      <th>Hospitalised/Discharged/Deceased</th>\n",
       "      <th>HK/Non-HK resident</th>\n",
       "      <th>Case classification</th>\n",
       "      <th>Confirmed/probable</th>\n",
       "    </tr>\n",
       "  </thead>\n",
       "  <tbody>\n",
       "    <tr>\n",
       "      <th>0</th>\n",
       "      <td>1</td>\n",
       "      <td>23/01/2020</td>\n",
       "      <td>21/01/2020</td>\n",
       "      <td>M</td>\n",
       "      <td>39</td>\n",
       "      <td>Discharged</td>\n",
       "      <td>Non-HK resident</td>\n",
       "      <td>I</td>\n",
       "      <td>Confirmed</td>\n",
       "    </tr>\n",
       "    <tr>\n",
       "      <th>1</th>\n",
       "      <td>2</td>\n",
       "      <td>23/01/2020</td>\n",
       "      <td>18/01/2020</td>\n",
       "      <td>M</td>\n",
       "      <td>56</td>\n",
       "      <td>Discharged</td>\n",
       "      <td>HK resident</td>\n",
       "      <td>I</td>\n",
       "      <td>Confirmed</td>\n",
       "    </tr>\n",
       "    <tr>\n",
       "      <th>2</th>\n",
       "      <td>3</td>\n",
       "      <td>24/01/2020</td>\n",
       "      <td>20/01/2020</td>\n",
       "      <td>F</td>\n",
       "      <td>62</td>\n",
       "      <td>Discharged</td>\n",
       "      <td>Non-HK resident</td>\n",
       "      <td>I</td>\n",
       "      <td>Confirmed</td>\n",
       "    </tr>\n",
       "    <tr>\n",
       "      <th>3</th>\n",
       "      <td>4</td>\n",
       "      <td>24/01/2020</td>\n",
       "      <td>23/01/2020</td>\n",
       "      <td>F</td>\n",
       "      <td>62</td>\n",
       "      <td>Discharged</td>\n",
       "      <td>Non-HK resident</td>\n",
       "      <td>I</td>\n",
       "      <td>Confirmed</td>\n",
       "    </tr>\n",
       "    <tr>\n",
       "      <th>4</th>\n",
       "      <td>5</td>\n",
       "      <td>24/01/2020</td>\n",
       "      <td>23/01/2020</td>\n",
       "      <td>M</td>\n",
       "      <td>63</td>\n",
       "      <td>Discharged</td>\n",
       "      <td>Non-HK resident</td>\n",
       "      <td>I</td>\n",
       "      <td>Confirmed</td>\n",
       "    </tr>\n",
       "  </tbody>\n",
       "</table>\n",
       "</div>"
      ],
      "text/plain": [
       "   Case no. Report date Date of onset Gender Age  \\\n",
       "0         1  23/01/2020    21/01/2020      M  39   \n",
       "1         2  23/01/2020    18/01/2020      M  56   \n",
       "2         3  24/01/2020    20/01/2020      F  62   \n",
       "3         4  24/01/2020    23/01/2020      F  62   \n",
       "4         5  24/01/2020    23/01/2020      M  63   \n",
       "\n",
       "  Hospitalised/Discharged/Deceased HK/Non-HK resident Case classification  \\\n",
       "0                       Discharged    Non-HK resident                   I   \n",
       "1                       Discharged        HK resident                   I   \n",
       "2                       Discharged    Non-HK resident                   I   \n",
       "3                       Discharged    Non-HK resident                   I   \n",
       "4                       Discharged    Non-HK resident                   I   \n",
       "\n",
       "  Confirmed/probable  \n",
       "0          Confirmed  \n",
       "1          Confirmed  \n",
       "2          Confirmed  \n",
       "3          Confirmed  \n",
       "4          Confirmed  "
      ]
     },
     "execution_count": 24,
     "metadata": {},
     "output_type": "execute_result"
    }
   ],
   "source": [
    "hk_situation_en_old_df.head()"
   ]
  },
  {
   "cell_type": "code",
   "execution_count": 25,
   "metadata": {
    "colab": {
     "base_uri": "https://localhost:8080/",
     "height": 68
    },
    "colab_type": "code",
    "id": "jImQaZFpeNo4",
    "outputId": "8bfd8182-0c02-4943-e604-204a26adf74a"
   },
   "outputs": [
    {
     "data": {
      "text/plain": [
       "F    2171\n",
       "M    2142\n",
       "Name: Gender, dtype: int64"
      ]
     },
     "execution_count": 25,
     "metadata": {},
     "output_type": "execute_result"
    }
   ],
   "source": [
    "hk_situation_en_old_df['Gender'].value_counts()"
   ]
  },
  {
   "cell_type": "code",
   "execution_count": 26,
   "metadata": {
    "colab": {
     "base_uri": "https://localhost:8080/",
     "height": 102
    },
    "colab_type": "code",
    "id": "wgNlNCJbgLPz",
    "outputId": "362d3b38-1bce-4fbc-cb9a-7ff6a7c747ac"
   },
   "outputs": [
    {
     "data": {
      "text/plain": [
       "Discharged      3392\n",
       "Hospitalised     829\n",
       "Deceased          66\n",
       "No admission      26\n",
       "Name: Hospitalised/Discharged/Deceased, dtype: int64"
      ]
     },
     "execution_count": 26,
     "metadata": {},
     "output_type": "execute_result"
    }
   ],
   "source": [
    "hk_situation_en_old_df['Hospitalised/Discharged/Deceased'].value_counts()"
   ]
  },
  {
   "cell_type": "code",
   "execution_count": 27,
   "metadata": {
    "colab": {
     "base_uri": "https://localhost:8080/",
     "height": 119
    },
    "colab_type": "code",
    "id": "VYSQAo0YgPOT",
    "outputId": "e6a5601f-9c09-424d-d464-1b9d231ccb38"
   },
   "outputs": [
    {
     "data": {
      "text/plain": [
       "HK Resident        2817\n",
       "HK resident        1377\n",
       "Unknown              98\n",
       "Non-HK resident      20\n",
       "Non-HK Resident       1\n",
       "Name: HK/Non-HK resident, dtype: int64"
      ]
     },
     "execution_count": 27,
     "metadata": {},
     "output_type": "execute_result"
    }
   ],
   "source": [
    "hk_situation_en_old_df['HK/Non-HK resident'].value_counts()"
   ]
  },
  {
   "cell_type": "code",
   "execution_count": 28,
   "metadata": {
    "colab": {
     "base_uri": "https://localhost:8080/",
     "height": 136
    },
    "colab_type": "code",
    "id": "n47uOVeRgRoy",
    "outputId": "7e881df2-16a7-4e39-ee14-13a41856403e"
   },
   "outputs": [
    {
     "data": {
      "text/plain": [
       "Epi-L     1844\n",
       "L         1189\n",
       "I         1084\n",
       "PL         103\n",
       "Epi-PL      62\n",
       "Epi-I       31\n",
       "Name: Case classification, dtype: int64"
      ]
     },
     "execution_count": 28,
     "metadata": {},
     "output_type": "execute_result"
    }
   ],
   "source": [
    "hk_situation_en_old_df['Case classification'].value_counts()"
   ]
  },
  {
   "cell_type": "code",
   "execution_count": 29,
   "metadata": {
    "colab": {
     "base_uri": "https://localhost:8080/",
     "height": 68
    },
    "colab_type": "code",
    "id": "4YFAyfm-gT5b",
    "outputId": "dc811386-c171-449d-a3dc-580661ad6296"
   },
   "outputs": [
    {
     "data": {
      "text/plain": [
       "Confirmed    4312\n",
       "Probable        1\n",
       "Name: Confirmed/probable, dtype: int64"
      ]
     },
     "execution_count": 29,
     "metadata": {},
     "output_type": "execute_result"
    }
   ],
   "source": [
    "hk_situation_en_old_df['Confirmed/probable'].value_counts()"
   ]
  },
  {
   "cell_type": "markdown",
   "metadata": {
    "colab_type": "text",
    "id": "fIyiaYbp9gfe"
   },
   "source": [
    "### 5.3 Mode of detection for confirmed and probable cases in Hong Kong (english)"
   ]
  },
  {
   "cell_type": "code",
   "execution_count": 30,
   "metadata": {
    "colab": {
     "base_uri": "https://localhost:8080/",
     "height": 328
    },
    "colab_type": "code",
    "id": "rqi6HsYx1YMB",
    "outputId": "0d97a1fe-e0f8-4223-fe33-ad3ac8653048"
   },
   "outputs": [
    {
     "data": {
      "text/html": [
       "<div>\n",
       "<style scoped>\n",
       "    .dataframe tbody tr th:only-of-type {\n",
       "        vertical-align: middle;\n",
       "    }\n",
       "\n",
       "    .dataframe tbody tr th {\n",
       "        vertical-align: top;\n",
       "    }\n",
       "\n",
       "    .dataframe thead th {\n",
       "        text-align: right;\n",
       "    }\n",
       "</style>\n",
       "<table border=\"1\" class=\"dataframe\">\n",
       "  <thead>\n",
       "    <tr style=\"text-align: right;\">\n",
       "      <th></th>\n",
       "      <th>Category</th>\n",
       "      <th>Number of cases (percentage)</th>\n",
       "    </tr>\n",
       "  </thead>\n",
       "  <tbody>\n",
       "    <tr>\n",
       "      <th>0</th>\n",
       "      <td>(1) Cases fulfilling the reporting criteria of...</td>\n",
       "      <td>336 (7.7%)</td>\n",
       "    </tr>\n",
       "    <tr>\n",
       "      <th>1</th>\n",
       "      <td>(2) Enhanced laboratory surveillance in public...</td>\n",
       "      <td>490 (11.2%)</td>\n",
       "    </tr>\n",
       "    <tr>\n",
       "      <th>2</th>\n",
       "      <td>(3) Enhanced surveillance at Accident and Emer...</td>\n",
       "      <td>1289 (29.6%)</td>\n",
       "    </tr>\n",
       "    <tr>\n",
       "      <th>3</th>\n",
       "      <td>(4) Diagnosis / Enhanced surveillance in priva...</td>\n",
       "      <td>624 (14.3%)</td>\n",
       "    </tr>\n",
       "    <tr>\n",
       "      <th>4</th>\n",
       "      <td>(5) Medical surveillance / contact tracing by ...</td>\n",
       "      <td>952 (21.8%)</td>\n",
       "    </tr>\n",
       "    <tr>\n",
       "      <th>5</th>\n",
       "      <td>(6) Enhanced surveillance for asymptomatic inb...</td>\n",
       "      <td>618 (14.2%)</td>\n",
       "    </tr>\n",
       "    <tr>\n",
       "      <th>6</th>\n",
       "      <td>(7) Enhanced surveillance for persons with hig...</td>\n",
       "      <td>15 (0.3%)</td>\n",
       "    </tr>\n",
       "    <tr>\n",
       "      <th>7</th>\n",
       "      <td>(8) Private testing for the four high-risk gro...</td>\n",
       "      <td>37 (0.8%)</td>\n",
       "    </tr>\n",
       "    <tr>\n",
       "      <th>8</th>\n",
       "      <td>Total</td>\n",
       "      <td>4361 (100.0%)</td>\n",
       "    </tr>\n",
       "  </tbody>\n",
       "</table>\n",
       "</div>"
      ],
      "text/plain": [
       "                                            Category  \\\n",
       "0  (1) Cases fulfilling the reporting criteria of...   \n",
       "1  (2) Enhanced laboratory surveillance in public...   \n",
       "2  (3) Enhanced surveillance at Accident and Emer...   \n",
       "3  (4) Diagnosis / Enhanced surveillance in priva...   \n",
       "4  (5) Medical surveillance / contact tracing by ...   \n",
       "5  (6) Enhanced surveillance for asymptomatic inb...   \n",
       "6  (7) Enhanced surveillance for persons with hig...   \n",
       "7  (8) Private testing for the four high-risk gro...   \n",
       "8                                              Total   \n",
       "\n",
       "  Number of cases (percentage)  \n",
       "0                   336 (7.7%)  \n",
       "1                  490 (11.2%)  \n",
       "2                 1289 (29.6%)  \n",
       "3                  624 (14.3%)  \n",
       "4                  952 (21.8%)  \n",
       "5                  618 (14.2%)  \n",
       "6                    15 (0.3%)  \n",
       "7                    37 (0.8%)  \n",
       "8                4361 (100.0%)  "
      ]
     },
     "execution_count": 30,
     "metadata": {},
     "output_type": "execute_result"
    }
   ],
   "source": [
    "detection_mode_df.head(n=20)"
   ]
  },
  {
   "cell_type": "markdown",
   "metadata": {
    "colab_type": "text",
    "id": "yqaSfVLzBphn"
   },
   "source": [
    " ### 5.4 Large clusters with 10 or more cases (english)"
   ]
  },
  {
   "cell_type": "code",
   "execution_count": 31,
   "metadata": {
    "colab": {
     "base_uri": "https://localhost:8080/",
     "height": 34
    },
    "colab_type": "code",
    "id": "X3b7vKcUBpAu",
    "outputId": "64dc1301-5ba8-4e21-fbf2-ff9bc63eaa37"
   },
   "outputs": [
    {
     "data": {
      "text/plain": [
       "Index(['Cluster', 'Involved case number', 'Number of cases'], dtype='object')"
      ]
     },
     "execution_count": 31,
     "metadata": {},
     "output_type": "execute_result"
    }
   ],
   "source": [
    "hk_situation_en_cluster_df.columns"
   ]
  },
  {
   "cell_type": "code",
   "execution_count": 32,
   "metadata": {
    "colab": {
     "base_uri": "https://localhost:8080/",
     "height": 1000
    },
    "colab_type": "code",
    "id": "9mjrTkORNZGj",
    "outputId": "748bb57a-c306-4baf-9bec-81842f26f178"
   },
   "outputs": [
    {
     "data": {
      "text/html": [
       "<div>\n",
       "<style scoped>\n",
       "    .dataframe tbody tr th:only-of-type {\n",
       "        vertical-align: middle;\n",
       "    }\n",
       "\n",
       "    .dataframe tbody tr th {\n",
       "        vertical-align: top;\n",
       "    }\n",
       "\n",
       "    .dataframe thead th {\n",
       "        text-align: right;\n",
       "    }\n",
       "</style>\n",
       "<table border=\"1\" class=\"dataframe\">\n",
       "  <thead>\n",
       "    <tr style=\"text-align: right;\">\n",
       "      <th></th>\n",
       "      <th>Cluster</th>\n",
       "      <th>Involved case number</th>\n",
       "      <th>Number of cases</th>\n",
       "    </tr>\n",
       "  </thead>\n",
       "  <tbody>\n",
       "    <tr>\n",
       "      <th>0</th>\n",
       "      <td>Diamond Princess Cruise Ship</td>\n",
       "      <td>14, 71, 78, 79, 80, 81, 87, 88, 94, 96, 97</td>\n",
       "      <td>11</td>\n",
       "    </tr>\n",
       "    <tr>\n",
       "      <th>1</th>\n",
       "      <td>Hotpot dinner gathering at Kwun Tong</td>\n",
       "      <td>27, 29, 30, 31, 32, 33, 34, 35, 36, 37, 41, 44...</td>\n",
       "      <td>13</td>\n",
       "    </tr>\n",
       "    <tr>\n",
       "      <th>2</th>\n",
       "      <td>Fook Wai Ching Che in Maylun\\rApartments in No...</td>\n",
       "      <td>64, 65, 70, 73, 74, 76, 77, 83, 84, 86, 89, 91...</td>\n",
       "      <td>19</td>\n",
       "    </tr>\n",
       "    <tr>\n",
       "      <th>3</th>\n",
       "      <td>Travel tour to Egypt / Heng Tai House\\rof Fu H...</td>\n",
       "      <td>119, 120, 121, 123, 124, 125, 126, 127, 129, 140</td>\n",
       "      <td>10</td>\n",
       "    </tr>\n",
       "    <tr>\n",
       "      <th>4</th>\n",
       "      <td>Bar and band cluster</td>\n",
       "      <td>182, 227, 276, 343, 360, 362, 367, 384, 386, 3...</td>\n",
       "      <td>103</td>\n",
       "    </tr>\n",
       "    <tr>\n",
       "      <th>5</th>\n",
       "      <td>Wedding party at Lantau Island</td>\n",
       "      <td>191, 217, 233, 237, 250, 253, 258, 259, 287, 2...</td>\n",
       "      <td>15</td>\n",
       "    </tr>\n",
       "    <tr>\n",
       "      <th>6</th>\n",
       "      <td>Kerry Logistics/ Luk Chuen House</td>\n",
       "      <td>1084, 1085, 1086, 1087, 1088, 1089, 1090, 1091...</td>\n",
       "      <td>12</td>\n",
       "    </tr>\n",
       "    <tr>\n",
       "      <th>7</th>\n",
       "      <td>Bun Kee/ Sun Fat/ Kin Wing</td>\n",
       "      <td>1269, 1283, 1289, 1291, 1295, 1297, 1301, 1304...</td>\n",
       "      <td>46</td>\n",
       "    </tr>\n",
       "    <tr>\n",
       "      <th>8</th>\n",
       "      <td>Kong Tai Care for the Aged Centre</td>\n",
       "      <td>1298, 1302, 1307, 1310, 1311, 1312, 1316, 1321...</td>\n",
       "      <td>46</td>\n",
       "    </tr>\n",
       "    <tr>\n",
       "      <th>9</th>\n",
       "      <td>Ming Chuen House of Shui Chuen O\\rEstate</td>\n",
       "      <td>1294, 1377, 1378, 1379, 1380, 1381, 1382, 1383...</td>\n",
       "      <td>12</td>\n",
       "    </tr>\n",
       "    <tr>\n",
       "      <th>10</th>\n",
       "      <td>Tsz Wan Shan Shopping Centre Green\\rRiver</td>\n",
       "      <td>1430, 1440, 1444, 1445, 1484, 1507, 1508, 1519...</td>\n",
       "      <td>38</td>\n",
       "    </tr>\n",
       "    <tr>\n",
       "      <th>11</th>\n",
       "      <td>Tsz Wan Shan Shopping Centre\\rWindsor</td>\n",
       "      <td>1477, 1514, 1517, 1520, 1534, 1555, 1567, 1569...</td>\n",
       "      <td>26</td>\n",
       "    </tr>\n",
       "    <tr>\n",
       "      <th>0</th>\n",
       "      <td>Grand Plaza Taoheung</td>\n",
       "      <td>1632, 1652, 1721, 1765, 1774, 1797, 1820, 1832...</td>\n",
       "      <td>41</td>\n",
       "    </tr>\n",
       "    <tr>\n",
       "      <th>0</th>\n",
       "      <td>Tuen Mun Central Square Fulum\\rRestaurant</td>\n",
       "      <td>1739, 1740, 1743, 1783, 1951, 1952, 1988, 1993...</td>\n",
       "      <td>44</td>\n",
       "    </tr>\n",
       "    <tr>\n",
       "      <th>1</th>\n",
       "      <td>Metroplaza Chiuchow Garden</td>\n",
       "      <td>1730, 1770, 1786, 1838, 1841, 1842, 1862, 1912...</td>\n",
       "      <td>20</td>\n",
       "    </tr>\n",
       "    <tr>\n",
       "      <th>2</th>\n",
       "      <td>Tsz Wan Shan Shopping\\rCentre Deluxe Cuisine</td>\n",
       "      <td>1365, 1393, 1424, 1425, 1509, 1510, 1515, 1519...</td>\n",
       "      <td>32</td>\n",
       "    </tr>\n",
       "    <tr>\n",
       "      <th>3</th>\n",
       "      <td>Metropark Hotel Mongkok Victoria\\rHarbour Rest...</td>\n",
       "      <td>1483, 1613, 1768, 1799, 1806, 1896, 1906, 1919...</td>\n",
       "      <td>15</td>\n",
       "    </tr>\n",
       "    <tr>\n",
       "      <th>4</th>\n",
       "      <td>The Salvation Army Lung Hang\\rResidence For Se...</td>\n",
       "      <td>2052, 2224, 2304, 2305, 2366, 2367, 2368, 2404...</td>\n",
       "      <td>14</td>\n",
       "    </tr>\n",
       "    <tr>\n",
       "      <th>5</th>\n",
       "      <td>Cornwall Elderly’s Home (Golden\\rBranch), Tuen...</td>\n",
       "      <td>2254, 2477, 2543, 2586, 2587, 2588, 2589, 2590...</td>\n",
       "      <td>40</td>\n",
       "    </tr>\n",
       "    <tr>\n",
       "      <th>6</th>\n",
       "      <td>Kin Shing (Leung's) General\\rContractors Ltd./...</td>\n",
       "      <td>2396, 2434, 2478, 2479, 2535, 2536, 2550, 2635...</td>\n",
       "      <td>32</td>\n",
       "    </tr>\n",
       "    <tr>\n",
       "      <th>7</th>\n",
       "      <td>Star Global Direct Sales</td>\n",
       "      <td>2289, 2476, 2546, 2722, 2765, 2935, 2984, 3102...</td>\n",
       "      <td>56</td>\n",
       "    </tr>\n",
       "    <tr>\n",
       "      <th>8</th>\n",
       "      <td>Sheung Shui Slaughter House</td>\n",
       "      <td>2671, 2727, 2770, 2806, 2849, 2952, 3069, 3095...</td>\n",
       "      <td>20</td>\n",
       "    </tr>\n",
       "    <tr>\n",
       "      <th>9</th>\n",
       "      <td>Construction site at Kong Nga Po,\\rMan Kam To</td>\n",
       "      <td>3080, 3181, 3182, 3337, 3338, 3379, 3388, 3436...</td>\n",
       "      <td>23</td>\n",
       "    </tr>\n",
       "    <tr>\n",
       "      <th>10</th>\n",
       "      <td>Hung Hom Market</td>\n",
       "      <td>1877, 2283, 2316, 2341, 2888, 3185, 3188, 3290...</td>\n",
       "      <td>13</td>\n",
       "    </tr>\n",
       "    <tr>\n",
       "      <th>11</th>\n",
       "      <td>Sham Shui Po King Fok Nursing\\rHome</td>\n",
       "      <td>3068, 3502, 3584, 3585, 3637, 3707, 3733, 3734...</td>\n",
       "      <td>14</td>\n",
       "    </tr>\n",
       "    <tr>\n",
       "      <th>0</th>\n",
       "      <td>Kwai Tsing Container Terminals</td>\n",
       "      <td>2189, 2987, 3313, 3742, 3764, 3977, 4003, 4037...</td>\n",
       "      <td>25</td>\n",
       "    </tr>\n",
       "  </tbody>\n",
       "</table>\n",
       "</div>"
      ],
      "text/plain": [
       "                                              Cluster  \\\n",
       "0                        Diamond Princess Cruise Ship   \n",
       "1                Hotpot dinner gathering at Kwun Tong   \n",
       "2   Fook Wai Ching Che in Maylun\\rApartments in No...   \n",
       "3   Travel tour to Egypt / Heng Tai House\\rof Fu H...   \n",
       "4                                Bar and band cluster   \n",
       "5                      Wedding party at Lantau Island   \n",
       "6                    Kerry Logistics/ Luk Chuen House   \n",
       "7                          Bun Kee/ Sun Fat/ Kin Wing   \n",
       "8                   Kong Tai Care for the Aged Centre   \n",
       "9            Ming Chuen House of Shui Chuen O\\rEstate   \n",
       "10          Tsz Wan Shan Shopping Centre Green\\rRiver   \n",
       "11              Tsz Wan Shan Shopping Centre\\rWindsor   \n",
       "0                                Grand Plaza Taoheung   \n",
       "0           Tuen Mun Central Square Fulum\\rRestaurant   \n",
       "1                          Metroplaza Chiuchow Garden   \n",
       "2        Tsz Wan Shan Shopping\\rCentre Deluxe Cuisine   \n",
       "3   Metropark Hotel Mongkok Victoria\\rHarbour Rest...   \n",
       "4   The Salvation Army Lung Hang\\rResidence For Se...   \n",
       "5   Cornwall Elderly’s Home (Golden\\rBranch), Tuen...   \n",
       "6   Kin Shing (Leung's) General\\rContractors Ltd./...   \n",
       "7                            Star Global Direct Sales   \n",
       "8                         Sheung Shui Slaughter House   \n",
       "9       Construction site at Kong Nga Po,\\rMan Kam To   \n",
       "10                                    Hung Hom Market   \n",
       "11                Sham Shui Po King Fok Nursing\\rHome   \n",
       "0                      Kwai Tsing Container Terminals   \n",
       "\n",
       "                                 Involved case number Number of cases  \n",
       "0          14, 71, 78, 79, 80, 81, 87, 88, 94, 96, 97              11  \n",
       "1   27, 29, 30, 31, 32, 33, 34, 35, 36, 37, 41, 44...              13  \n",
       "2   64, 65, 70, 73, 74, 76, 77, 83, 84, 86, 89, 91...              19  \n",
       "3    119, 120, 121, 123, 124, 125, 126, 127, 129, 140              10  \n",
       "4   182, 227, 276, 343, 360, 362, 367, 384, 386, 3...             103  \n",
       "5   191, 217, 233, 237, 250, 253, 258, 259, 287, 2...              15  \n",
       "6   1084, 1085, 1086, 1087, 1088, 1089, 1090, 1091...              12  \n",
       "7   1269, 1283, 1289, 1291, 1295, 1297, 1301, 1304...              46  \n",
       "8   1298, 1302, 1307, 1310, 1311, 1312, 1316, 1321...              46  \n",
       "9   1294, 1377, 1378, 1379, 1380, 1381, 1382, 1383...              12  \n",
       "10  1430, 1440, 1444, 1445, 1484, 1507, 1508, 1519...              38  \n",
       "11  1477, 1514, 1517, 1520, 1534, 1555, 1567, 1569...              26  \n",
       "0   1632, 1652, 1721, 1765, 1774, 1797, 1820, 1832...              41  \n",
       "0   1739, 1740, 1743, 1783, 1951, 1952, 1988, 1993...              44  \n",
       "1   1730, 1770, 1786, 1838, 1841, 1842, 1862, 1912...              20  \n",
       "2   1365, 1393, 1424, 1425, 1509, 1510, 1515, 1519...              32  \n",
       "3   1483, 1613, 1768, 1799, 1806, 1896, 1906, 1919...              15  \n",
       "4   2052, 2224, 2304, 2305, 2366, 2367, 2368, 2404...              14  \n",
       "5   2254, 2477, 2543, 2586, 2587, 2588, 2589, 2590...              40  \n",
       "6   2396, 2434, 2478, 2479, 2535, 2536, 2550, 2635...              32  \n",
       "7   2289, 2476, 2546, 2722, 2765, 2935, 2984, 3102...              56  \n",
       "8   2671, 2727, 2770, 2806, 2849, 2952, 3069, 3095...              20  \n",
       "9   3080, 3181, 3182, 3337, 3338, 3379, 3388, 3436...              23  \n",
       "10  1877, 2283, 2316, 2341, 2888, 3185, 3188, 3290...              13  \n",
       "11  3068, 3502, 3584, 3585, 3637, 3707, 3733, 3734...              14  \n",
       "0   2189, 2987, 3313, 3742, 3764, 3977, 4003, 4037...              25  "
      ]
     },
     "execution_count": 32,
     "metadata": {},
     "output_type": "execute_result"
    }
   ],
   "source": [
    "hk_situation_en_cluster_df.head(n=30)"
   ]
  },
  {
   "cell_type": "markdown",
   "metadata": {
    "colab_type": "text",
    "id": "kNsxpM9T1w-K"
   },
   "source": [
    "## 6. Export to pickle"
   ]
  },
  {
   "cell_type": "code",
   "execution_count": 33,
   "metadata": {
    "colab": {},
    "colab_type": "code",
    "id": "l0lhqy0y1wLG"
   },
   "outputs": [],
   "source": [
    "PIK = 'raw-en.dat'"
   ]
  },
  {
   "cell_type": "code",
   "execution_count": 34,
   "metadata": {
    "colab": {},
    "colab_type": "code",
    "id": "3MPs_gdj2OL9"
   },
   "outputs": [],
   "source": [
    "pickle_file = open(PIK, 'wb')"
   ]
  },
  {
   "cell_type": "code",
   "execution_count": 35,
   "metadata": {
    "colab": {},
    "colab_type": "code",
    "id": "XOwkz2QJ2SYh"
   },
   "outputs": [],
   "source": [
    "pickle.dump(hk_situation_en_new_df, pickle_file)"
   ]
  },
  {
   "cell_type": "code",
   "execution_count": 36,
   "metadata": {
    "colab": {},
    "colab_type": "code",
    "id": "xonxlrc_2aY2"
   },
   "outputs": [],
   "source": [
    "pickle.dump(hk_situation_en_old_df, pickle_file)"
   ]
  },
  {
   "cell_type": "code",
   "execution_count": 37,
   "metadata": {
    "colab": {},
    "colab_type": "code",
    "id": "t33BIV6U9pGQ"
   },
   "outputs": [],
   "source": [
    "pickle.dump(detection_mode_df, pickle_file)"
   ]
  },
  {
   "cell_type": "code",
   "execution_count": 38,
   "metadata": {
    "colab": {},
    "colab_type": "code",
    "id": "DAeLLdcwOImd"
   },
   "outputs": [],
   "source": [
    "pickle.dump(hk_situation_en_cluster_df, pickle_file)"
   ]
  },
  {
   "cell_type": "code",
   "execution_count": 39,
   "metadata": {
    "colab": {},
    "colab_type": "code",
    "id": "QNUYVaUI2bi-"
   },
   "outputs": [],
   "source": [
    "pickle_file.close()"
   ]
  }
 ],
 "metadata": {
  "colab": {
   "name": "2020-08-15-A Data Extraction",
   "provenance": []
  },
  "kernelspec": {
   "display_name": "Python 3",
   "name": "python3"
  },
  "language_info": {
   "codemirror_mode": {
    "name": "ipython",
    "version": 3
   },
   "file_extension": ".py",
   "mimetype": "text/x-python",
   "name": "python",
   "nbconvert_exporter": "python",
   "pygments_lexer": "ipython3",
   "version": "3.6.9"
  }
 },
 "nbformat": 4,
 "nbformat_minor": 0
}
