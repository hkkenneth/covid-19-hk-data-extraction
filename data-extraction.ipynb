{
  "nbformat": 4,
  "nbformat_minor": 0,
  "metadata": {
    "colab": {
      "name": "2020-08-15-A Data Extraction",
      "provenance": []
    },
    "kernelspec": {
      "name": "python3",
      "display_name": "Python 3"
    }
  },
  "cells": [
    {
      "cell_type": "markdown",
      "metadata": {
        "id": "Qa5dBgBOc1OX",
        "colab_type": "text"
      },
      "source": [
        "# Data Extraction From PDF"
      ]
    },
    {
      "cell_type": "markdown",
      "metadata": {
        "id": "9HiiNGYfXTkT",
        "colab_type": "text"
      },
      "source": [
        "## 1. Check Java Versions"
      ]
    },
    {
      "cell_type": "code",
      "metadata": {
        "id": "GZWQUFT2XWWW",
        "colab_type": "code",
        "colab": {
          "base_uri": "https://localhost:8080/",
          "height": 88
        },
        "outputId": "ad756676-b0c3-4627-b836-108fef28fa77"
      },
      "source": [
        "!java -version"
      ],
      "execution_count": 1,
      "outputs": [
        {
          "output_type": "stream",
          "text": [
            "openjdk version \"11.0.8\" 2020-07-14\n",
            "OpenJDK Runtime Environment (build 11.0.8+10-post-Ubuntu-0ubuntu118.04.1)\n",
            "OpenJDK 64-Bit Server VM (build 11.0.8+10-post-Ubuntu-0ubuntu118.04.1, mixed mode, sharing)\n"
          ],
          "name": "stdout"
        }
      ]
    },
    {
      "cell_type": "markdown",
      "metadata": {
        "id": "MUo9dhAcdQSj",
        "colab_type": "text"
      },
      "source": [
        "## 2. Import libraries"
      ]
    },
    {
      "cell_type": "code",
      "metadata": {
        "id": "H0l7BRgIX1f7",
        "colab_type": "code",
        "colab": {
          "base_uri": "https://localhost:8080/",
          "height": 34
        },
        "outputId": "18f96a6a-d731-4858-c5d3-044d9807264c"
      },
      "source": [
        "!pip install -q tabula-py"
      ],
      "execution_count": 2,
      "outputs": [
        {
          "output_type": "stream",
          "text": [
            "\u001b[K     |████████████████████████████████| 10.4MB 2.8MB/s \n",
            "\u001b[?25h"
          ],
          "name": "stdout"
        }
      ]
    },
    {
      "cell_type": "code",
      "metadata": {
        "id": "Qlhe69zOX4Vc",
        "colab_type": "code",
        "colab": {
          "base_uri": "https://localhost:8080/",
          "height": 275
        },
        "outputId": "e3e621a3-b32b-4af6-e35f-175bf55747b2"
      },
      "source": [
        "import tabula\n",
        "\n",
        "tabula.environment_info()"
      ],
      "execution_count": 4,
      "outputs": [
        {
          "output_type": "stream",
          "text": [
            "Python version:\n",
            "    3.6.9 (default, Jul 17 2020, 12:50:27) \n",
            "[GCC 8.4.0]\n",
            "Java version:\n",
            "    openjdk version \"11.0.8\" 2020-07-14\n",
            "OpenJDK Runtime Environment (build 11.0.8+10-post-Ubuntu-0ubuntu118.04.1)\n",
            "OpenJDK 64-Bit Server VM (build 11.0.8+10-post-Ubuntu-0ubuntu118.04.1, mixed mode, sharing)\n",
            "tabula-py version: 2.1.1\n",
            "platform: Linux-4.19.112+-x86_64-with-Ubuntu-18.04-bionic\n",
            "uname:\n",
            "    uname_result(system='Linux', node='e9d7091df8e1', release='4.19.112+', version='#1 SMP Thu Jul 23 08:00:38 PDT 2020', machine='x86_64', processor='x86_64')\n",
            "linux_distribution: ('Ubuntu', '18.04', 'bionic')\n",
            "mac_ver: ('', ('', '', ''), '')\n",
            "    \n"
          ],
          "name": "stdout"
        }
      ]
    },
    {
      "cell_type": "code",
      "metadata": {
        "id": "LvyJVCnUcx08",
        "colab_type": "code",
        "colab": {}
      },
      "source": [
        "import pandas as pd"
      ],
      "execution_count": 5,
      "outputs": []
    },
    {
      "cell_type": "markdown",
      "metadata": {
        "id": "YBcdrUPcXeLX",
        "colab_type": "text"
      },
      "source": [
        "## 3. Library for this notebook"
      ]
    },
    {
      "cell_type": "code",
      "metadata": {
        "id": "5Srq8XMZXdqW",
        "colab_type": "code",
        "colab": {}
      },
      "source": [
        "def extract_hk_situation_en_new_df(pdf=None, pdf_all=None):\n",
        "  # Elements are pandas pandas.core.frame.DataFrame\n",
        "  if pdf_all is None:\n",
        "    pdf_all = tabula.read_pdf(pdf, pages=\"all\", lattice=True)\n",
        "  guess_new_end = 0\n",
        "  \n",
        "  for i in range(len(pdf_all)):\n",
        "    if (pdf_all[i].shape[1] == 8) and (pdf_all[i].columns[0] == 'Case no.' or pdf_all[i].columns[0] == 'Case\\rno.'):\n",
        "      guess_new_end = i + 1\n",
        "    else:\n",
        "      break\n",
        "  print(\"The first %s pages are new cases\" % guess_new_end)\n",
        "\n",
        "  df_new_only = pd.concat([pdf_all[i] for i in range(guess_new_end)])\n",
        "  print(\"There are %s new cases\" % df_new_only.shape[0])\n",
        "  \n",
        "  human_columns_new = ['Case no.', 'Report date', 'Date of onset', 'Gender', 'Age', 'HK/Non-HK resident', 'Case classification', 'Confirmed/probable']\n",
        "  \n",
        "  # Ref: https://stackoverflow.com/a/44296858\n",
        "  columns_rename_dict = dict(zip(df_new_only.columns, human_columns_new))\n",
        "  df_new_only = df_new_only.rename(columns=columns_rename_dict)\n",
        "  return df_new_only"
      ],
      "execution_count": 25,
      "outputs": []
    },
    {
      "cell_type": "code",
      "metadata": {
        "id": "tBXMwOIVXu7c",
        "colab_type": "code",
        "colab": {}
      },
      "source": [
        "def extract_hk_situation_en_old_df(pdf=None, pdf_all=None):\n",
        "  if pdf_all is None:\n",
        "    pdf_all = tabula.read_pdf(pdf, pages=\"all\", lattice=True)\n",
        "  guess_old = []\n",
        "  # --- old\n",
        "  for i in range(len(pdf_all)):\n",
        "    if (pdf_all[i].shape[1] == 9) and (pdf_all[i].columns[0] == 'Case no.' or pdf_all[i].columns[0] == 'Case\\rno.'):\n",
        "      guess_old.append(i)\n",
        "  \n",
        "  print(\"The old list is %s pages long\" % len(guess_old))\n",
        "\n",
        "  df_old_only = pd.concat([pdf_all[i] for i in guess_old])\n",
        "  print(\"There are %s old cases\" % df_old_only.shape[0])\n",
        "  \n",
        "  human_columns_full = ['Case no.', 'Report date', 'Date of onset', 'Gender', 'Age', 'Hospitalised/Discharged/Deceased', 'HK/Non-HK resident', 'Case classification', 'Confirmed/probable']\n",
        "    # Ref: https://stackoverflow.com/a/44296858\n",
        "  columns_rename_dict = dict(zip(df_old_only.columns, human_columns_full))\n",
        "  df_old_only = df_old_only.rename(columns=columns_rename_dict)\n",
        "\n",
        "  return df_old_only"
      ],
      "execution_count": 26,
      "outputs": []
    },
    {
      "cell_type": "code",
      "metadata": {
        "id": "OMDmvQ_EbfzF",
        "colab_type": "code",
        "colab": {}
      },
      "source": [
        "## 4. Data Extraction"
      ],
      "execution_count": 30,
      "outputs": []
    },
    {
      "cell_type": "markdown",
      "metadata": {
        "id": "dT7g6y9Hc3Fq",
        "colab_type": "text"
      },
      "source": [
        "### 4.1 Obtain the data in PDF"
      ]
    },
    {
      "cell_type": "code",
      "metadata": {
        "id": "sgBUrG05c00e",
        "colab_type": "code",
        "colab": {
          "base_uri": "https://localhost:8080/",
          "height": 68
        },
        "outputId": "feb1f373-a59b-4405-e3f5-b7bd14fb3c5e"
      },
      "source": [
        "!curl -O https://raw.githubusercontent.com/hkkenneth/covid-19-hk-data/2020-08-14/2020-08-14/local_situation_covid19_en.pdf"
      ],
      "execution_count": 19,
      "outputs": [
        {
          "output_type": "stream",
          "text": [
            "  % Total    % Received % Xferd  Average Speed   Time    Time     Time  Current\n",
            "                                 Dload  Upload   Total   Spent    Left  Speed\n",
            "\r  0     0    0     0    0     0      0      0 --:--:-- --:--:-- --:--:--     0\r100 9536k  100 9536k    0     0  12.3M      0 --:--:-- --:--:-- --:--:-- 12.3M\n"
          ],
          "name": "stdout"
        }
      ]
    },
    {
      "cell_type": "code",
      "metadata": {
        "id": "f-WvPXMNbl0q",
        "colab_type": "code",
        "colab": {}
      },
      "source": [
        "### 4.2 Use Tabula to extract data"
      ],
      "execution_count": 31,
      "outputs": []
    },
    {
      "cell_type": "code",
      "metadata": {
        "id": "w42asooxc0xb",
        "colab_type": "code",
        "colab": {}
      },
      "source": [
        "pdf = 'local_situation_covid19_en.pdf'"
      ],
      "execution_count": 20,
      "outputs": []
    },
    {
      "cell_type": "code",
      "metadata": {
        "id": "x8yl0zOlc0iA",
        "colab_type": "code",
        "colab": {
          "base_uri": "https://localhost:8080/",
          "height": 292
        },
        "outputId": "638aa8f6-e486-4f8f-b05e-15495c5b0338"
      },
      "source": [
        "pdf_all = tabula.read_pdf(pdf, pages='all', lattice=True)"
      ],
      "execution_count": 21,
      "outputs": [
        {
          "output_type": "stream",
          "text": [
            "Got stderr: Aug 15, 2020 1:54:34 PM org.apache.pdfbox.pdmodel.font.FileSystemFontProvider loadDiskCache\n",
            "WARNING: New fonts found, font cache will be re-built\n",
            "Aug 15, 2020 1:54:34 PM org.apache.pdfbox.pdmodel.font.FileSystemFontProvider <init>\n",
            "WARNING: Building on-disk font cache, this may take a while\n",
            "Aug 15, 2020 1:54:34 PM org.apache.pdfbox.pdmodel.font.FileSystemFontProvider <init>\n",
            "WARNING: Finished building on-disk font cache, found 17 fonts\n",
            "Aug 15, 2020 1:54:34 PM org.apache.pdfbox.pdmodel.font.PDTrueTypeFont <init>\n",
            "WARNING: Using fallback font 'LiberationSans-Bold' for 'TimesNewRomanPS-BoldMT'\n",
            "Aug 15, 2020 1:54:34 PM org.apache.pdfbox.pdmodel.font.PDTrueTypeFont <init>\n",
            "WARNING: Using fallback font 'LiberationSans' for 'TimesNewRomanPSMT'\n",
            "Aug 15, 2020 1:54:34 PM org.apache.pdfbox.pdmodel.font.PDTrueTypeFont <init>\n",
            "WARNING: Using fallback font 'LiberationSans-Bold' for 'TimesNewRomanPS-BoldItalicMT'\n",
            "Aug 15, 2020 1:54:36 PM org.apache.pdfbox.pdmodel.font.PDCIDFontType2 <init>\n",
            "INFO: OpenType Layout tables used in font TimesNewRomanPSMT are not implemented in PDFBox and will be ignored\n",
            "\n"
          ],
          "name": "stderr"
        }
      ]
    },
    {
      "cell_type": "code",
      "metadata": {
        "id": "bwyd6Suec0TL",
        "colab_type": "code",
        "colab": {
          "base_uri": "https://localhost:8080/",
          "height": 51
        },
        "outputId": "accdf048-43e1-461d-a8d0-e5e8c40b4755"
      },
      "source": [
        "hk_situation_en_new_df = extract_hk_situation_en_new_df(pdf_all=pdf_all)"
      ],
      "execution_count": 27,
      "outputs": [
        {
          "output_type": "stream",
          "text": [
            "The first 3 pages are new cases\n",
            "There are 48 new cases\n"
          ],
          "name": "stdout"
        }
      ]
    },
    {
      "cell_type": "code",
      "metadata": {
        "id": "uLu1LnzKbExE",
        "colab_type": "code",
        "colab": {
          "base_uri": "https://localhost:8080/",
          "height": 51
        },
        "outputId": "cf99513e-3760-4f55-c7f3-eeff568d4268"
      },
      "source": [
        "hk_situation_en_old_df = extract_hk_situation_en_old_df(pdf_all=pdf_all)"
      ],
      "execution_count": 29,
      "outputs": [
        {
          "output_type": "stream",
          "text": [
            "The old list is 180 pages long\n",
            "There are 4313 old cases\n"
          ],
          "name": "stdout"
        }
      ]
    },
    {
      "cell_type": "markdown",
      "metadata": {
        "id": "MUmLFZCZbrTf",
        "colab_type": "text"
      },
      "source": [
        "## 5. Sanity Check"
      ]
    },
    {
      "cell_type": "code",
      "metadata": {
        "id": "uCN-RCr7bSHP",
        "colab_type": "code",
        "colab": {
          "base_uri": "https://localhost:8080/",
          "height": 34
        },
        "outputId": "4ef03898-2361-4eda-e9b1-f4af718d2a51"
      },
      "source": [
        "hk_situation_en_new_df.shape"
      ],
      "execution_count": 32,
      "outputs": [
        {
          "output_type": "execute_result",
          "data": {
            "text/plain": [
              "(48, 8)"
            ]
          },
          "metadata": {
            "tags": []
          },
          "execution_count": 32
        }
      ]
    },
    {
      "cell_type": "code",
      "metadata": {
        "id": "qf8V9GLOdCN7",
        "colab_type": "code",
        "colab": {
          "base_uri": "https://localhost:8080/",
          "height": 360
        },
        "outputId": "e3181292-94b1-4495-cb11-9d68503330f6"
      },
      "source": [
        "hk_situation_en_new_df.head()"
      ],
      "execution_count": 34,
      "outputs": [
        {
          "output_type": "execute_result",
          "data": {
            "text/html": [
              "<div>\n",
              "<style scoped>\n",
              "    .dataframe tbody tr th:only-of-type {\n",
              "        vertical-align: middle;\n",
              "    }\n",
              "\n",
              "    .dataframe tbody tr th {\n",
              "        vertical-align: top;\n",
              "    }\n",
              "\n",
              "    .dataframe thead th {\n",
              "        text-align: right;\n",
              "    }\n",
              "</style>\n",
              "<table border=\"1\" class=\"dataframe\">\n",
              "  <thead>\n",
              "    <tr style=\"text-align: right;\">\n",
              "      <th></th>\n",
              "      <th>Case no.</th>\n",
              "      <th>Report date</th>\n",
              "      <th>Date of onset</th>\n",
              "      <th>Gender</th>\n",
              "      <th>Age</th>\n",
              "      <th>HK/Non-HK resident</th>\n",
              "      <th>Case classification</th>\n",
              "      <th>Confirmed/probable</th>\n",
              "    </tr>\n",
              "  </thead>\n",
              "  <tbody>\n",
              "    <tr>\n",
              "      <th>0</th>\n",
              "      <td>4314</td>\n",
              "      <td>14/08/2020</td>\n",
              "      <td>Asymptomatic</td>\n",
              "      <td>M</td>\n",
              "      <td>31</td>\n",
              "      <td>Unknown</td>\n",
              "      <td>Imported case</td>\n",
              "      <td>Confirmed</td>\n",
              "    </tr>\n",
              "    <tr>\n",
              "      <th>1</th>\n",
              "      <td>4315</td>\n",
              "      <td>14/08/2020</td>\n",
              "      <td>Asymptomatic</td>\n",
              "      <td>F</td>\n",
              "      <td>13</td>\n",
              "      <td>HK Resident</td>\n",
              "      <td>Epidemiologically linked with local case</td>\n",
              "      <td>Confirmed</td>\n",
              "    </tr>\n",
              "    <tr>\n",
              "      <th>2</th>\n",
              "      <td>4316</td>\n",
              "      <td>14/08/2020</td>\n",
              "      <td>03/08/2020</td>\n",
              "      <td>F</td>\n",
              "      <td>38</td>\n",
              "      <td>HK Resident</td>\n",
              "      <td>Local case</td>\n",
              "      <td>Confirmed</td>\n",
              "    </tr>\n",
              "    <tr>\n",
              "      <th>3</th>\n",
              "      <td>4317</td>\n",
              "      <td>14/08/2020</td>\n",
              "      <td>Asymptomatic</td>\n",
              "      <td>M</td>\n",
              "      <td>62</td>\n",
              "      <td>HK Resident</td>\n",
              "      <td>Epidemiologically linked with local case</td>\n",
              "      <td>Confirmed</td>\n",
              "    </tr>\n",
              "    <tr>\n",
              "      <th>4</th>\n",
              "      <td>4318</td>\n",
              "      <td>14/08/2020</td>\n",
              "      <td>31/07/2020</td>\n",
              "      <td>M</td>\n",
              "      <td>47</td>\n",
              "      <td>HK Resident</td>\n",
              "      <td>Local case</td>\n",
              "      <td>Confirmed</td>\n",
              "    </tr>\n",
              "  </tbody>\n",
              "</table>\n",
              "</div>"
            ],
            "text/plain": [
              "   Case no.  ... Confirmed/probable\n",
              "0      4314  ...          Confirmed\n",
              "1      4315  ...          Confirmed\n",
              "2      4316  ...          Confirmed\n",
              "3      4317  ...          Confirmed\n",
              "4      4318  ...          Confirmed\n",
              "\n",
              "[5 rows x 8 columns]"
            ]
          },
          "metadata": {
            "tags": []
          },
          "execution_count": 34
        }
      ]
    },
    {
      "cell_type": "code",
      "metadata": {
        "id": "7gYtVbVeeR_O",
        "colab_type": "code",
        "colab": {
          "base_uri": "https://localhost:8080/",
          "height": 68
        },
        "outputId": "efa3d9a0-2cbf-4f44-b528-34356124cab8"
      },
      "source": [
        "hk_situation_en_new_df['Gender'].value_counts()"
      ],
      "execution_count": 36,
      "outputs": [
        {
          "output_type": "execute_result",
          "data": {
            "text/plain": [
              "M    24\n",
              "F    24\n",
              "Name: Gender, dtype: int64"
            ]
          },
          "metadata": {
            "tags": []
          },
          "execution_count": 36
        }
      ]
    },
    {
      "cell_type": "code",
      "metadata": {
        "id": "FnR9BdMiemGE",
        "colab_type": "code",
        "colab": {
          "base_uri": "https://localhost:8080/",
          "height": 68
        },
        "outputId": "39191a33-83dd-4265-9d0a-d034b48dc580"
      },
      "source": [
        "hk_situation_en_new_df['HK/Non-HK resident'].value_counts()"
      ],
      "execution_count": 40,
      "outputs": [
        {
          "output_type": "execute_result",
          "data": {
            "text/plain": [
              "HK Resident    47\n",
              "Unknown         1\n",
              "Name: HK/Non-HK resident, dtype: int64"
            ]
          },
          "metadata": {
            "tags": []
          },
          "execution_count": 40
        }
      ]
    },
    {
      "cell_type": "code",
      "metadata": {
        "id": "ULjD9woFeged",
        "colab_type": "code",
        "colab": {
          "base_uri": "https://localhost:8080/",
          "height": 85
        },
        "outputId": "e9c9ff3d-e132-46c5-b972-23b946856fd8"
      },
      "source": [
        "hk_situation_en_new_df['Case classification'].value_counts()"
      ],
      "execution_count": 39,
      "outputs": [
        {
          "output_type": "execute_result",
          "data": {
            "text/plain": [
              "Epidemiologically linked with local case    35\n",
              "Local case                                  11\n",
              "Imported case                                2\n",
              "Name: Case classification, dtype: int64"
            ]
          },
          "metadata": {
            "tags": []
          },
          "execution_count": 39
        }
      ]
    },
    {
      "cell_type": "code",
      "metadata": {
        "id": "ZTOS1aByebTB",
        "colab_type": "code",
        "colab": {
          "base_uri": "https://localhost:8080/",
          "height": 51
        },
        "outputId": "312791bf-0595-4f4f-c260-3b32e37b1025"
      },
      "source": [
        "hk_situation_en_new_df['Confirmed/probable'].value_counts()"
      ],
      "execution_count": 38,
      "outputs": [
        {
          "output_type": "execute_result",
          "data": {
            "text/plain": [
              "Confirmed    48\n",
              "Name: Confirmed/probable, dtype: int64"
            ]
          },
          "metadata": {
            "tags": []
          },
          "execution_count": 38
        }
      ]
    },
    {
      "cell_type": "code",
      "metadata": {
        "id": "bE-jXjBkf1jw",
        "colab_type": "code",
        "colab": {
          "base_uri": "https://localhost:8080/",
          "height": 34
        },
        "outputId": "b73b9ad0-96dc-4754-d791-b03a411f667c"
      },
      "source": [
        "hk_situation_en_old_df.shape"
      ],
      "execution_count": 41,
      "outputs": [
        {
          "output_type": "execute_result",
          "data": {
            "text/plain": [
              "(4313, 9)"
            ]
          },
          "metadata": {
            "tags": []
          },
          "execution_count": 41
        }
      ]
    },
    {
      "cell_type": "code",
      "metadata": {
        "id": "IsL7T8a0eKee",
        "colab_type": "code",
        "colab": {
          "base_uri": "https://localhost:8080/",
          "height": 343
        },
        "outputId": "301c848f-476f-404e-8f5d-7b5adc56d837"
      },
      "source": [
        "hk_situation_en_old_df.head()"
      ],
      "execution_count": 42,
      "outputs": [
        {
          "output_type": "execute_result",
          "data": {
            "text/html": [
              "<div>\n",
              "<style scoped>\n",
              "    .dataframe tbody tr th:only-of-type {\n",
              "        vertical-align: middle;\n",
              "    }\n",
              "\n",
              "    .dataframe tbody tr th {\n",
              "        vertical-align: top;\n",
              "    }\n",
              "\n",
              "    .dataframe thead th {\n",
              "        text-align: right;\n",
              "    }\n",
              "</style>\n",
              "<table border=\"1\" class=\"dataframe\">\n",
              "  <thead>\n",
              "    <tr style=\"text-align: right;\">\n",
              "      <th></th>\n",
              "      <th>Case no.</th>\n",
              "      <th>Report date</th>\n",
              "      <th>Date of onset</th>\n",
              "      <th>Gender</th>\n",
              "      <th>Age</th>\n",
              "      <th>Hospitalised/Discharged/Deceased</th>\n",
              "      <th>HK/Non-HK resident</th>\n",
              "      <th>Case classification</th>\n",
              "      <th>Confirmed/probable</th>\n",
              "    </tr>\n",
              "  </thead>\n",
              "  <tbody>\n",
              "    <tr>\n",
              "      <th>0</th>\n",
              "      <td>1</td>\n",
              "      <td>23/01/2020</td>\n",
              "      <td>21/01/2020</td>\n",
              "      <td>M</td>\n",
              "      <td>39</td>\n",
              "      <td>Discharged</td>\n",
              "      <td>Non-HK resident</td>\n",
              "      <td>I</td>\n",
              "      <td>Confirmed</td>\n",
              "    </tr>\n",
              "    <tr>\n",
              "      <th>1</th>\n",
              "      <td>2</td>\n",
              "      <td>23/01/2020</td>\n",
              "      <td>18/01/2020</td>\n",
              "      <td>M</td>\n",
              "      <td>56</td>\n",
              "      <td>Discharged</td>\n",
              "      <td>HK resident</td>\n",
              "      <td>I</td>\n",
              "      <td>Confirmed</td>\n",
              "    </tr>\n",
              "    <tr>\n",
              "      <th>2</th>\n",
              "      <td>3</td>\n",
              "      <td>24/01/2020</td>\n",
              "      <td>20/01/2020</td>\n",
              "      <td>F</td>\n",
              "      <td>62</td>\n",
              "      <td>Discharged</td>\n",
              "      <td>Non-HK resident</td>\n",
              "      <td>I</td>\n",
              "      <td>Confirmed</td>\n",
              "    </tr>\n",
              "    <tr>\n",
              "      <th>3</th>\n",
              "      <td>4</td>\n",
              "      <td>24/01/2020</td>\n",
              "      <td>23/01/2020</td>\n",
              "      <td>F</td>\n",
              "      <td>62</td>\n",
              "      <td>Discharged</td>\n",
              "      <td>Non-HK resident</td>\n",
              "      <td>I</td>\n",
              "      <td>Confirmed</td>\n",
              "    </tr>\n",
              "    <tr>\n",
              "      <th>4</th>\n",
              "      <td>5</td>\n",
              "      <td>24/01/2020</td>\n",
              "      <td>23/01/2020</td>\n",
              "      <td>M</td>\n",
              "      <td>63</td>\n",
              "      <td>Discharged</td>\n",
              "      <td>Non-HK resident</td>\n",
              "      <td>I</td>\n",
              "      <td>Confirmed</td>\n",
              "    </tr>\n",
              "  </tbody>\n",
              "</table>\n",
              "</div>"
            ],
            "text/plain": [
              "   Case no. Report date  ... Case classification Confirmed/probable\n",
              "0         1  23/01/2020  ...                   I          Confirmed\n",
              "1         2  23/01/2020  ...                   I          Confirmed\n",
              "2         3  24/01/2020  ...                   I          Confirmed\n",
              "3         4  24/01/2020  ...                   I          Confirmed\n",
              "4         5  24/01/2020  ...                   I          Confirmed\n",
              "\n",
              "[5 rows x 9 columns]"
            ]
          },
          "metadata": {
            "tags": []
          },
          "execution_count": 42
        }
      ]
    },
    {
      "cell_type": "code",
      "metadata": {
        "id": "jImQaZFpeNo4",
        "colab_type": "code",
        "colab": {
          "base_uri": "https://localhost:8080/",
          "height": 68
        },
        "outputId": "0244efdf-eaef-4e47-9662-14009a013b5e"
      },
      "source": [
        "hk_situation_en_old_df['Gender'].value_counts()"
      ],
      "execution_count": 43,
      "outputs": [
        {
          "output_type": "execute_result",
          "data": {
            "text/plain": [
              "F    2171\n",
              "M    2142\n",
              "Name: Gender, dtype: int64"
            ]
          },
          "metadata": {
            "tags": []
          },
          "execution_count": 43
        }
      ]
    },
    {
      "cell_type": "code",
      "metadata": {
        "id": "wgNlNCJbgLPz",
        "colab_type": "code",
        "colab": {
          "base_uri": "https://localhost:8080/",
          "height": 102
        },
        "outputId": "233cdbcd-f0f8-4991-e62b-a64958d8ecfd"
      },
      "source": [
        "hk_situation_en_old_df['Hospitalised/Discharged/Deceased'].value_counts()"
      ],
      "execution_count": 44,
      "outputs": [
        {
          "output_type": "execute_result",
          "data": {
            "text/plain": [
              "Discharged      3392\n",
              "Hospitalised     829\n",
              "Deceased          66\n",
              "No admission      26\n",
              "Name: Hospitalised/Discharged/Deceased, dtype: int64"
            ]
          },
          "metadata": {
            "tags": []
          },
          "execution_count": 44
        }
      ]
    },
    {
      "cell_type": "code",
      "metadata": {
        "id": "VYSQAo0YgPOT",
        "colab_type": "code",
        "colab": {
          "base_uri": "https://localhost:8080/",
          "height": 119
        },
        "outputId": "5c6168cd-0605-484c-d348-20bbf4690b63"
      },
      "source": [
        "hk_situation_en_old_df['HK/Non-HK resident'].value_counts()"
      ],
      "execution_count": 45,
      "outputs": [
        {
          "output_type": "execute_result",
          "data": {
            "text/plain": [
              "HK Resident        2817\n",
              "HK resident        1377\n",
              "Unknown              98\n",
              "Non-HK resident      20\n",
              "Non-HK Resident       1\n",
              "Name: HK/Non-HK resident, dtype: int64"
            ]
          },
          "metadata": {
            "tags": []
          },
          "execution_count": 45
        }
      ]
    },
    {
      "cell_type": "code",
      "metadata": {
        "id": "n47uOVeRgRoy",
        "colab_type": "code",
        "colab": {
          "base_uri": "https://localhost:8080/",
          "height": 136
        },
        "outputId": "66600fcc-9f40-43ab-8b8c-02d247a22495"
      },
      "source": [
        "hk_situation_en_old_df['Case classification'].value_counts()"
      ],
      "execution_count": 46,
      "outputs": [
        {
          "output_type": "execute_result",
          "data": {
            "text/plain": [
              "Epi-L     1844\n",
              "L         1189\n",
              "I         1084\n",
              "PL         103\n",
              "Epi-PL      62\n",
              "Epi-I       31\n",
              "Name: Case classification, dtype: int64"
            ]
          },
          "metadata": {
            "tags": []
          },
          "execution_count": 46
        }
      ]
    },
    {
      "cell_type": "code",
      "metadata": {
        "id": "4YFAyfm-gT5b",
        "colab_type": "code",
        "colab": {
          "base_uri": "https://localhost:8080/",
          "height": 68
        },
        "outputId": "c55bac57-ba9a-4ff9-ece7-578c14d8fd65"
      },
      "source": [
        "hk_situation_en_old_df['Confirmed/probable'].value_counts()"
      ],
      "execution_count": 47,
      "outputs": [
        {
          "output_type": "execute_result",
          "data": {
            "text/plain": [
              "Confirmed    4312\n",
              "Probable        1\n",
              "Name: Confirmed/probable, dtype: int64"
            ]
          },
          "metadata": {
            "tags": []
          },
          "execution_count": 47
        }
      ]
    }
  ]
}