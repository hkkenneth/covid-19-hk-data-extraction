{
  "nbformat": 4,
  "nbformat_minor": 0,
  "metadata": {
    "colab": {
      "name": "2020-08-15-A Data Extraction",
      "provenance": []
    },
    "kernelspec": {
      "name": "python3",
      "display_name": "Python 3"
    }
  },
  "cells": [
    {
      "cell_type": "markdown",
      "metadata": {
        "id": "Qa5dBgBOc1OX",
        "colab_type": "text"
      },
      "source": [
        "# Data Extraction From PDF"
      ]
    },
    {
      "cell_type": "markdown",
      "metadata": {
        "id": "9HiiNGYfXTkT",
        "colab_type": "text"
      },
      "source": [
        "## 1. Check Java Versions"
      ]
    },
    {
      "cell_type": "code",
      "metadata": {
        "id": "GZWQUFT2XWWW",
        "colab_type": "code",
        "colab": {
          "base_uri": "https://localhost:8080/",
          "height": 68
        },
        "outputId": "155ff7db-3d73-49ee-f9fe-28da719cb0ad"
      },
      "source": [
        "!java -version"
      ],
      "execution_count": 116,
      "outputs": [
        {
          "output_type": "stream",
          "text": [
            "openjdk version \"11.0.8\" 2020-07-14\n",
            "OpenJDK Runtime Environment (build 11.0.8+10-post-Ubuntu-0ubuntu118.04.1)\n",
            "OpenJDK 64-Bit Server VM (build 11.0.8+10-post-Ubuntu-0ubuntu118.04.1, mixed mode, sharing)\n"
          ],
          "name": "stdout"
        }
      ]
    },
    {
      "cell_type": "markdown",
      "metadata": {
        "id": "MUo9dhAcdQSj",
        "colab_type": "text"
      },
      "source": [
        "## 2. Import libraries"
      ]
    },
    {
      "cell_type": "code",
      "metadata": {
        "id": "H0l7BRgIX1f7",
        "colab_type": "code",
        "colab": {}
      },
      "source": [
        "!pip install -q tabula-py"
      ],
      "execution_count": 117,
      "outputs": []
    },
    {
      "cell_type": "code",
      "metadata": {
        "id": "Qlhe69zOX4Vc",
        "colab_type": "code",
        "colab": {
          "base_uri": "https://localhost:8080/",
          "height": 275
        },
        "outputId": "10eefe17-c6f0-4e1f-b7f1-5804ffef68d4"
      },
      "source": [
        "import tabula\n",
        "\n",
        "tabula.environment_info()"
      ],
      "execution_count": 118,
      "outputs": [
        {
          "output_type": "stream",
          "text": [
            "Python version:\n",
            "    3.6.9 (default, Jul 17 2020, 12:50:27) \n",
            "[GCC 8.4.0]\n",
            "Java version:\n",
            "    openjdk version \"11.0.8\" 2020-07-14\n",
            "OpenJDK Runtime Environment (build 11.0.8+10-post-Ubuntu-0ubuntu118.04.1)\n",
            "OpenJDK 64-Bit Server VM (build 11.0.8+10-post-Ubuntu-0ubuntu118.04.1, mixed mode, sharing)\n",
            "tabula-py version: 2.1.1\n",
            "platform: Linux-4.19.112+-x86_64-with-Ubuntu-18.04-bionic\n",
            "uname:\n",
            "    uname_result(system='Linux', node='e9d7091df8e1', release='4.19.112+', version='#1 SMP Thu Jul 23 08:00:38 PDT 2020', machine='x86_64', processor='x86_64')\n",
            "linux_distribution: ('Ubuntu', '18.04', 'bionic')\n",
            "mac_ver: ('', ('', '', ''), '')\n",
            "    \n"
          ],
          "name": "stdout"
        }
      ]
    },
    {
      "cell_type": "code",
      "metadata": {
        "id": "LvyJVCnUcx08",
        "colab_type": "code",
        "colab": {}
      },
      "source": [
        "import pandas as pd"
      ],
      "execution_count": 119,
      "outputs": []
    },
    {
      "cell_type": "code",
      "metadata": {
        "id": "Hy8_cKIl1qDA",
        "colab_type": "code",
        "colab": {}
      },
      "source": [
        "import pickle"
      ],
      "execution_count": 120,
      "outputs": []
    },
    {
      "cell_type": "markdown",
      "metadata": {
        "id": "YBcdrUPcXeLX",
        "colab_type": "text"
      },
      "source": [
        "## 3. Library for this notebook"
      ]
    },
    {
      "cell_type": "code",
      "metadata": {
        "id": "5Srq8XMZXdqW",
        "colab_type": "code",
        "colab": {}
      },
      "source": [
        "def extract_hk_situation_en_new_df(pdf=None, pdf_all=None):\n",
        "  # Elements are pandas pandas.core.frame.DataFrame\n",
        "  if pdf_all is None:\n",
        "    pdf_all = tabula.read_pdf(pdf, pages=\"all\", lattice=True)\n",
        "  guess_new_end = 0\n",
        "  \n",
        "  for i in range(len(pdf_all)):\n",
        "    if (pdf_all[i].shape[1] == 8) and (pdf_all[i].columns[0] == 'Case no.' or pdf_all[i].columns[0] == 'Case\\rno.'):\n",
        "      guess_new_end = i + 1\n",
        "    else:\n",
        "      break\n",
        "  print(\"The first %s pages are new cases\" % guess_new_end)\n",
        "\n",
        "  df_new_only = pd.concat([pdf_all[i] for i in range(guess_new_end)])\n",
        "  print(\"There are %s new cases\" % df_new_only.shape[0])\n",
        "  \n",
        "  human_columns_new = ['Case no.', 'Report date', 'Date of onset', 'Gender', 'Age', 'HK/Non-HK resident', 'Case classification', 'Confirmed/probable']\n",
        "  \n",
        "  # Ref: https://stackoverflow.com/a/44296858\n",
        "  columns_rename_dict = dict(zip(df_new_only.columns, human_columns_new))\n",
        "  df_new_only = df_new_only.rename(columns=columns_rename_dict)\n",
        "  return df_new_only"
      ],
      "execution_count": 121,
      "outputs": []
    },
    {
      "cell_type": "code",
      "metadata": {
        "id": "tBXMwOIVXu7c",
        "colab_type": "code",
        "colab": {}
      },
      "source": [
        "def extract_hk_situation_en_old_df(pdf=None, pdf_all=None):\n",
        "  if pdf_all is None:\n",
        "    pdf_all = tabula.read_pdf(pdf, pages=\"all\", lattice=True)\n",
        "  guess_old = []\n",
        "  # --- old\n",
        "  for i in range(len(pdf_all)):\n",
        "    if (pdf_all[i].shape[1] == 9) and (pdf_all[i].columns[0] == 'Case no.' or pdf_all[i].columns[0] == 'Case\\rno.'):\n",
        "      guess_old.append(i)\n",
        "  \n",
        "  print(\"The old list is %s pages long\" % len(guess_old))\n",
        "\n",
        "  df_old_only = pd.concat([pdf_all[i] for i in guess_old])\n",
        "  print(\"There are %s old cases\" % df_old_only.shape[0])\n",
        "  \n",
        "  human_columns_full = ['Case no.', 'Report date', 'Date of onset', 'Gender', 'Age', 'Hospitalised/Discharged/Deceased', 'HK/Non-HK resident', 'Case classification', 'Confirmed/probable']\n",
        "    # Ref: https://stackoverflow.com/a/44296858\n",
        "  columns_rename_dict = dict(zip(df_old_only.columns, human_columns_full))\n",
        "  df_old_only = df_old_only.rename(columns=columns_rename_dict)\n",
        "\n",
        "  return df_old_only"
      ],
      "execution_count": 122,
      "outputs": []
    },
    {
      "cell_type": "code",
      "metadata": {
        "id": "rH-v3g3O_i0f",
        "colab_type": "code",
        "colab": {}
      },
      "source": [
        "def extract_hk_situation_en_cluster_df(pdf=None, pdf_all=None):\n",
        "  if pdf_all is None:\n",
        "    pdf_all = tabula.read_pdf(pdf, pages=\"all\", lattice=True)\n",
        "  guess_cluster = []\n",
        "\n",
        "  for i in range(len(pdf_all)):\n",
        "    if (pdf_all[i].shape[1] == 3) and (pdf_all[i].columns[0] == 'Cluster' or (len(guess_cluster) > 0 and guess_cluster[-1] == (i - 1))):\n",
        "      guess_cluster.append(i)\n",
        "  \n",
        "  print(\"The cluster list is %s pages long\" % len(guess_cluster))\n",
        "  \n",
        "  human_columns_full = ['Cluster', 'Involved case number', 'Number of cases']\n",
        "\n",
        "  cluster_pages = []\n",
        "  df_cluster = None\n",
        "  if (len(guess_cluster) > 0):\n",
        "    columns_rename_dict = dict(zip(pdf_all[guess_cluster[0]].columns, human_columns_full))\n",
        "    cluster_pages.append(pdf_all[guess_cluster[0]].rename(columns=columns_rename_dict))\n",
        "    if (len(guess_cluster) > 1):\n",
        "      for i in guess_cluster[1:]:\n",
        "        cluster_pages.append(pd.DataFrame(data=dict(zip(human_columns_full, [[c] for c in pdf_all[i].columns]))))\n",
        "        # Ref: https://stackoverflow.com/a/44296858\n",
        "        columns_rename_dict = dict(zip(pdf_all[i].columns, human_columns_full))\n",
        "        cluster_pages.append(pdf_all[i].rename(columns=columns_rename_dict))\n",
        "    df_cluster = pd.concat(cluster_pages)\n",
        "    print(\"There are %i clusters\" % df_cluster.shape[0])\n",
        "  else:\n",
        "    pd.DataFrame(data={'Cluster': [], 'Involved case number': [], 'Number of cases': []})\n",
        "  return df_cluster"
      ],
      "execution_count": 123,
      "outputs": []
    },
    {
      "cell_type": "markdown",
      "metadata": {
        "id": "-Ue3LS7m8w0d",
        "colab_type": "text"
      },
      "source": [
        "## 4. Data Extraction"
      ]
    },
    {
      "cell_type": "markdown",
      "metadata": {
        "id": "dT7g6y9Hc3Fq",
        "colab_type": "text"
      },
      "source": [
        "### 4.1 Obtain the data in PDF"
      ]
    },
    {
      "cell_type": "code",
      "metadata": {
        "id": "sgBUrG05c00e",
        "colab_type": "code",
        "colab": {
          "base_uri": "https://localhost:8080/",
          "height": 68
        },
        "outputId": "4d14113c-f593-42dc-ce8c-759ab2f5d2ac"
      },
      "source": [
        "!curl -O https://raw.githubusercontent.com/hkkenneth/covid-19-hk-data/2020-08-14/2020-08-14/local_situation_covid19_en.pdf"
      ],
      "execution_count": 124,
      "outputs": [
        {
          "output_type": "stream",
          "text": [
            "  % Total    % Received % Xferd  Average Speed   Time    Time     Time  Current\n",
            "                                 Dload  Upload   Total   Spent    Left  Speed\n",
            "\r  0     0    0     0    0     0      0      0 --:--:-- --:--:-- --:--:--     0\r100 9536k  100 9536k    0     0  12.5M      0 --:--:-- --:--:-- --:--:-- 12.5M\n"
          ],
          "name": "stdout"
        }
      ]
    },
    {
      "cell_type": "markdown",
      "metadata": {
        "id": "ybfTu00B8k4b",
        "colab_type": "text"
      },
      "source": [
        "### 4.2 Use Tabula to extract data"
      ]
    },
    {
      "cell_type": "code",
      "metadata": {
        "id": "w42asooxc0xb",
        "colab_type": "code",
        "colab": {}
      },
      "source": [
        "pdf = 'local_situation_covid19_en.pdf'"
      ],
      "execution_count": 125,
      "outputs": []
    },
    {
      "cell_type": "code",
      "metadata": {
        "id": "x8yl0zOlc0iA",
        "colab_type": "code",
        "colab": {
          "base_uri": "https://localhost:8080/",
          "height": 190
        },
        "outputId": "9be1d0d1-d789-42b7-db38-a7404e2e5e9d"
      },
      "source": [
        "pdf_all = tabula.read_pdf(pdf, pages='all', lattice=True)"
      ],
      "execution_count": 126,
      "outputs": [
        {
          "output_type": "stream",
          "text": [
            "Got stderr: Aug 15, 2020 5:45:41 PM org.apache.pdfbox.pdmodel.font.PDTrueTypeFont <init>\n",
            "WARNING: Using fallback font 'LiberationSans-Bold' for 'TimesNewRomanPS-BoldMT'\n",
            "Aug 15, 2020 5:45:41 PM org.apache.pdfbox.pdmodel.font.PDTrueTypeFont <init>\n",
            "WARNING: Using fallback font 'LiberationSans' for 'TimesNewRomanPSMT'\n",
            "Aug 15, 2020 5:45:41 PM org.apache.pdfbox.pdmodel.font.PDTrueTypeFont <init>\n",
            "WARNING: Using fallback font 'LiberationSans-Bold' for 'TimesNewRomanPS-BoldItalicMT'\n",
            "Aug 15, 2020 5:45:43 PM org.apache.pdfbox.pdmodel.font.PDCIDFontType2 <init>\n",
            "INFO: OpenType Layout tables used in font TimesNewRomanPSMT are not implemented in PDFBox and will be ignored\n",
            "\n"
          ],
          "name": "stderr"
        }
      ]
    },
    {
      "cell_type": "markdown",
      "metadata": {
        "id": "LpdPKYDD8oky",
        "colab_type": "text"
      },
      "source": [
        "### 4.3 New cases (english) from local situation PDF"
      ]
    },
    {
      "cell_type": "code",
      "metadata": {
        "id": "bwyd6Suec0TL",
        "colab_type": "code",
        "colab": {
          "base_uri": "https://localhost:8080/",
          "height": 51
        },
        "outputId": "eba7f19a-ffb5-4425-d675-d8abe245676c"
      },
      "source": [
        "hk_situation_en_new_df = extract_hk_situation_en_new_df(pdf_all=pdf_all)"
      ],
      "execution_count": 127,
      "outputs": [
        {
          "output_type": "stream",
          "text": [
            "The first 3 pages are new cases\n",
            "There are 48 new cases\n"
          ],
          "name": "stdout"
        }
      ]
    },
    {
      "cell_type": "markdown",
      "metadata": {
        "id": "iTvWRnqO8-5p",
        "colab_type": "text"
      },
      "source": [
        "### 4.4 Old cases (english) from local situation PDF"
      ]
    },
    {
      "cell_type": "code",
      "metadata": {
        "id": "uLu1LnzKbExE",
        "colab_type": "code",
        "colab": {
          "base_uri": "https://localhost:8080/",
          "height": 51
        },
        "outputId": "dc8b06f6-4c96-47e1-df04-115379d87712"
      },
      "source": [
        "hk_situation_en_old_df = extract_hk_situation_en_old_df(pdf_all=pdf_all)"
      ],
      "execution_count": 128,
      "outputs": [
        {
          "output_type": "stream",
          "text": [
            "The old list is 180 pages long\n",
            "There are 4313 old cases\n"
          ],
          "name": "stdout"
        }
      ]
    },
    {
      "cell_type": "markdown",
      "metadata": {
        "id": "oiSXV0JK9H6P",
        "colab_type": "text"
      },
      "source": [
        "### 4.5 Mode of detection for confirmed and probable cases in Hong Kong (english) from local situation PDF"
      ]
    },
    {
      "cell_type": "code",
      "metadata": {
        "id": "qb-OtM903_v7",
        "colab_type": "code",
        "colab": {
          "base_uri": "https://localhost:8080/",
          "height": 34
        },
        "outputId": "6b2a3201-91ce-4a0e-dbdc-8dc20f1364f0"
      },
      "source": [
        "guess_detection_mode = -1\n",
        "  \n",
        "for i in range(len(pdf_all)):\n",
        "  if (pdf_all[i].shape[1] == 2) and pdf_all[i].columns[0] == 'Category' and pdf_all[i].columns[1] == 'Number of cases (percentage)':\n",
        "    guess_detection_mode = i\n",
        "\n",
        "guess_detection_mode\n"
      ],
      "execution_count": 129,
      "outputs": [
        {
          "output_type": "execute_result",
          "data": {
            "text/plain": [
              "108"
            ]
          },
          "metadata": {
            "tags": []
          },
          "execution_count": 129
        }
      ]
    },
    {
      "cell_type": "code",
      "metadata": {
        "id": "pRUR93Yo7di9",
        "colab_type": "code",
        "colab": {}
      },
      "source": [
        "if guess_detection_mode == -1:\n",
        "  detection_mode_df = pd.DataFrame(data={'Category': [], 'Number of cases (percentage)': []})\n",
        "else:\n",
        "  detection_mode_df = pdf_all[guess_detection_mode]"
      ],
      "execution_count": 130,
      "outputs": []
    },
    {
      "cell_type": "markdown",
      "metadata": {
        "id": "zdtQK5M-Aeat",
        "colab_type": "text"
      },
      "source": [
        " ### 4.6 Large clusters with 10 or more cases (english) from local situation PDF"
      ]
    },
    {
      "cell_type": "code",
      "metadata": {
        "id": "aiPeo2gIAeFJ",
        "colab_type": "code",
        "colab": {
          "base_uri": "https://localhost:8080/",
          "height": 51
        },
        "outputId": "e4518340-3a24-4381-de25-5ec9585b9022"
      },
      "source": [
        "hk_situation_en_cluster_df = extract_hk_situation_en_cluster_df(pdf_all=pdf_all)"
      ],
      "execution_count": 131,
      "outputs": [
        {
          "output_type": "stream",
          "text": [
            "The cluster list is 3 pages long\n",
            "There are 26 clusters\n"
          ],
          "name": "stdout"
        }
      ]
    },
    {
      "cell_type": "markdown",
      "metadata": {
        "id": "MUmLFZCZbrTf",
        "colab_type": "text"
      },
      "source": [
        "## 5. Sanity Check"
      ]
    },
    {
      "cell_type": "markdown",
      "metadata": {
        "id": "2XsrCsUm9WYX",
        "colab_type": "text"
      },
      "source": [
        "### 5.1 New cases (english)"
      ]
    },
    {
      "cell_type": "code",
      "metadata": {
        "id": "uCN-RCr7bSHP",
        "colab_type": "code",
        "colab": {
          "base_uri": "https://localhost:8080/",
          "height": 34
        },
        "outputId": "b646d944-73ec-4cb0-fa4f-fdb0783e0842"
      },
      "source": [
        "hk_situation_en_new_df.shape"
      ],
      "execution_count": 132,
      "outputs": [
        {
          "output_type": "execute_result",
          "data": {
            "text/plain": [
              "(48, 8)"
            ]
          },
          "metadata": {
            "tags": []
          },
          "execution_count": 132
        }
      ]
    },
    {
      "cell_type": "code",
      "metadata": {
        "id": "qf8V9GLOdCN7",
        "colab_type": "code",
        "colab": {
          "base_uri": "https://localhost:8080/",
          "height": 255
        },
        "outputId": "707db8e0-62d0-45de-9ffc-2aec41a0af3b"
      },
      "source": [
        "hk_situation_en_new_df.head()"
      ],
      "execution_count": 133,
      "outputs": [
        {
          "output_type": "execute_result",
          "data": {
            "text/html": [
              "<div>\n",
              "<style scoped>\n",
              "    .dataframe tbody tr th:only-of-type {\n",
              "        vertical-align: middle;\n",
              "    }\n",
              "\n",
              "    .dataframe tbody tr th {\n",
              "        vertical-align: top;\n",
              "    }\n",
              "\n",
              "    .dataframe thead th {\n",
              "        text-align: right;\n",
              "    }\n",
              "</style>\n",
              "<table border=\"1\" class=\"dataframe\">\n",
              "  <thead>\n",
              "    <tr style=\"text-align: right;\">\n",
              "      <th></th>\n",
              "      <th>Case no.</th>\n",
              "      <th>Report date</th>\n",
              "      <th>Date of onset</th>\n",
              "      <th>Gender</th>\n",
              "      <th>Age</th>\n",
              "      <th>HK/Non-HK resident</th>\n",
              "      <th>Case classification</th>\n",
              "      <th>Confirmed/probable</th>\n",
              "    </tr>\n",
              "  </thead>\n",
              "  <tbody>\n",
              "    <tr>\n",
              "      <th>0</th>\n",
              "      <td>4314</td>\n",
              "      <td>14/08/2020</td>\n",
              "      <td>Asymptomatic</td>\n",
              "      <td>M</td>\n",
              "      <td>31</td>\n",
              "      <td>Unknown</td>\n",
              "      <td>Imported case</td>\n",
              "      <td>Confirmed</td>\n",
              "    </tr>\n",
              "    <tr>\n",
              "      <th>1</th>\n",
              "      <td>4315</td>\n",
              "      <td>14/08/2020</td>\n",
              "      <td>Asymptomatic</td>\n",
              "      <td>F</td>\n",
              "      <td>13</td>\n",
              "      <td>HK Resident</td>\n",
              "      <td>Epidemiologically linked with local case</td>\n",
              "      <td>Confirmed</td>\n",
              "    </tr>\n",
              "    <tr>\n",
              "      <th>2</th>\n",
              "      <td>4316</td>\n",
              "      <td>14/08/2020</td>\n",
              "      <td>03/08/2020</td>\n",
              "      <td>F</td>\n",
              "      <td>38</td>\n",
              "      <td>HK Resident</td>\n",
              "      <td>Local case</td>\n",
              "      <td>Confirmed</td>\n",
              "    </tr>\n",
              "    <tr>\n",
              "      <th>3</th>\n",
              "      <td>4317</td>\n",
              "      <td>14/08/2020</td>\n",
              "      <td>Asymptomatic</td>\n",
              "      <td>M</td>\n",
              "      <td>62</td>\n",
              "      <td>HK Resident</td>\n",
              "      <td>Epidemiologically linked with local case</td>\n",
              "      <td>Confirmed</td>\n",
              "    </tr>\n",
              "    <tr>\n",
              "      <th>4</th>\n",
              "      <td>4318</td>\n",
              "      <td>14/08/2020</td>\n",
              "      <td>31/07/2020</td>\n",
              "      <td>M</td>\n",
              "      <td>47</td>\n",
              "      <td>HK Resident</td>\n",
              "      <td>Local case</td>\n",
              "      <td>Confirmed</td>\n",
              "    </tr>\n",
              "  </tbody>\n",
              "</table>\n",
              "</div>"
            ],
            "text/plain": [
              "   Case no.  ... Confirmed/probable\n",
              "0      4314  ...          Confirmed\n",
              "1      4315  ...          Confirmed\n",
              "2      4316  ...          Confirmed\n",
              "3      4317  ...          Confirmed\n",
              "4      4318  ...          Confirmed\n",
              "\n",
              "[5 rows x 8 columns]"
            ]
          },
          "metadata": {
            "tags": []
          },
          "execution_count": 133
        }
      ]
    },
    {
      "cell_type": "code",
      "metadata": {
        "id": "7gYtVbVeeR_O",
        "colab_type": "code",
        "colab": {
          "base_uri": "https://localhost:8080/",
          "height": 68
        },
        "outputId": "956222a5-a4cc-40f3-a6fd-4a1097e4d431"
      },
      "source": [
        "hk_situation_en_new_df['Gender'].value_counts()"
      ],
      "execution_count": 134,
      "outputs": [
        {
          "output_type": "execute_result",
          "data": {
            "text/plain": [
              "M    24\n",
              "F    24\n",
              "Name: Gender, dtype: int64"
            ]
          },
          "metadata": {
            "tags": []
          },
          "execution_count": 134
        }
      ]
    },
    {
      "cell_type": "code",
      "metadata": {
        "id": "FnR9BdMiemGE",
        "colab_type": "code",
        "colab": {
          "base_uri": "https://localhost:8080/",
          "height": 68
        },
        "outputId": "05843c02-4871-41ab-a797-ac545b461427"
      },
      "source": [
        "hk_situation_en_new_df['HK/Non-HK resident'].value_counts()"
      ],
      "execution_count": 135,
      "outputs": [
        {
          "output_type": "execute_result",
          "data": {
            "text/plain": [
              "HK Resident    47\n",
              "Unknown         1\n",
              "Name: HK/Non-HK resident, dtype: int64"
            ]
          },
          "metadata": {
            "tags": []
          },
          "execution_count": 135
        }
      ]
    },
    {
      "cell_type": "code",
      "metadata": {
        "id": "ULjD9woFeged",
        "colab_type": "code",
        "colab": {
          "base_uri": "https://localhost:8080/",
          "height": 85
        },
        "outputId": "348fb3c7-c6de-4d83-85f1-1b34829bab40"
      },
      "source": [
        "hk_situation_en_new_df['Case classification'].value_counts()"
      ],
      "execution_count": 136,
      "outputs": [
        {
          "output_type": "execute_result",
          "data": {
            "text/plain": [
              "Epidemiologically linked with local case    35\n",
              "Local case                                  11\n",
              "Imported case                                2\n",
              "Name: Case classification, dtype: int64"
            ]
          },
          "metadata": {
            "tags": []
          },
          "execution_count": 136
        }
      ]
    },
    {
      "cell_type": "code",
      "metadata": {
        "id": "ZTOS1aByebTB",
        "colab_type": "code",
        "colab": {
          "base_uri": "https://localhost:8080/",
          "height": 51
        },
        "outputId": "630a7f44-e4d0-42bf-f9a3-7b2c429c2ea8"
      },
      "source": [
        "hk_situation_en_new_df['Confirmed/probable'].value_counts()"
      ],
      "execution_count": 137,
      "outputs": [
        {
          "output_type": "execute_result",
          "data": {
            "text/plain": [
              "Confirmed    48\n",
              "Name: Confirmed/probable, dtype: int64"
            ]
          },
          "metadata": {
            "tags": []
          },
          "execution_count": 137
        }
      ]
    },
    {
      "cell_type": "markdown",
      "metadata": {
        "id": "UBY6n_IL9cB-",
        "colab_type": "text"
      },
      "source": [
        "### 5.2 Old cases (english)"
      ]
    },
    {
      "cell_type": "code",
      "metadata": {
        "id": "bE-jXjBkf1jw",
        "colab_type": "code",
        "colab": {
          "base_uri": "https://localhost:8080/",
          "height": 34
        },
        "outputId": "bb0afa1d-b05c-4017-98ba-7a4ae6a7e720"
      },
      "source": [
        "hk_situation_en_old_df.shape"
      ],
      "execution_count": 138,
      "outputs": [
        {
          "output_type": "execute_result",
          "data": {
            "text/plain": [
              "(4313, 9)"
            ]
          },
          "metadata": {
            "tags": []
          },
          "execution_count": 138
        }
      ]
    },
    {
      "cell_type": "code",
      "metadata": {
        "id": "IsL7T8a0eKee",
        "colab_type": "code",
        "colab": {
          "base_uri": "https://localhost:8080/",
          "height": 343
        },
        "outputId": "61ba357f-4460-418b-eaca-e2376cfd288c"
      },
      "source": [
        "hk_situation_en_old_df.head()"
      ],
      "execution_count": 139,
      "outputs": [
        {
          "output_type": "execute_result",
          "data": {
            "text/html": [
              "<div>\n",
              "<style scoped>\n",
              "    .dataframe tbody tr th:only-of-type {\n",
              "        vertical-align: middle;\n",
              "    }\n",
              "\n",
              "    .dataframe tbody tr th {\n",
              "        vertical-align: top;\n",
              "    }\n",
              "\n",
              "    .dataframe thead th {\n",
              "        text-align: right;\n",
              "    }\n",
              "</style>\n",
              "<table border=\"1\" class=\"dataframe\">\n",
              "  <thead>\n",
              "    <tr style=\"text-align: right;\">\n",
              "      <th></th>\n",
              "      <th>Case no.</th>\n",
              "      <th>Report date</th>\n",
              "      <th>Date of onset</th>\n",
              "      <th>Gender</th>\n",
              "      <th>Age</th>\n",
              "      <th>Hospitalised/Discharged/Deceased</th>\n",
              "      <th>HK/Non-HK resident</th>\n",
              "      <th>Case classification</th>\n",
              "      <th>Confirmed/probable</th>\n",
              "    </tr>\n",
              "  </thead>\n",
              "  <tbody>\n",
              "    <tr>\n",
              "      <th>0</th>\n",
              "      <td>1</td>\n",
              "      <td>23/01/2020</td>\n",
              "      <td>21/01/2020</td>\n",
              "      <td>M</td>\n",
              "      <td>39</td>\n",
              "      <td>Discharged</td>\n",
              "      <td>Non-HK resident</td>\n",
              "      <td>I</td>\n",
              "      <td>Confirmed</td>\n",
              "    </tr>\n",
              "    <tr>\n",
              "      <th>1</th>\n",
              "      <td>2</td>\n",
              "      <td>23/01/2020</td>\n",
              "      <td>18/01/2020</td>\n",
              "      <td>M</td>\n",
              "      <td>56</td>\n",
              "      <td>Discharged</td>\n",
              "      <td>HK resident</td>\n",
              "      <td>I</td>\n",
              "      <td>Confirmed</td>\n",
              "    </tr>\n",
              "    <tr>\n",
              "      <th>2</th>\n",
              "      <td>3</td>\n",
              "      <td>24/01/2020</td>\n",
              "      <td>20/01/2020</td>\n",
              "      <td>F</td>\n",
              "      <td>62</td>\n",
              "      <td>Discharged</td>\n",
              "      <td>Non-HK resident</td>\n",
              "      <td>I</td>\n",
              "      <td>Confirmed</td>\n",
              "    </tr>\n",
              "    <tr>\n",
              "      <th>3</th>\n",
              "      <td>4</td>\n",
              "      <td>24/01/2020</td>\n",
              "      <td>23/01/2020</td>\n",
              "      <td>F</td>\n",
              "      <td>62</td>\n",
              "      <td>Discharged</td>\n",
              "      <td>Non-HK resident</td>\n",
              "      <td>I</td>\n",
              "      <td>Confirmed</td>\n",
              "    </tr>\n",
              "    <tr>\n",
              "      <th>4</th>\n",
              "      <td>5</td>\n",
              "      <td>24/01/2020</td>\n",
              "      <td>23/01/2020</td>\n",
              "      <td>M</td>\n",
              "      <td>63</td>\n",
              "      <td>Discharged</td>\n",
              "      <td>Non-HK resident</td>\n",
              "      <td>I</td>\n",
              "      <td>Confirmed</td>\n",
              "    </tr>\n",
              "  </tbody>\n",
              "</table>\n",
              "</div>"
            ],
            "text/plain": [
              "   Case no. Report date  ... Case classification Confirmed/probable\n",
              "0         1  23/01/2020  ...                   I          Confirmed\n",
              "1         2  23/01/2020  ...                   I          Confirmed\n",
              "2         3  24/01/2020  ...                   I          Confirmed\n",
              "3         4  24/01/2020  ...                   I          Confirmed\n",
              "4         5  24/01/2020  ...                   I          Confirmed\n",
              "\n",
              "[5 rows x 9 columns]"
            ]
          },
          "metadata": {
            "tags": []
          },
          "execution_count": 139
        }
      ]
    },
    {
      "cell_type": "code",
      "metadata": {
        "id": "jImQaZFpeNo4",
        "colab_type": "code",
        "colab": {
          "base_uri": "https://localhost:8080/",
          "height": 68
        },
        "outputId": "8bfd8182-0c02-4943-e604-204a26adf74a"
      },
      "source": [
        "hk_situation_en_old_df['Gender'].value_counts()"
      ],
      "execution_count": 140,
      "outputs": [
        {
          "output_type": "execute_result",
          "data": {
            "text/plain": [
              "F    2171\n",
              "M    2142\n",
              "Name: Gender, dtype: int64"
            ]
          },
          "metadata": {
            "tags": []
          },
          "execution_count": 140
        }
      ]
    },
    {
      "cell_type": "code",
      "metadata": {
        "id": "wgNlNCJbgLPz",
        "colab_type": "code",
        "colab": {
          "base_uri": "https://localhost:8080/",
          "height": 102
        },
        "outputId": "362d3b38-1bce-4fbc-cb9a-7ff6a7c747ac"
      },
      "source": [
        "hk_situation_en_old_df['Hospitalised/Discharged/Deceased'].value_counts()"
      ],
      "execution_count": 141,
      "outputs": [
        {
          "output_type": "execute_result",
          "data": {
            "text/plain": [
              "Discharged      3392\n",
              "Hospitalised     829\n",
              "Deceased          66\n",
              "No admission      26\n",
              "Name: Hospitalised/Discharged/Deceased, dtype: int64"
            ]
          },
          "metadata": {
            "tags": []
          },
          "execution_count": 141
        }
      ]
    },
    {
      "cell_type": "code",
      "metadata": {
        "id": "VYSQAo0YgPOT",
        "colab_type": "code",
        "colab": {
          "base_uri": "https://localhost:8080/",
          "height": 119
        },
        "outputId": "e6a5601f-9c09-424d-d464-1b9d231ccb38"
      },
      "source": [
        "hk_situation_en_old_df['HK/Non-HK resident'].value_counts()"
      ],
      "execution_count": 142,
      "outputs": [
        {
          "output_type": "execute_result",
          "data": {
            "text/plain": [
              "HK Resident        2817\n",
              "HK resident        1377\n",
              "Unknown              98\n",
              "Non-HK resident      20\n",
              "Non-HK Resident       1\n",
              "Name: HK/Non-HK resident, dtype: int64"
            ]
          },
          "metadata": {
            "tags": []
          },
          "execution_count": 142
        }
      ]
    },
    {
      "cell_type": "code",
      "metadata": {
        "id": "n47uOVeRgRoy",
        "colab_type": "code",
        "colab": {
          "base_uri": "https://localhost:8080/",
          "height": 136
        },
        "outputId": "7e881df2-16a7-4e39-ee14-13a41856403e"
      },
      "source": [
        "hk_situation_en_old_df['Case classification'].value_counts()"
      ],
      "execution_count": 143,
      "outputs": [
        {
          "output_type": "execute_result",
          "data": {
            "text/plain": [
              "Epi-L     1844\n",
              "L         1189\n",
              "I         1084\n",
              "PL         103\n",
              "Epi-PL      62\n",
              "Epi-I       31\n",
              "Name: Case classification, dtype: int64"
            ]
          },
          "metadata": {
            "tags": []
          },
          "execution_count": 143
        }
      ]
    },
    {
      "cell_type": "code",
      "metadata": {
        "id": "4YFAyfm-gT5b",
        "colab_type": "code",
        "colab": {
          "base_uri": "https://localhost:8080/",
          "height": 68
        },
        "outputId": "dc811386-c171-449d-a3dc-580661ad6296"
      },
      "source": [
        "hk_situation_en_old_df['Confirmed/probable'].value_counts()"
      ],
      "execution_count": 144,
      "outputs": [
        {
          "output_type": "execute_result",
          "data": {
            "text/plain": [
              "Confirmed    4312\n",
              "Probable        1\n",
              "Name: Confirmed/probable, dtype: int64"
            ]
          },
          "metadata": {
            "tags": []
          },
          "execution_count": 144
        }
      ]
    },
    {
      "cell_type": "markdown",
      "metadata": {
        "id": "fIyiaYbp9gfe",
        "colab_type": "text"
      },
      "source": [
        "### 5.3 Mode of detection for confirmed and probable cases in Hong Kong (english)"
      ]
    },
    {
      "cell_type": "code",
      "metadata": {
        "id": "rqi6HsYx1YMB",
        "colab_type": "code",
        "colab": {
          "base_uri": "https://localhost:8080/",
          "height": 328
        },
        "outputId": "0d97a1fe-e0f8-4223-fe33-ad3ac8653048"
      },
      "source": [
        "detection_mode_df.head(n=20)"
      ],
      "execution_count": 145,
      "outputs": [
        {
          "output_type": "execute_result",
          "data": {
            "text/html": [
              "<div>\n",
              "<style scoped>\n",
              "    .dataframe tbody tr th:only-of-type {\n",
              "        vertical-align: middle;\n",
              "    }\n",
              "\n",
              "    .dataframe tbody tr th {\n",
              "        vertical-align: top;\n",
              "    }\n",
              "\n",
              "    .dataframe thead th {\n",
              "        text-align: right;\n",
              "    }\n",
              "</style>\n",
              "<table border=\"1\" class=\"dataframe\">\n",
              "  <thead>\n",
              "    <tr style=\"text-align: right;\">\n",
              "      <th></th>\n",
              "      <th>Category</th>\n",
              "      <th>Number of cases (percentage)</th>\n",
              "    </tr>\n",
              "  </thead>\n",
              "  <tbody>\n",
              "    <tr>\n",
              "      <th>0</th>\n",
              "      <td>(1) Cases fulfilling the reporting criteria of...</td>\n",
              "      <td>336 (7.7%)</td>\n",
              "    </tr>\n",
              "    <tr>\n",
              "      <th>1</th>\n",
              "      <td>(2) Enhanced laboratory surveillance in public...</td>\n",
              "      <td>490 (11.2%)</td>\n",
              "    </tr>\n",
              "    <tr>\n",
              "      <th>2</th>\n",
              "      <td>(3) Enhanced surveillance at Accident and Emer...</td>\n",
              "      <td>1289 (29.6%)</td>\n",
              "    </tr>\n",
              "    <tr>\n",
              "      <th>3</th>\n",
              "      <td>(4) Diagnosis / Enhanced surveillance in priva...</td>\n",
              "      <td>624 (14.3%)</td>\n",
              "    </tr>\n",
              "    <tr>\n",
              "      <th>4</th>\n",
              "      <td>(5) Medical surveillance / contact tracing by ...</td>\n",
              "      <td>952 (21.8%)</td>\n",
              "    </tr>\n",
              "    <tr>\n",
              "      <th>5</th>\n",
              "      <td>(6) Enhanced surveillance for asymptomatic inb...</td>\n",
              "      <td>618 (14.2%)</td>\n",
              "    </tr>\n",
              "    <tr>\n",
              "      <th>6</th>\n",
              "      <td>(7) Enhanced surveillance for persons with hig...</td>\n",
              "      <td>15 (0.3%)</td>\n",
              "    </tr>\n",
              "    <tr>\n",
              "      <th>7</th>\n",
              "      <td>(8) Private testing for the four high-risk gro...</td>\n",
              "      <td>37 (0.8%)</td>\n",
              "    </tr>\n",
              "    <tr>\n",
              "      <th>8</th>\n",
              "      <td>Total</td>\n",
              "      <td>4361 (100.0%)</td>\n",
              "    </tr>\n",
              "  </tbody>\n",
              "</table>\n",
              "</div>"
            ],
            "text/plain": [
              "                                            Category Number of cases (percentage)\n",
              "0  (1) Cases fulfilling the reporting criteria of...                   336 (7.7%)\n",
              "1  (2) Enhanced laboratory surveillance in public...                  490 (11.2%)\n",
              "2  (3) Enhanced surveillance at Accident and Emer...                 1289 (29.6%)\n",
              "3  (4) Diagnosis / Enhanced surveillance in priva...                  624 (14.3%)\n",
              "4  (5) Medical surveillance / contact tracing by ...                  952 (21.8%)\n",
              "5  (6) Enhanced surveillance for asymptomatic inb...                  618 (14.2%)\n",
              "6  (7) Enhanced surveillance for persons with hig...                    15 (0.3%)\n",
              "7  (8) Private testing for the four high-risk gro...                    37 (0.8%)\n",
              "8                                              Total                4361 (100.0%)"
            ]
          },
          "metadata": {
            "tags": []
          },
          "execution_count": 145
        }
      ]
    },
    {
      "cell_type": "markdown",
      "metadata": {
        "id": "yqaSfVLzBphn",
        "colab_type": "text"
      },
      "source": [
        " ### 5.4 Large clusters with 10 or more cases (english)"
      ]
    },
    {
      "cell_type": "code",
      "metadata": {
        "id": "X3b7vKcUBpAu",
        "colab_type": "code",
        "colab": {
          "base_uri": "https://localhost:8080/",
          "height": 34
        },
        "outputId": "64dc1301-5ba8-4e21-fbf2-ff9bc63eaa37"
      },
      "source": [
        "hk_situation_en_cluster_df.columns"
      ],
      "execution_count": 146,
      "outputs": [
        {
          "output_type": "execute_result",
          "data": {
            "text/plain": [
              "Index(['Cluster', 'Involved case number', 'Number of cases'], dtype='object')"
            ]
          },
          "metadata": {
            "tags": []
          },
          "execution_count": 146
        }
      ]
    },
    {
      "cell_type": "code",
      "metadata": {
        "id": "9mjrTkORNZGj",
        "colab_type": "code",
        "colab": {
          "base_uri": "https://localhost:8080/",
          "height": 1000
        },
        "outputId": "748bb57a-c306-4baf-9bec-81842f26f178"
      },
      "source": [
        "hk_situation_en_cluster_df.head(n=30)"
      ],
      "execution_count": 147,
      "outputs": [
        {
          "output_type": "execute_result",
          "data": {
            "text/html": [
              "<div>\n",
              "<style scoped>\n",
              "    .dataframe tbody tr th:only-of-type {\n",
              "        vertical-align: middle;\n",
              "    }\n",
              "\n",
              "    .dataframe tbody tr th {\n",
              "        vertical-align: top;\n",
              "    }\n",
              "\n",
              "    .dataframe thead th {\n",
              "        text-align: right;\n",
              "    }\n",
              "</style>\n",
              "<table border=\"1\" class=\"dataframe\">\n",
              "  <thead>\n",
              "    <tr style=\"text-align: right;\">\n",
              "      <th></th>\n",
              "      <th>Cluster</th>\n",
              "      <th>Involved case number</th>\n",
              "      <th>Number of cases</th>\n",
              "    </tr>\n",
              "  </thead>\n",
              "  <tbody>\n",
              "    <tr>\n",
              "      <th>0</th>\n",
              "      <td>Diamond Princess Cruise Ship</td>\n",
              "      <td>14, 71, 78, 79, 80, 81, 87, 88, 94, 96, 97</td>\n",
              "      <td>11</td>\n",
              "    </tr>\n",
              "    <tr>\n",
              "      <th>1</th>\n",
              "      <td>Hotpot dinner gathering at Kwun Tong</td>\n",
              "      <td>27, 29, 30, 31, 32, 33, 34, 35, 36, 37, 41, 44...</td>\n",
              "      <td>13</td>\n",
              "    </tr>\n",
              "    <tr>\n",
              "      <th>2</th>\n",
              "      <td>Fook Wai Ching Che in Maylun\\rApartments in No...</td>\n",
              "      <td>64, 65, 70, 73, 74, 76, 77, 83, 84, 86, 89, 91...</td>\n",
              "      <td>19</td>\n",
              "    </tr>\n",
              "    <tr>\n",
              "      <th>3</th>\n",
              "      <td>Travel tour to Egypt / Heng Tai House\\rof Fu H...</td>\n",
              "      <td>119, 120, 121, 123, 124, 125, 126, 127, 129, 140</td>\n",
              "      <td>10</td>\n",
              "    </tr>\n",
              "    <tr>\n",
              "      <th>4</th>\n",
              "      <td>Bar and band cluster</td>\n",
              "      <td>182, 227, 276, 343, 360, 362, 367, 384, 386, 3...</td>\n",
              "      <td>103</td>\n",
              "    </tr>\n",
              "    <tr>\n",
              "      <th>5</th>\n",
              "      <td>Wedding party at Lantau Island</td>\n",
              "      <td>191, 217, 233, 237, 250, 253, 258, 259, 287, 2...</td>\n",
              "      <td>15</td>\n",
              "    </tr>\n",
              "    <tr>\n",
              "      <th>6</th>\n",
              "      <td>Kerry Logistics/ Luk Chuen House</td>\n",
              "      <td>1084, 1085, 1086, 1087, 1088, 1089, 1090, 1091...</td>\n",
              "      <td>12</td>\n",
              "    </tr>\n",
              "    <tr>\n",
              "      <th>7</th>\n",
              "      <td>Bun Kee/ Sun Fat/ Kin Wing</td>\n",
              "      <td>1269, 1283, 1289, 1291, 1295, 1297, 1301, 1304...</td>\n",
              "      <td>46</td>\n",
              "    </tr>\n",
              "    <tr>\n",
              "      <th>8</th>\n",
              "      <td>Kong Tai Care for the Aged Centre</td>\n",
              "      <td>1298, 1302, 1307, 1310, 1311, 1312, 1316, 1321...</td>\n",
              "      <td>46</td>\n",
              "    </tr>\n",
              "    <tr>\n",
              "      <th>9</th>\n",
              "      <td>Ming Chuen House of Shui Chuen O\\rEstate</td>\n",
              "      <td>1294, 1377, 1378, 1379, 1380, 1381, 1382, 1383...</td>\n",
              "      <td>12</td>\n",
              "    </tr>\n",
              "    <tr>\n",
              "      <th>10</th>\n",
              "      <td>Tsz Wan Shan Shopping Centre Green\\rRiver</td>\n",
              "      <td>1430, 1440, 1444, 1445, 1484, 1507, 1508, 1519...</td>\n",
              "      <td>38</td>\n",
              "    </tr>\n",
              "    <tr>\n",
              "      <th>11</th>\n",
              "      <td>Tsz Wan Shan Shopping Centre\\rWindsor</td>\n",
              "      <td>1477, 1514, 1517, 1520, 1534, 1555, 1567, 1569...</td>\n",
              "      <td>26</td>\n",
              "    </tr>\n",
              "    <tr>\n",
              "      <th>0</th>\n",
              "      <td>Grand Plaza Taoheung</td>\n",
              "      <td>1632, 1652, 1721, 1765, 1774, 1797, 1820, 1832...</td>\n",
              "      <td>41</td>\n",
              "    </tr>\n",
              "    <tr>\n",
              "      <th>0</th>\n",
              "      <td>Tuen Mun Central Square Fulum\\rRestaurant</td>\n",
              "      <td>1739, 1740, 1743, 1783, 1951, 1952, 1988, 1993...</td>\n",
              "      <td>44</td>\n",
              "    </tr>\n",
              "    <tr>\n",
              "      <th>1</th>\n",
              "      <td>Metroplaza Chiuchow Garden</td>\n",
              "      <td>1730, 1770, 1786, 1838, 1841, 1842, 1862, 1912...</td>\n",
              "      <td>20</td>\n",
              "    </tr>\n",
              "    <tr>\n",
              "      <th>2</th>\n",
              "      <td>Tsz Wan Shan Shopping\\rCentre Deluxe Cuisine</td>\n",
              "      <td>1365, 1393, 1424, 1425, 1509, 1510, 1515, 1519...</td>\n",
              "      <td>32</td>\n",
              "    </tr>\n",
              "    <tr>\n",
              "      <th>3</th>\n",
              "      <td>Metropark Hotel Mongkok Victoria\\rHarbour Rest...</td>\n",
              "      <td>1483, 1613, 1768, 1799, 1806, 1896, 1906, 1919...</td>\n",
              "      <td>15</td>\n",
              "    </tr>\n",
              "    <tr>\n",
              "      <th>4</th>\n",
              "      <td>The Salvation Army Lung Hang\\rResidence For Se...</td>\n",
              "      <td>2052, 2224, 2304, 2305, 2366, 2367, 2368, 2404...</td>\n",
              "      <td>14</td>\n",
              "    </tr>\n",
              "    <tr>\n",
              "      <th>5</th>\n",
              "      <td>Cornwall Elderly’s Home (Golden\\rBranch), Tuen...</td>\n",
              "      <td>2254, 2477, 2543, 2586, 2587, 2588, 2589, 2590...</td>\n",
              "      <td>40</td>\n",
              "    </tr>\n",
              "    <tr>\n",
              "      <th>6</th>\n",
              "      <td>Kin Shing (Leung's) General\\rContractors Ltd./...</td>\n",
              "      <td>2396, 2434, 2478, 2479, 2535, 2536, 2550, 2635...</td>\n",
              "      <td>32</td>\n",
              "    </tr>\n",
              "    <tr>\n",
              "      <th>7</th>\n",
              "      <td>Star Global Direct Sales</td>\n",
              "      <td>2289, 2476, 2546, 2722, 2765, 2935, 2984, 3102...</td>\n",
              "      <td>56</td>\n",
              "    </tr>\n",
              "    <tr>\n",
              "      <th>8</th>\n",
              "      <td>Sheung Shui Slaughter House</td>\n",
              "      <td>2671, 2727, 2770, 2806, 2849, 2952, 3069, 3095...</td>\n",
              "      <td>20</td>\n",
              "    </tr>\n",
              "    <tr>\n",
              "      <th>9</th>\n",
              "      <td>Construction site at Kong Nga Po,\\rMan Kam To</td>\n",
              "      <td>3080, 3181, 3182, 3337, 3338, 3379, 3388, 3436...</td>\n",
              "      <td>23</td>\n",
              "    </tr>\n",
              "    <tr>\n",
              "      <th>10</th>\n",
              "      <td>Hung Hom Market</td>\n",
              "      <td>1877, 2283, 2316, 2341, 2888, 3185, 3188, 3290...</td>\n",
              "      <td>13</td>\n",
              "    </tr>\n",
              "    <tr>\n",
              "      <th>11</th>\n",
              "      <td>Sham Shui Po King Fok Nursing\\rHome</td>\n",
              "      <td>3068, 3502, 3584, 3585, 3637, 3707, 3733, 3734...</td>\n",
              "      <td>14</td>\n",
              "    </tr>\n",
              "    <tr>\n",
              "      <th>0</th>\n",
              "      <td>Kwai Tsing Container Terminals</td>\n",
              "      <td>2189, 2987, 3313, 3742, 3764, 3977, 4003, 4037...</td>\n",
              "      <td>25</td>\n",
              "    </tr>\n",
              "  </tbody>\n",
              "</table>\n",
              "</div>"
            ],
            "text/plain": [
              "                                              Cluster  ... Number of cases\n",
              "0                        Diamond Princess Cruise Ship  ...              11\n",
              "1                Hotpot dinner gathering at Kwun Tong  ...              13\n",
              "2   Fook Wai Ching Che in Maylun\\rApartments in No...  ...              19\n",
              "3   Travel tour to Egypt / Heng Tai House\\rof Fu H...  ...              10\n",
              "4                                Bar and band cluster  ...             103\n",
              "5                      Wedding party at Lantau Island  ...              15\n",
              "6                    Kerry Logistics/ Luk Chuen House  ...              12\n",
              "7                          Bun Kee/ Sun Fat/ Kin Wing  ...              46\n",
              "8                   Kong Tai Care for the Aged Centre  ...              46\n",
              "9            Ming Chuen House of Shui Chuen O\\rEstate  ...              12\n",
              "10          Tsz Wan Shan Shopping Centre Green\\rRiver  ...              38\n",
              "11              Tsz Wan Shan Shopping Centre\\rWindsor  ...              26\n",
              "0                                Grand Plaza Taoheung  ...              41\n",
              "0           Tuen Mun Central Square Fulum\\rRestaurant  ...              44\n",
              "1                          Metroplaza Chiuchow Garden  ...              20\n",
              "2        Tsz Wan Shan Shopping\\rCentre Deluxe Cuisine  ...              32\n",
              "3   Metropark Hotel Mongkok Victoria\\rHarbour Rest...  ...              15\n",
              "4   The Salvation Army Lung Hang\\rResidence For Se...  ...              14\n",
              "5   Cornwall Elderly’s Home (Golden\\rBranch), Tuen...  ...              40\n",
              "6   Kin Shing (Leung's) General\\rContractors Ltd./...  ...              32\n",
              "7                            Star Global Direct Sales  ...              56\n",
              "8                         Sheung Shui Slaughter House  ...              20\n",
              "9       Construction site at Kong Nga Po,\\rMan Kam To  ...              23\n",
              "10                                    Hung Hom Market  ...              13\n",
              "11                Sham Shui Po King Fok Nursing\\rHome  ...              14\n",
              "0                      Kwai Tsing Container Terminals  ...              25\n",
              "\n",
              "[26 rows x 3 columns]"
            ]
          },
          "metadata": {
            "tags": []
          },
          "execution_count": 147
        }
      ]
    },
    {
      "cell_type": "markdown",
      "metadata": {
        "id": "kNsxpM9T1w-K",
        "colab_type": "text"
      },
      "source": [
        "## 6. Export to pickle"
      ]
    },
    {
      "cell_type": "code",
      "metadata": {
        "id": "l0lhqy0y1wLG",
        "colab_type": "code",
        "colab": {}
      },
      "source": [
        "PIK = 'raw-en.dat'"
      ],
      "execution_count": 148,
      "outputs": []
    },
    {
      "cell_type": "code",
      "metadata": {
        "id": "3MPs_gdj2OL9",
        "colab_type": "code",
        "colab": {}
      },
      "source": [
        "pickle_file = open(PIK, 'wb')"
      ],
      "execution_count": 149,
      "outputs": []
    },
    {
      "cell_type": "code",
      "metadata": {
        "id": "XOwkz2QJ2SYh",
        "colab_type": "code",
        "colab": {}
      },
      "source": [
        "pickle.dump(hk_situation_en_new_df, pickle_file)"
      ],
      "execution_count": 150,
      "outputs": []
    },
    {
      "cell_type": "code",
      "metadata": {
        "id": "xonxlrc_2aY2",
        "colab_type": "code",
        "colab": {}
      },
      "source": [
        "pickle.dump(hk_situation_en_old_df, pickle_file)"
      ],
      "execution_count": 151,
      "outputs": []
    },
    {
      "cell_type": "code",
      "metadata": {
        "id": "t33BIV6U9pGQ",
        "colab_type": "code",
        "colab": {}
      },
      "source": [
        "pickle.dump(detection_mode_df, pickle_file)"
      ],
      "execution_count": 152,
      "outputs": []
    },
    {
      "cell_type": "code",
      "metadata": {
        "id": "DAeLLdcwOImd",
        "colab_type": "code",
        "colab": {}
      },
      "source": [
        "pickle.dump(hk_situation_en_cluster_df, pickle_file)"
      ],
      "execution_count": 153,
      "outputs": []
    },
    {
      "cell_type": "code",
      "metadata": {
        "id": "QNUYVaUI2bi-",
        "colab_type": "code",
        "colab": {}
      },
      "source": [
        "pickle_file.close()"
      ],
      "execution_count": 154,
      "outputs": []
    },
    {
      "cell_type": "code",
      "metadata": {
        "id": "vs2gviydkSjE",
        "colab_type": "code",
        "colab": {}
      },
      "source": [
        "for c in hk_situation_en_new_df.columns[1:]:\n",
        "  hk_situation_en_new_df[c] = hk_situation_en_new_df[c].astype('str')"
      ],
      "execution_count": null,
      "outputs": []
    },
    {
      "cell_type": "code",
      "metadata": {
        "id": "3FACoaVOblbq",
        "colab_type": "code",
        "colab": {}
      },
      "source": [
        "hk_situation_en_new_df.to_parquet('raw-new-en.parquet')"
      ],
      "execution_count": 182,
      "outputs": []
    },
    {
      "cell_type": "code",
      "metadata": {
        "id": "9gIZhFtljLzU",
        "colab_type": "code",
        "colab": {}
      },
      "source": [
        "for c in hk_situation_en_old_df.columns[1:]:\n",
        "  hk_situation_en_old_df[c] = hk_situation_en_old_df[c].astype('str')"
      ],
      "execution_count": 183,
      "outputs": []
    },
    {
      "cell_type": "code",
      "metadata": {
        "id": "EIp1tQuQjN67",
        "colab_type": "code",
        "colab": {}
      },
      "source": [
        "hk_situation_en_old_df.to_parquet('raw-old-en.parquet')"
      ],
      "execution_count": 184,
      "outputs": []
    },
    {
      "cell_type": "code",
      "metadata": {
        "id": "Gifs6wnBlDyH",
        "colab_type": "code",
        "colab": {}
      },
      "source": [
        "for c in detection_mode_df.columns:\n",
        "  detection_mode_df[c] = detection_mode_df[c].astype('str')"
      ],
      "execution_count": 187,
      "outputs": []
    },
    {
      "cell_type": "code",
      "metadata": {
        "id": "s8XL4fE7dj59",
        "colab_type": "code",
        "colab": {}
      },
      "source": [
        "detection_mode_df.to_parquet('raw-mode-en.parquet')"
      ],
      "execution_count": 188,
      "outputs": []
    },
    {
      "cell_type": "code",
      "metadata": {
        "id": "pG-rIUVjlZAp",
        "colab_type": "code",
        "colab": {}
      },
      "source": [
        "for c in hk_situation_en_cluster_df.columns:\n",
        "  hk_situation_en_cluster_df[c] = hk_situation_en_cluster_df[c].astype('str')"
      ],
      "execution_count": 190,
      "outputs": []
    },
    {
      "cell_type": "code",
      "metadata": {
        "id": "80cFgfmLlS7w",
        "colab_type": "code",
        "colab": {}
      },
      "source": [
        "hk_situation_en_cluster_df.to_parquet('raw-cluster-en.parquet')"
      ],
      "execution_count": 191,
      "outputs": []
    }
  ]
}